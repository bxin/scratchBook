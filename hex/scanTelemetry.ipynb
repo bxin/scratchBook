{
 "cells": [
  {
   "cell_type": "markdown",
   "metadata": {},
   "source": [
    "xml version: b37190d"
   ]
  },
  {
   "cell_type": "code",
   "execution_count": 1,
   "metadata": {},
   "outputs": [],
   "source": [
    "xmlFile = 'Hexapod_Telemetry.xml'"
   ]
  },
  {
   "cell_type": "code",
   "execution_count": 2,
   "metadata": {},
   "outputs": [],
   "source": [
    "import numpy as np\n",
    "from astropy.time import Time\n",
    "from datetime import timedelta, datetime\n",
    "from lsst_efd_client import EfdClient\n",
    "\n",
    "import pandas as pd\n",
    "\n",
    "pd.set_option('display.max_rows', None)"
   ]
  },
  {
   "cell_type": "code",
   "execution_count": 7,
   "metadata": {},
   "outputs": [],
   "source": [
    "client = EfdClient('summit_efd')\n",
    "csc_index = 1\n",
    "\n",
    "#start = Time('2020-11-03T11:41:30') #this is UTC\n",
    "#end = start+timedelta(days=1)\n",
    "end = Time(datetime.now())\n",
    "end = Time('2020-11-06T17:20:30') #this is UTC\n",
    "start = end - timedelta(seconds=5)\n",
    "#import astropy\n",
    "#astropy.utils.data.clear_download_cache()"
   ]
  },
  {
   "cell_type": "code",
   "execution_count": 8,
   "metadata": {},
   "outputs": [
    {
     "name": "stdout",
     "output_type": "stream",
     "text": [
      "Hexapod_Actuators Calibrated 6\n",
      "Hexapod_Actuators Raw 6\n",
      "Hexapod_Application Demand 6\n",
      "Hexapod_Application Error 6\n",
      "Hexapod_Application Position 6\n",
      "Hexapod_Electrical CopleyStatusWordDrive 6\n",
      "Hexapod_Electrical CopleyLatchingFaultStatus 6\n",
      "7\n"
     ]
    }
   ],
   "source": [
    "fid = open(xmlFile)\n",
    "\n",
    "topics = dict()\n",
    "params = dict()\n",
    "counts = dict()\n",
    "lastT = dict()\n",
    "values= dict()\n",
    "nline = 0\n",
    "for line in fid:\n",
    "    if '<EFDB_Topic>' in line:\n",
    "        i = line.find('<EFDB')\n",
    "        topic = line[i+12:-14]\n",
    "        t1, t2 = topic.split('_')\n",
    "        dfa = await client.select_time_series('lsst.sal.%s.%s'%(t1,t2), '*', \n",
    "                                     (start-timedelta(seconds=37)).tai, (end-timedelta(seconds=37)).tai, csc_index)\n",
    "    elif '<EFDB_Name>' in line:\n",
    "        i = line.find('<EFDB')\n",
    "        param = line[i+11:-13]\n",
    "        nline+=1\n",
    "        idx = '%d'%nline\n",
    "    elif '<Count>' in line:\n",
    "        i = line.find('<C')\n",
    "        count = line[i+7:-9]\n",
    "        print(topic, param,count)\n",
    "        topics[idx] = topic\n",
    "        params[idx] = param\n",
    "        counts[idx] = count\n",
    "        \n",
    "        c = int(count)\n",
    "        try:\n",
    "            lastT[idx] = pd.to_datetime(dfa.private_sndStamp[-1], unit='s')\n",
    "            if c == 1:\n",
    "                values[idx] = dfa[param][-1]\n",
    "            else:\n",
    "                aa = [dfa['%s%d'%(param,i)][-1] for i in range(c)]\n",
    "                values[idx] = np.mean(aa)\n",
    "                if np.isnan(values[idx]):\n",
    "                    print(aa)\n",
    "        except:\n",
    "            values[idx] = np.nan\n",
    "    #if nline>7:\n",
    "    #    break\n",
    "print(nline)\n",
    "fid.close()"
   ]
  },
  {
   "cell_type": "code",
   "execution_count": 9,
   "metadata": {},
   "outputs": [],
   "source": [
    "frame = {'Topic': topics, 'Name': params,\n",
    "         'Count': counts, 'Last Timestamp (UTC)': lastT,\n",
    "         'value (average)': values}\n",
    "d = pd.DataFrame(frame)"
   ]
  },
  {
   "cell_type": "code",
   "execution_count": 10,
   "metadata": {},
   "outputs": [
    {
     "data": {
      "text/html": [
       "<div>\n",
       "<style scoped>\n",
       "    .dataframe tbody tr th:only-of-type {\n",
       "        vertical-align: middle;\n",
       "    }\n",
       "\n",
       "    .dataframe tbody tr th {\n",
       "        vertical-align: top;\n",
       "    }\n",
       "\n",
       "    .dataframe thead th {\n",
       "        text-align: right;\n",
       "    }\n",
       "</style>\n",
       "<table border=\"1\" class=\"dataframe\">\n",
       "  <thead>\n",
       "    <tr style=\"text-align: right;\">\n",
       "      <th></th>\n",
       "      <th>Topic</th>\n",
       "      <th>Name</th>\n",
       "      <th>Count</th>\n",
       "      <th>Last Timestamp (UTC)</th>\n",
       "      <th>value (average)</th>\n",
       "    </tr>\n",
       "  </thead>\n",
       "  <tbody>\n",
       "    <tr>\n",
       "      <th>1</th>\n",
       "      <td>Hexapod_Actuators</td>\n",
       "      <td>Calibrated</td>\n",
       "      <td>6</td>\n",
       "      <td>2020-11-06 17:20:29.997608423</td>\n",
       "      <td>-1.160603e+03</td>\n",
       "    </tr>\n",
       "    <tr>\n",
       "      <th>2</th>\n",
       "      <td>Hexapod_Actuators</td>\n",
       "      <td>Raw</td>\n",
       "      <td>6</td>\n",
       "      <td>2020-11-06 17:20:29.997608423</td>\n",
       "      <td>3.883940e+07</td>\n",
       "    </tr>\n",
       "    <tr>\n",
       "      <th>3</th>\n",
       "      <td>Hexapod_Application</td>\n",
       "      <td>Demand</td>\n",
       "      <td>6</td>\n",
       "      <td>2020-11-06 17:20:29.999879837</td>\n",
       "      <td>5.533378e+02</td>\n",
       "    </tr>\n",
       "    <tr>\n",
       "      <th>4</th>\n",
       "      <td>Hexapod_Application</td>\n",
       "      <td>Error</td>\n",
       "      <td>6</td>\n",
       "      <td>2020-11-06 17:20:29.999879837</td>\n",
       "      <td>4.162672e-01</td>\n",
       "    </tr>\n",
       "    <tr>\n",
       "      <th>5</th>\n",
       "      <td>Hexapod_Application</td>\n",
       "      <td>Position</td>\n",
       "      <td>6</td>\n",
       "      <td>2020-11-06 17:20:29.999879837</td>\n",
       "      <td>5.537541e+02</td>\n",
       "    </tr>\n",
       "    <tr>\n",
       "      <th>6</th>\n",
       "      <td>Hexapod_Electrical</td>\n",
       "      <td>CopleyStatusWordDrive</td>\n",
       "      <td>6</td>\n",
       "      <td>2020-11-06 17:20:29.952364206</td>\n",
       "      <td>1.841000e+03</td>\n",
       "    </tr>\n",
       "    <tr>\n",
       "      <th>7</th>\n",
       "      <td>Hexapod_Electrical</td>\n",
       "      <td>CopleyLatchingFaultStatus</td>\n",
       "      <td>6</td>\n",
       "      <td>2020-11-06 17:20:29.952364206</td>\n",
       "      <td>0.000000e+00</td>\n",
       "    </tr>\n",
       "  </tbody>\n",
       "</table>\n",
       "</div>"
      ],
      "text/plain": [
       "                 Topic                       Name Count  \\\n",
       "1    Hexapod_Actuators                 Calibrated     6   \n",
       "2    Hexapod_Actuators                        Raw     6   \n",
       "3  Hexapod_Application                     Demand     6   \n",
       "4  Hexapod_Application                      Error     6   \n",
       "5  Hexapod_Application                   Position     6   \n",
       "6   Hexapod_Electrical      CopleyStatusWordDrive     6   \n",
       "7   Hexapod_Electrical  CopleyLatchingFaultStatus     6   \n",
       "\n",
       "           Last Timestamp (UTC)  value (average)  \n",
       "1 2020-11-06 17:20:29.997608423    -1.160603e+03  \n",
       "2 2020-11-06 17:20:29.997608423     3.883940e+07  \n",
       "3 2020-11-06 17:20:29.999879837     5.533378e+02  \n",
       "4 2020-11-06 17:20:29.999879837     4.162672e-01  \n",
       "5 2020-11-06 17:20:29.999879837     5.537541e+02  \n",
       "6 2020-11-06 17:20:29.952364206     1.841000e+03  \n",
       "7 2020-11-06 17:20:29.952364206     0.000000e+00  "
      ]
     },
     "execution_count": 10,
     "metadata": {},
     "output_type": "execute_result"
    }
   ],
   "source": [
    "d"
   ]
  },
  {
   "cell_type": "code",
   "execution_count": null,
   "metadata": {},
   "outputs": [],
   "source": []
  }
 ],
 "metadata": {
  "kernelspec": {
   "display_name": "LSST",
   "language": "python",
   "name": "lsst"
  },
  "language_info": {
   "codemirror_mode": {
    "name": "ipython",
    "version": 3
   },
   "file_extension": ".py",
   "mimetype": "text/x-python",
   "name": "python",
   "nbconvert_exporter": "python",
   "pygments_lexer": "ipython3",
   "version": "3.7.8"
  }
 },
 "nbformat": 4,
 "nbformat_minor": 4
}
