{
 "cells": [
  {
   "cell_type": "markdown",
   "metadata": {},
   "source": [
    "### For DECam -\n",
    "### This notebook estimates the maximum number of electrons per pixel the spaceX satellites would produce on DECam CCDs.\n",
    "#### We assume a satellite moves at 0.5 deg per sec. Its trail is a Gaussian with FWHM = $\\sqrt{1.5^2+1.2^2}$ arcsec, where 1.2 arcsec is the DECam seeing."
   ]
  },
  {
   "cell_type": "code",
   "execution_count": 1,
   "metadata": {},
   "outputs": [
    {
     "name": "stdout",
     "output_type": "stream",
     "text": [
      "fwhm = 2.40 arcsec\n"
     ]
    }
   ],
   "source": [
    "import numpy as np\n",
    "fwhm = 2.4 #np.sqrt(1.5**2+1.2**2) #in arcsec, 4/550e3/np.pi*180*3600 = 1.50 arcsec, DECam PSF FWHM = 1.2 arcsec\n",
    "angularV = 0.5*60 # in deg/min, 0.5 deg/sec\n",
    "print('fwhm = %.2f arcsec'%fwhm)"
   ]
  },
  {
   "cell_type": "code",
   "execution_count": 2,
   "metadata": {},
   "outputs": [],
   "source": [
    "from __future__ import print_function\n",
    "import pandas as pd\n",
    "import lsst.syseng.throughputs as st\n",
    "from lsst.sims.photUtils import PhotometricParameters, Sed, Bandpass, calcTotalNonSourceNoiseSq, calcM5\n",
    "import galsim\n",
    "import matplotlib.pyplot as plt\n",
    "import os\n",
    "from lsst.utils import getPackageDir \n",
    "import sqlite3"
   ]
  },
  {
   "cell_type": "markdown",
   "metadata": {},
   "source": [
    "### Full well ranges from 130K to 210K electrons but is typically near 180Ke-.\n",
    "from http://www.ctio.noao.edu/noao/sites/default/files/DECam/DECamUG_v2.0.5-ARW.pdf"
   ]
  },
  {
   "cell_type": "code",
   "execution_count": 3,
   "metadata": {},
   "outputs": [],
   "source": [
    "full_well = 180e3  #typical for e2v sensors. ITL is typically 200k. We try to be conservative and use the smaller.\n",
    "full_well2 = 130e3  #some sensors can be as low as 100K e-."
   ]
  },
  {
   "cell_type": "markdown",
   "metadata": {},
   "source": [
    "## We first determine what fraction of the flux will be in the center/brightest pixel"
   ]
  },
  {
   "cell_type": "code",
   "execution_count": 4,
   "metadata": {},
   "outputs": [],
   "source": [
    "#Assume it moves along pixel grid. The time its image center moves from one pixel center to the next is dt\n",
    "pixel_scale = 0.2637 #arcsec/pixel, from http://www.ctio.noao.edu/noao/content/DECam-What\n",
    "dt = pixel_scale/(angularV/60*3600) # in seconds"
   ]
  },
  {
   "cell_type": "markdown",
   "metadata": {},
   "source": [
    "#### Approximate it as a source which appears at one pixel center for dt, then disappears from there, and instantly appears at the next pixel center for dt. During each dt, the source deposit a flux profile that is a Gaussian with FWHM of 1.92 arcsec.\n",
    "So we are just overlapping Gaussians whose centers are 0.2637 arcsec apart. Considering that the FWHM is much larger than pixel size, the top of the Gaussians are pretty flat. So this should be a pretty good approximation.\n",
    "This slightly overestimates the flux, because having the Gaussian moving across the pixel in dt would yield a smaller flux for the pixel, compared to when the center of the Gaussian is overlapped with the pixel center during dt."
   ]
  },
  {
   "cell_type": "code",
   "execution_count": 5,
   "metadata": {},
   "outputs": [
    {
     "name": "stdout",
     "output_type": "stream",
     "text": [
      "0.10293347445479589 0.00014649999999999998\n"
     ]
    },
    {
     "data": {
      "image/png": "[encoded data removed]",
      "text/plain": [
       "<Figure size 432x288 with 1 Axes>"
      ]
     },
     "metadata": {
      "needs_background": "light"
     },
     "output_type": "display_data"
    }
   ],
   "source": [
    "stamp_size = 101\n",
    "psf = galsim.Gaussian(fwhm=fwhm)\n",
    "img = galsim.ImageD(stamp_size, stamp_size, scale=pixel_scale)\n",
    "psf = psf.withFlux(1) #unit flux\n",
    "psf.drawImage(image=img)\n",
    "ratio = sum(img.array[50,:])/np.sum(img.array)\n",
    "plt.plot(img.array[50,:])\n",
    "print(ratio, dt)\n",
    "plt.grid()"
   ]
  },
  {
   "cell_type": "code",
   "execution_count": 6,
   "metadata": {},
   "outputs": [
    {
     "name": "stdout",
     "output_type": "stream",
     "text": [
      "0.10291816978594008\n"
     ]
    }
   ],
   "source": [
    "#what if the trail is 45 deg to the pixel grid?\n",
    "# dt will be 1.414 time longer, would that give a larger ratio?\n",
    "print(sum(np.diag(img.array))*1.414)\n",
    "# it is the same. Bingo. That is it."
   ]
  },
  {
   "cell_type": "markdown",
   "metadata": {},
   "source": [
    "### Baseline DECam system, as defined in http://www.ctio.noao.edu/noao/content/decam-filter-information\n",
    "More specifically, we use http://www.ctio.noao.edu/noao/sites/default/files/DECam/STD_BANDPASSES_DR1.dat\n",
    "\n",
    "However, according to Zeljko:\n",
    "\n",
    "Regarding DECam throughput, I talked to Gary Bernstein and Eli Rykoff today. They\n",
    "say that the throughput normalization is arbitrary on those plots at\n",
    "http://www.ctio.noao.edu/noao/content/decam-filter-information\n",
    "(but band-to-band normalization is correct). What they do when they need throughput \n",
    "is to re-normalize it so that the mean i band throughput is 1, and then multiply all bands \n",
    "by 0.52. This procedure gives the mean DECam g band throughput of about 0.35. "
   ]
  },
  {
   "cell_type": "code",
   "execution_count": 7,
   "metadata": {},
   "outputs": [
    {
     "name": "stdout",
     "output_type": "stream",
     "text": [
      "i-band wavelen range:  713.5 853.5\n",
      "scale factor = 0.58\n"
     ]
    }
   ],
   "source": [
    "filterlist = ('g', 'r', 'i', 'z','y')\n",
    "thru = np.loadtxt('STD_BANDPASSES_DR1.dat')\n",
    "wavelen = thru[:,0]/10  #convert Angstrom to nanometer\n",
    "iband1 = np.argmax(thru[:,3]>0.8)\n",
    "iband2 = len(wavelen) - np.argmax(thru[::-1,3]>0.8)-1\n",
    "print('i-band wavelen range: ', wavelen[iband1], wavelen[iband2])\n",
    "scalef = 1./np.mean(thru[iband1:iband2+1,3])*0.52\n",
    "print('scale factor = %.2f'%scalef)\n",
    "thru[:,1:-1] = thru[:,1:-1] * scalef"
   ]
  },
  {
   "cell_type": "code",
   "execution_count": 8,
   "metadata": {},
   "outputs": [],
   "source": [
    "hardware = {}\n",
    "system = {}\n",
    "for i,f in enumerate(filterlist):\n",
    "    hardware[f] = Bandpass()\n",
    "    system[f] = Bandpass()\n",
    "    hardware[f].setBandpass(wavelen, thru[:,i+1]/thru[:,-1]) #first col is wavelength, skip it\n",
    "    system[f].setBandpass(wavelen, thru[:,i+1])"
   ]
  },
  {
   "cell_type": "markdown",
   "metadata": {},
   "source": [
    "### Make sure the throughputs match http://www.ctio.noao.edu/noao/content/decam-filter-information"
   ]
  },
  {
   "cell_type": "code",
   "execution_count": 9,
   "metadata": {},
   "outputs": [
    {
     "data": {
      "image/png": "[encoded data removed]",
      "text/plain": [
       "<Figure size 576x360 with 1 Axes>"
      ]
     },
     "metadata": {
      "needs_background": "light"
     },
     "output_type": "display_data"
    }
   ],
   "source": [
    "plt.figure(figsize=(8, 5))\n",
    "st.plotBandpasses(system, newfig=False, addlegend=False)\n",
    "st.plotBandpasses(hardware, linestyle=':', newfig=False, addlegend=True)\n",
    "plt.ylim([0, 1.1])\n",
    "plt.title('dotted = hardware, solid = system (with atm)');"
   ]
  },
  {
   "cell_type": "markdown",
   "metadata": {},
   "source": [
    "### DECam photometric parameters\n",
    "For clarify, we ignore Y-band in this notebook, because DES uses exposure times of 90s for griz and 45s for Y band\n",
    "Ref: DES DR1 paper https://arxiv.org/abs/1801.03181"
   ]
  },
  {
   "cell_type": "code",
   "execution_count": 10,
   "metadata": {},
   "outputs": [],
   "source": [
    "filterlist = ('g', 'r', 'i', 'z')"
   ]
  },
  {
   "cell_type": "code",
   "execution_count": 11,
   "metadata": {},
   "outputs": [],
   "source": [
    "# http://www.ctio.noao.edu/noao/content/DECam-What\n",
    "# http://www.ctio.noao.edu/noao/content/Basic-Optical-Parameters\n",
    "readnoise=7 \n",
    "othernoise=0 \n",
    "darkcurrent=25/3600 # convert ~<25 e-/pixel/hr (spec) to e-/pixel/sec\n",
    "effarea=10.014*1e4 # = np.pi*((3.934/2*100)**2 - (1.651/2*100)**2) #syseng_throughput uses mm**2\n",
    "X=1.0\n",
    "\n",
    "# set exposure to dt\n",
    "photParams_dt = PhotometricParameters(exptime=dt, nexp=1, platescale=pixel_scale,\n",
    "                                           gain=1.0, effarea=effarea, readnoise=readnoise,\n",
    "                                           othernoise=othernoise, darkcurrent=darkcurrent)\n",
    "# typical DES exposure time is 90s. See https://arxiv.org/pdf/1504.02900.pdf\n",
    "photParams_std = PhotometricParameters(exptime=90, nexp=1, platescale=pixel_scale,\n",
    "                                           gain=1.0, effarea=effarea, readnoise=readnoise,\n",
    "                                           othernoise=othernoise, darkcurrent=darkcurrent)\n",
    "#for calculating zero point\n",
    "photParams_zp = PhotometricParameters(exptime=1, nexp=1, platescale=pixel_scale,\n",
    "                                           gain=1.0, effarea=effarea, readnoise=readnoise,\n",
    "                                           othernoise=othernoise, darkcurrent=darkcurrent)"
   ]
  },
  {
   "cell_type": "markdown",
   "metadata": {},
   "source": [
    "### Set up the dataframe"
   ]
  },
  {
   "cell_type": "code",
   "execution_count": 12,
   "metadata": {},
   "outputs": [],
   "source": [
    "properties = ['SatLim']\n",
    "d = pd.DataFrame(index=filterlist, columns=properties, dtype='float')"
   ]
  },
  {
   "cell_type": "markdown",
   "metadata": {},
   "source": [
    "### Satellites have solar SED"
   ]
  },
  {
   "cell_type": "code",
   "execution_count": 13,
   "metadata": {},
   "outputs": [
    {
     "data": {
      "image/png": "[encoded data removed]",
      "text/plain": [
       "<Figure size 432x288 with 1 Axes>"
      ]
     },
     "metadata": {
      "needs_background": "light"
     },
     "output_type": "display_data"
    }
   ],
   "source": [
    "satellite = Sed()\n",
    "satellite.readSED_flambda(os.path.join(getPackageDir('sims_movingObjects'),\n",
    "                                             'data', 'kurucz_sun.gz'))\n",
    "satellite.flambdaTofnu()\n",
    "plt.plot(satellite.wavelen, satellite.fnu)\n",
    "plt.xlabel('Wavelength (nm)')\n",
    "plt.ylabel(r'Spectral energy ($F_\\nu(\\lambda)$)')\n",
    "plt.xlim([0, 5000])\n",
    "plt.grid()"
   ]
  },
  {
   "cell_type": "markdown",
   "metadata": {},
   "source": [
    "#### We are interested in twilight (-19 deg sun) and at 50 deg zenith angle.\n",
    "We use OpSim baseline v1.3 data based found on http://astro-lsst-01.astro.washington.edu:8081/?runId=1\n",
    "More specifically, http://astro-lsst-01.astro.washington.edu:8081/fbs_db/footprints/baseline_v1.3_10yrs.db"
   ]
  },
  {
   "cell_type": "code",
   "execution_count": 14,
   "metadata": {},
   "outputs": [],
   "source": [
    "conn = sqlite3.connect('baseline_v1.3_10yrs.db')\n",
    "df = pd.read_sql('select sunAlt, moonAlt, skyBrightness, altitude, filter from summaryallprops', conn)\n",
    "conn.close()\n",
    "#for dealing with the opsim db, see example by Peter Yoachim\n",
    "# https://github.com/lsst-sims/sims_featureScheduler_runs1.4/blob/master/baseline/Skybrightnesses.ipynb"
   ]
  },
  {
   "cell_type": "code",
   "execution_count": 15,
   "metadata": {},
   "outputs": [
    {
     "name": "stdout",
     "output_type": "stream",
     "text": [
      "Depending on where the moon is, sky brightness varies -\n",
      "g: between 22.08 and 18.93, median = 21.94\n",
      "r: between 20.98 and 18.36, median = 20.62\n",
      "i: between 20.15 and 17.36, median = 19.41\n",
      "z: between 19.11 and 17.34, median = 18.49\n"
     ]
    }
   ],
   "source": [
    "skyTwilight = {}\n",
    "print('Depending on where the moon is, sky brightness varies -')\n",
    "for f in filterlist:\n",
    "    good = np.where((df['sunAlt'].values > -19.) & (df['filter'] == f) &\n",
    "                   (df['altitude'].values>35) & (df['altitude'].values<45))  #zenith 50, altitude 40, we take +/-5 deg.\n",
    "    val = df['skyBrightness'].values[good]\n",
    "    skyTwilight[f] = np.median(val)\n",
    "    print('%s: between %.2f and %.2f, median = %.2f'%(f, val.max(), val.min(), skyTwilight[f]))"
   ]
  },
  {
   "cell_type": "code",
   "execution_count": 16,
   "metadata": {},
   "outputs": [],
   "source": [
    "def twilightSkyMag2Count(skyMag, f, hardware, photParams):\n",
    "    '''\n",
    "    inputs:\n",
    "        skyMag is the sky magnitude (bright sky has solar SED)\n",
    "        f is the filter band\n",
    "        hardware: an bandpass object as defined in the syseng_throughput package\n",
    "        photParams: an PhotometricParameters object as defined in the syseng_throughput package\n",
    "    output:\n",
    "        skycount in each pixel\n",
    "    '''\n",
    "    twilightSky = Sed()\n",
    "    twilightSky.readSED_flambda(os.path.join(getPackageDir('sims_movingObjects'),\n",
    "                                             'data', 'kurucz_sun.gz'))\n",
    "    fNorm = twilightSky.calcFluxNorm(skyMag, hardware)\n",
    "    twilightSky.multiplyFluxNorm(fNorm)\n",
    "    #print('bright %.2e'%fNorm)\n",
    "    skyCount = twilightSky.calcADU(hardware, photParams=photParams)* photParams.platescale**2\n",
    "    return fNorm, skyCount"
   ]
  },
  {
   "cell_type": "markdown",
   "metadata": {},
   "source": [
    "### Calculate the Skycounts expected in each bandpass."
   ]
  },
  {
   "cell_type": "code",
   "execution_count": 17,
   "metadata": {},
   "outputs": [
    {
     "name": "stdout",
     "output_type": "stream",
     "text": [
      "g: sky counts (e-/pixel) = 685.69\n",
      "r: sky counts (e-/pixel) = 2352.24\n",
      "i: sky counts (e-/pixel) = 6511.39\n",
      "z: sky counts (e-/pixel) = 12152.48\n"
     ]
    }
   ],
   "source": [
    "skyCounts = {}\n",
    "for f in filterlist:\n",
    "    fNorm, skyCounts[f] = twilightSkyMag2Count(skyTwilight[f], f, hardware[f], photParams_std)\n",
    "    print('%s: sky counts (e-/pixel) = %.2f'%(f, skyCounts[f]))"
   ]
  },
  {
   "cell_type": "code",
   "execution_count": 18,
   "metadata": {},
   "outputs": [],
   "source": [
    "#LSST standard dark sky\n",
    "#skyCounts = {}\n",
    "#darksky = Sed()\n",
    "#darksky.readSED_flambda(os.path.join(getPackageDir('syseng_throughputs'),\n",
    "#                                             'siteProperties', 'darksky.dat'))\n",
    "#for f in filterlist:\n",
    "#    skyCounts[f] = darksky.calcADU(hardware[f], photParams=photParams_std)* photParams_std.platescale**2\n",
    "#    print('%s: sky counts (e-/pixel) = %.2f'%(f, skyCounts[f]))"
   ]
  },
  {
   "cell_type": "markdown",
   "metadata": {},
   "source": [
    "### Calculate the saturation limits under dark sky: the source should have solar SED"
   ]
  },
  {
   "cell_type": "code",
   "execution_count": 19,
   "metadata": {},
   "outputs": [
    {
     "name": "stdout",
     "output_type": "stream",
     "text": [
      "g, adu = 7.470150e+06, adu_flat = 7.470150e+06, diff = -0.00\n",
      "r, adu = 8.538531e+06, adu_flat = 8.538531e+06, diff = -0.00\n",
      "i, adu = 8.011991e+06, adu_flat = 8.011991e+06, diff = -0.00\n",
      "z, adu = 6.240234e+06, adu_flat = 6.240234e+06, diff = -0.00\n"
     ]
    }
   ],
   "source": [
    "key = 'SatLim'\n",
    "for f in filterlist:\n",
    "    satellite = Sed()\n",
    "    satellite.readSED_flambda(os.path.join(getPackageDir('sims_movingObjects'),\n",
    "                                             'data', 'kurucz_sun.gz'))\n",
    "    fNorm = satellite.calcFluxNorm(0, system[f])\n",
    "    # print('fNorm = %.2e'%fNorm)\n",
    "    satellite.multiplyFluxNorm(fNorm)\n",
    "    adu = satellite.calcADU(system[f], photParams=photParams_dt)\n",
    "    #print(satellite.calcMag(system[f]))\n",
    "    \n",
    "    flatsource = Sed()\n",
    "    flatsource.setFlatSED()\n",
    "    adu_flat = flatsource.calcADU(system[f], photParams=photParams_dt)\n",
    "    print('%s, adu = %e, adu_flat = %e, diff = %.2f'%(f, adu, adu_flat, adu-adu_flat))\n",
    "    #So the ADU is the same as using the flat SED. Does that make sense?\n",
    "    #yes, according to Lynne. Because the AB magnitude, and the flux, both include the effect of the bandpass (throughput)\n",
    "    #therefore are specific for each observatory. That is why calcFluxNorm() has system[f] as input.\n",
    "    #The mapping from mag to flux inside a particular bandpass is unique, and have nothing to do with SED\n",
    "    \n",
    "    adu0 = adu*ratio\n",
    "    #because we assumed a m=0 star\n",
    "    # we use gain=1.0, so adu = number of e-\n",
    "    # we also get rid of skycounts from each pixel. This has miminal effect on results\n",
    "    d[key].loc[f] = np.log10(adu0/(full_well-skyCounts[f]))/2*5"
   ]
  },
  {
   "cell_type": "code",
   "execution_count": 20,
   "metadata": {},
   "outputs": [
    {
     "data": {
      "text/html": [
       "<div>\n",
       "<style scoped>\n",
       "    .dataframe tbody tr th:only-of-type {\n",
       "        vertical-align: middle;\n",
       "    }\n",
       "\n",
       "    .dataframe tbody tr th {\n",
       "        vertical-align: top;\n",
       "    }\n",
       "\n",
       "    .dataframe thead th {\n",
       "        text-align: right;\n",
       "    }\n",
       "</style>\n",
       "<table border=\"1\" class=\"dataframe\">\n",
       "  <thead>\n",
       "    <tr style=\"text-align: right;\">\n",
       "      <th></th>\n",
       "      <th>SatLim</th>\n",
       "    </tr>\n",
       "  </thead>\n",
       "  <tbody>\n",
       "    <tr>\n",
       "      <th>g</th>\n",
       "      <td>1.580677</td>\n",
       "    </tr>\n",
       "    <tr>\n",
       "      <th>r</th>\n",
       "      <td>1.735950</td>\n",
       "    </tr>\n",
       "    <tr>\n",
       "      <th>i</th>\n",
       "      <td>1.692565</td>\n",
       "    </tr>\n",
       "    <tr>\n",
       "      <th>z</th>\n",
       "      <td>1.457106</td>\n",
       "    </tr>\n",
       "  </tbody>\n",
       "</table>\n",
       "</div>"
      ],
      "text/plain": [
       "     SatLim\n",
       "g  1.580677\n",
       "r  1.735950\n",
       "i  1.692565\n",
       "z  1.457106"
      ]
     },
     "execution_count": 20,
     "metadata": {},
     "output_type": "execute_result"
    }
   ],
   "source": [
    "d"
   ]
  },
  {
   "cell_type": "markdown",
   "metadata": {},
   "source": [
    "#### Double-check: do the same calculation using zero points"
   ]
  },
  {
   "cell_type": "code",
   "execution_count": 21,
   "metadata": {},
   "outputs": [
    {
     "name": "stdout",
     "output_type": "stream",
     "text": [
      "g: zero point = 26.77\n",
      "r: zero point = 26.91\n",
      "i: zero point = 26.84\n",
      "z: zero point = 26.57\n"
     ]
    }
   ],
   "source": [
    "Zp_t = {}\n",
    "for f in filterlist:\n",
    "    Zp_t[f] = system[f].calcZP_t(photParams_zp)\n",
    "    print('%s: zero point = %.2f'%(f, Zp_t[f]))"
   ]
  },
  {
   "cell_type": "code",
   "execution_count": 22,
   "metadata": {},
   "outputs": [],
   "source": [
    "d_zp = pd.DataFrame(index=filterlist, columns=properties, dtype='float')\n",
    "key = 'SatLim'\n",
    "for f in filterlist:\n",
    "    #number of electrons we can accomodate for the source in dt sec\n",
    "    ne = (full_well-skyCounts[f])/ratio\n",
    "    #number of electrons we can accomodate for this source in 1 sec\n",
    "    ne = ne/dt\n",
    "    d_zp[key].loc[f] = (Zp_t[f]-2.5*np.log10(ne))"
   ]
  },
  {
   "cell_type": "code",
   "execution_count": 23,
   "metadata": {},
   "outputs": [
    {
     "data": {
      "text/html": [
       "<div>\n",
       "<style scoped>\n",
       "    .dataframe tbody tr th:only-of-type {\n",
       "        vertical-align: middle;\n",
       "    }\n",
       "\n",
       "    .dataframe tbody tr th {\n",
       "        vertical-align: top;\n",
       "    }\n",
       "\n",
       "    .dataframe thead th {\n",
       "        text-align: right;\n",
       "    }\n",
       "</style>\n",
       "<table border=\"1\" class=\"dataframe\">\n",
       "  <thead>\n",
       "    <tr style=\"text-align: right;\">\n",
       "      <th></th>\n",
       "      <th>SatLim</th>\n",
       "    </tr>\n",
       "  </thead>\n",
       "  <tbody>\n",
       "    <tr>\n",
       "      <th>g</th>\n",
       "      <td>1.580677</td>\n",
       "    </tr>\n",
       "    <tr>\n",
       "      <th>r</th>\n",
       "      <td>1.735950</td>\n",
       "    </tr>\n",
       "    <tr>\n",
       "      <th>i</th>\n",
       "      <td>1.692565</td>\n",
       "    </tr>\n",
       "    <tr>\n",
       "      <th>z</th>\n",
       "      <td>1.457106</td>\n",
       "    </tr>\n",
       "  </tbody>\n",
       "</table>\n",
       "</div>"
      ],
      "text/plain": [
       "     SatLim\n",
       "g  1.580677\n",
       "r  1.735950\n",
       "i  1.692565\n",
       "z  1.457106"
      ]
     },
     "execution_count": 23,
     "metadata": {},
     "output_type": "execute_result"
    }
   ],
   "source": [
    "d_zp"
   ]
  },
  {
   "cell_type": "code",
   "execution_count": 24,
   "metadata": {},
   "outputs": [
    {
     "data": {
      "text/html": [
       "<div>\n",
       "<style scoped>\n",
       "    .dataframe tbody tr th:only-of-type {\n",
       "        vertical-align: middle;\n",
       "    }\n",
       "\n",
       "    .dataframe tbody tr th {\n",
       "        vertical-align: top;\n",
       "    }\n",
       "\n",
       "    .dataframe thead th {\n",
       "        text-align: right;\n",
       "    }\n",
       "</style>\n",
       "<table border=\"1\" class=\"dataframe\">\n",
       "  <thead>\n",
       "    <tr style=\"text-align: right;\">\n",
       "      <th></th>\n",
       "      <th>SatLim</th>\n",
       "    </tr>\n",
       "  </thead>\n",
       "  <tbody>\n",
       "    <tr>\n",
       "      <th>g</th>\n",
       "      <td>0.0</td>\n",
       "    </tr>\n",
       "    <tr>\n",
       "      <th>r</th>\n",
       "      <td>0.0</td>\n",
       "    </tr>\n",
       "    <tr>\n",
       "      <th>i</th>\n",
       "      <td>0.0</td>\n",
       "    </tr>\n",
       "    <tr>\n",
       "      <th>z</th>\n",
       "      <td>0.0</td>\n",
       "    </tr>\n",
       "  </tbody>\n",
       "</table>\n",
       "</div>"
      ],
      "text/plain": [
       "   SatLim\n",
       "g     0.0\n",
       "r     0.0\n",
       "i     0.0\n",
       "z     0.0"
      ]
     },
     "execution_count": 24,
     "metadata": {},
     "output_type": "execute_result"
    }
   ],
   "source": [
    "round(d_zp - d)  #should be idential to above calculations"
   ]
  },
  {
   "cell_type": "markdown",
   "metadata": {},
   "source": [
    "### Make peak electron counts vs. mag plot"
   ]
  },
  {
   "cell_type": "code",
   "execution_count": 25,
   "metadata": {},
   "outputs": [],
   "source": [
    "pRatio = ratio\n",
    "colors = ['blue', 'green', 'red', '0.75', '0.50', '0.25']\n",
    "d_plot = pd.DataFrame(index=filterlist, columns=['SatLimFromPlot'], dtype='float')"
   ]
  },
  {
   "cell_type": "code",
   "execution_count": 26,
   "metadata": {},
   "outputs": [
    {
     "data": {
      "image/png": "[encoded data removed]",
      "text/plain": [
       "<Figure size 432x288 with 1 Axes>"
      ]
     },
     "metadata": {
      "needs_background": "light"
     },
     "output_type": "display_data"
    }
   ],
   "source": [
    "fig, ax = plt.subplots()\n",
    "for i,f in enumerate(filterlist):\n",
    "    mags = []\n",
    "    npeaks = []\n",
    "    flatsource = Sed()\n",
    "    flatsource.setFlatSED(wavelen_min=system[f].wavelen_min, wavelen_max=system[f].wavelen_max,\n",
    "                              wavelen_step=system[f].wavelen_step)\n",
    "    adu = flatsource.calcADU(system[f], photParams=photParams_dt)\n",
    "    adu0 = adu*pRatio #a m=0 start produces this adu0 in the center pixel\n",
    "    for m in range(31):\n",
    "        mag = 1 + 0.2 * m\n",
    "        mags.append(mag)\n",
    "        npeak = adu0*10**(-mag/2.5)+skyCounts[f]\n",
    "        npeaks.append(npeak)\n",
    "    plt.scatter(mags, npeaks, label=f, color=colors[i])\n",
    "    #print(npeak)\n",
    "    #break\n",
    "    d_plot.SatLimFromPlot.loc[f] = mags[np.argmax(np.array(npeaks)<full_well)]\n",
    "plt.plot([0,7.0],[full_well, full_well], ls = '--', lw = 2, color='black')\n",
    "plt.text(4.5, full_well*1.20, \"Saturation = %d e-\"%full_well, color = 'black')\n",
    "plt.plot([0,7.0],[full_well2, full_well2], ls = '--', lw = 2, color='black')\n",
    "plt.text(4.5, full_well2*0.7, \"Saturation = %d e-\"%full_well2, color = 'black')\n",
    "plt.text(0.3, 0.24, \"Trail FWHM = %.2f arcsec\"%fwhm, color = 'black', transform=fig.transFigure)\n",
    "plt.text(0.3, 0.18, \"Dark Sky\", color = 'black', transform=fig.transFigure)\n",
    "plt.legend()\n",
    "plt.yscale('log')\n",
    "plt.xlim(0,7.0)\n",
    "plt.ylim(1e3, 1.5e6)\n",
    "plt.grid()\n",
    "plt.xlabel('Satellite apparent magnitude', fontsize=12)\n",
    "plt.ylabel('Peak pixel count(electrons)', fontsize=12);"
   ]
  },
  {
   "cell_type": "code",
   "execution_count": 27,
   "metadata": {},
   "outputs": [
    {
     "data": {
      "text/html": [
       "<div>\n",
       "<style scoped>\n",
       "    .dataframe tbody tr th:only-of-type {\n",
       "        vertical-align: middle;\n",
       "    }\n",
       "\n",
       "    .dataframe tbody tr th {\n",
       "        vertical-align: top;\n",
       "    }\n",
       "\n",
       "    .dataframe thead th {\n",
       "        text-align: right;\n",
       "    }\n",
       "</style>\n",
       "<table border=\"1\" class=\"dataframe\">\n",
       "  <thead>\n",
       "    <tr style=\"text-align: right;\">\n",
       "      <th></th>\n",
       "      <th>SatLimFromPlot</th>\n",
       "      <th>SatLim</th>\n",
       "    </tr>\n",
       "  </thead>\n",
       "  <tbody>\n",
       "    <tr>\n",
       "      <th>g</th>\n",
       "      <td>1.6</td>\n",
       "      <td>1.580677</td>\n",
       "    </tr>\n",
       "    <tr>\n",
       "      <th>r</th>\n",
       "      <td>1.8</td>\n",
       "      <td>1.735950</td>\n",
       "    </tr>\n",
       "    <tr>\n",
       "      <th>i</th>\n",
       "      <td>1.8</td>\n",
       "      <td>1.692565</td>\n",
       "    </tr>\n",
       "    <tr>\n",
       "      <th>z</th>\n",
       "      <td>1.6</td>\n",
       "      <td>1.457106</td>\n",
       "    </tr>\n",
       "  </tbody>\n",
       "</table>\n",
       "</div>"
      ],
      "text/plain": [
       "   SatLimFromPlot    SatLim\n",
       "g             1.6  1.580677\n",
       "r             1.8  1.735950\n",
       "i             1.8  1.692565\n",
       "z             1.6  1.457106"
      ]
     },
     "execution_count": 27,
     "metadata": {},
     "output_type": "execute_result"
    }
   ],
   "source": [
    "#check consistency with above calculations.\n",
    "d_plot.join(d)"
   ]
  },
  {
   "cell_type": "code",
   "execution_count": 28,
   "metadata": {},
   "outputs": [
    {
     "name": "stdout",
     "output_type": "stream",
     "text": [
      "calculated adu ratio = 5.6, predicted adu ratio = 5.0\n"
     ]
    }
   ],
   "source": [
    "decam_ne_mag2 = 180e3 #- skyCounts['r']\n",
    "decam_ne_mag3 = 10**((2-3)/2.5)*decam_ne_mag2\n",
    "decam_gain = 4.0\n",
    "decam_adu_mag3 = decam_ne_mag3/decam_gain\n",
    "\n",
    "lsst_ne_mag3 = 150e3 #- skyCounts['r']\n",
    "lsst_gain = 1.5\n",
    "lsst_adu_mag3 = lsst_ne_mag3/lsst_gain\n",
    "\n",
    "adu_ratio = lsst_adu_mag3/decam_adu_mag3\n",
    "effD = np.sqrt(effarea/1e4/np.pi)*2\n",
    "\n",
    "pred_ratio = (6.423/effD)**2 * (0.2/pixel_scale)**2 * 4.0/1.5\n",
    "print('calculated adu ratio = %.1f, predicted adu ratio = %.1f'%(adu_ratio, pred_ratio))"
   ]
  },
  {
   "cell_type": "markdown",
   "metadata": {},
   "source": [
    "### We can use the zeropoints to do the same calculations and make the same plot"
   ]
  },
  {
   "cell_type": "code",
   "execution_count": 29,
   "metadata": {},
   "outputs": [
    {
     "name": "stdout",
     "output_type": "stream",
     "text": [
      "for 5th mag, under dark sky, band g, peak e per pixel = 8375\n",
      "for 5th mag, under dark sky, band r, peak e per pixel = 11141\n",
      "for 5th mag, under dark sky, band i, peak e per pixel = 14758\n",
      "for 5th mag, under dark sky, band z, peak e per pixel = 18576\n"
     ]
    },
    {
     "data": {
      "image/png": "[encoded data removed]",
      "text/plain": [
       "<Figure size 432x288 with 1 Axes>"
      ]
     },
     "metadata": {
      "needs_background": "light"
     },
     "output_type": "display_data"
    }
   ],
   "source": [
    "d_plot_zp = pd.DataFrame(index=filterlist, columns=['SatLimFromPlot'], dtype='float')\n",
    "fig, ax = plt.subplots()\n",
    "peak_e_mag_5 = []\n",
    "for i,f in enumerate(filterlist):\n",
    "    mags = []\n",
    "    npeaks = []\n",
    "    for m in range(31):\n",
    "        mag = 1.0 + 0.2 * m\n",
    "        mags.append(mag)\n",
    "        #for a source of mag, how many electrons is produced on detector in a second?\n",
    "        ne = 10**((Zp_t[f] - mag)/2.5)\n",
    "        # what about dt seconds\n",
    "        ne *= dt\n",
    "        # how many fall into the center pixel? on top of the background and others\n",
    "        npeak = ne*pRatio+ skyCounts[f]\n",
    "        npeaks.append(npeak)\n",
    "        d_plot_zp.SatLimFromPlot.loc[f] = mags[np.argmax(np.array(npeaks)<full_well)]\n",
    "        if mag==5.0:\n",
    "            peak_e_mag_5.append(npeak)\n",
    "            print('for 5th mag, under dark sky, band %s, peak e per pixel = %.0f'%(f,npeak))\n",
    "    plt.scatter(mags, npeaks, label=f, color=colors[i])\n",
    "    #print(npeak)\n",
    "    #break\n",
    "plt.plot([0,7.0],[full_well, full_well], ls = '--', lw = 2, color='black')\n",
    "plt.text(4.5, full_well*1.20, \"Saturation = %d e-\"%full_well, color = 'black')\n",
    "plt.plot([0,7.0],[full_well2, full_well2], ls = '--', lw = 2, color='black')\n",
    "plt.text(4.5, full_well2*0.7, \"Saturation = %d e-\"%full_well2, color = 'black')\n",
    "plt.text(0.3, 0.24, \"Trail FWHM = %.2f arcsec\"%fwhm, color = 'black', transform=fig.transFigure)\n",
    "plt.text(0.3, 0.18, \"Dark Sky\", color = 'black', transform=fig.transFigure)\n",
    "plt.legend()\n",
    "plt.yscale('log')\n",
    "plt.xlim(0,7.0)\n",
    "plt.ylim(1e3, 1.5e6)\n",
    "plt.xlabel('Satellite apparent magnitude', fontsize=12)\n",
    "plt.ylabel('Peak pixel count(electrons)', fontsize=12)\n",
    "plt.savefig('Peak_count_by_band_DECam_trail.pdf')"
   ]
  },
  {
   "cell_type": "code",
   "execution_count": 30,
   "metadata": {},
   "outputs": [
    {
     "data": {
      "text/html": [
       "<div>\n",
       "<style scoped>\n",
       "    .dataframe tbody tr th:only-of-type {\n",
       "        vertical-align: middle;\n",
       "    }\n",
       "\n",
       "    .dataframe tbody tr th {\n",
       "        vertical-align: top;\n",
       "    }\n",
       "\n",
       "    .dataframe thead th {\n",
       "        text-align: right;\n",
       "    }\n",
       "</style>\n",
       "<table border=\"1\" class=\"dataframe\">\n",
       "  <thead>\n",
       "    <tr style=\"text-align: right;\">\n",
       "      <th></th>\n",
       "      <th>SatLimFromPlot</th>\n",
       "    </tr>\n",
       "  </thead>\n",
       "  <tbody>\n",
       "    <tr>\n",
       "      <th>g</th>\n",
       "      <td>0.0</td>\n",
       "    </tr>\n",
       "    <tr>\n",
       "      <th>r</th>\n",
       "      <td>0.0</td>\n",
       "    </tr>\n",
       "    <tr>\n",
       "      <th>i</th>\n",
       "      <td>0.0</td>\n",
       "    </tr>\n",
       "    <tr>\n",
       "      <th>z</th>\n",
       "      <td>0.0</td>\n",
       "    </tr>\n",
       "  </tbody>\n",
       "</table>\n",
       "</div>"
      ],
      "text/plain": [
       "   SatLimFromPlot\n",
       "g             0.0\n",
       "r             0.0\n",
       "i             0.0\n",
       "z             0.0"
      ]
     },
     "execution_count": 30,
     "metadata": {},
     "output_type": "execute_result"
    }
   ],
   "source": [
    "round(d_plot - d_plot_zp) #should be identical to calculations using zero points"
   ]
  },
  {
   "cell_type": "markdown",
   "metadata": {},
   "source": [
    "### what is the surface brightness of the satellite trail? (how much fainter is the trailer compared to when the satellite is stationary on the CCD?)\n",
    "The instantaneous surface brightness of the satellite is simply the surface brightness if the satellite is stationary relative to our detector.\n",
    "So here the \"surface brightness of the satellite trail\" is actually the surface brightness averaged over a period of time. Therefore this surface brightness is dependent on the averaging time. We assume a 90s exposure."
   ]
  },
  {
   "cell_type": "code",
   "execution_count": 31,
   "metadata": {},
   "outputs": [
    {
     "name": "stdout",
     "output_type": "stream",
     "text": [
      "14.357518121458956\n"
     ]
    }
   ],
   "source": [
    "nexp = 1\n",
    "exptime = 120\n",
    "fNormTrail = dt/(nexp*exptime)*ratio/photParams_std.platescale**2\n",
    "dmag = -2.5*np.log10(fNormTrail)\n",
    "print(dmag)"
   ]
  },
  {
   "cell_type": "code",
   "execution_count": 32,
   "metadata": {},
   "outputs": [
    {
     "name": "stdout",
     "output_type": "stream",
     "text": [
      "g, 14.36\n",
      "r, 14.36\n",
      "i, 14.36\n",
      "z, 14.36\n"
     ]
    }
   ],
   "source": [
    "m = 5  #just pick a random mag; won't affect the mag difference below.\n",
    "for i,f in enumerate(filterlist):\n",
    "    satellite = Sed()\n",
    "    satellite.readSED_flambda(os.path.join(getPackageDir('sims_movingObjects'),\n",
    "                                         'data', 'kurucz_sun.gz'))\n",
    "    fNorm = satellite.calcFluxNorm(m, system[f])\n",
    "    satellite.multiplyFluxNorm(fNorm) #normalize the passband to mag=m\n",
    "    satellite.multiplyFluxNorm(fNormTrail) #further dilute the light by a factor of fNormTrail\n",
    "    mTrail = satellite.calcMag(system[f])\n",
    "    print('%s, %.2f'%(f, mTrail-m))"
   ]
  },
  {
   "cell_type": "markdown",
   "metadata": {},
   "source": [
    "### DES DR1 paper gives Single-epoch Magnitude Limit (S/N=10)\n",
    "https://arxiv.org/abs/1801.03181\n",
    "\n",
    "* Below we check how well we can reproduce the values in Table 1 of this paper.\n",
    "* Since the results in Table 1 are measured actuals, we try to bracket those values with darksky and brightsky"
   ]
  },
  {
   "cell_type": "code",
   "execution_count": 33,
   "metadata": {},
   "outputs": [],
   "source": [
    "def calcM10(skysed, system, hardware, photParams, FWHMeff):\n",
    "    '''\n",
    "    This does the calculation for one band\n",
    "    '''\n",
    "    \n",
    "    snr = 10\n",
    "    \n",
    "    flatsource = Sed()\n",
    "    flatsource.setFlatSED()\n",
    "        \n",
    "    v_n = calcTotalNonSourceNoiseSq(skysed, hardware, photParams, FWHMeff)\n",
    "\n",
    "    counts_10sigma = (snr**2)/2.0/photParams.gain + \\\n",
    "                         np.sqrt((snr**4)/4.0/photParams.gain + (snr**2)*v_n)\n",
    "\n",
    "    # renormalize flatsource so that it has the required counts to be a 10-sigma detection\n",
    "    # given the specified background\n",
    "    counts_flat = flatsource.calcADU(system, photParams=photParams)\n",
    "    flatsource.multiplyFluxNorm(counts_10sigma/counts_flat)\n",
    "\n",
    "    # Calculate the AB magnitude of this source.\n",
    "    mag_10sigma = flatsource.calcMag(system)\n",
    "    return mag_10sigma"
   ]
  },
  {
   "cell_type": "code",
   "execution_count": 34,
   "metadata": {},
   "outputs": [
    {
     "name": "stdout",
     "output_type": "stream",
     "text": [
      "     DR1  Our_prediction\n",
      "          low      high    DR1-low  high-DR1\n",
      "g: 23.57  22.10   23.47     1.47    -0.10\n",
      "r: 23.34  22.55   23.26     0.79    -0.08\n",
      "i: 22.78  22.48   22.91     0.30    0.13\n",
      "z: 22.10  21.79   22.21     0.31    0.11\n"
     ]
    }
   ],
   "source": [
    "FWHM = {'g':1.12, 'r':0.96, 'i':0.88, 'z':0.84, 'y':0.90}\n",
    "m10DR1 = {'g':23.57, 'r':23.34, 'i':22.78, 'z':22.10, 'y':20.69}\n",
    "#Tony sent these values from DECam. These are ~50 deg from full moon\n",
    "skyBrightMag = {'u': 17.7, 'g':19.4, 'r':19.7, 'i':19.4, 'z':18.2, 'y':17.7}\n",
    "print('     DR1  Our_prediction')\n",
    "print('          low      high    DR1-low  high-DR1')\n",
    "for f in filterlist:\n",
    "    FWHMeff = FWHM[f]*1.21\n",
    "\n",
    "    darksky = Sed()\n",
    "    darksky.readSED_flambda(os.path.join(getPackageDir('syseng_throughputs'),\n",
    "                                             'siteProperties', 'darksky.dat'))\n",
    "    m10_dark = calcM10(darksky, system[f], hardware[f], photParams_std, FWHMeff)\n",
    "\n",
    "    brightsky = Sed()\n",
    "    brightsky.readSED_flambda(os.path.join(getPackageDir('sims_movingObjects'),\n",
    "                                             'data', 'kurucz_sun.gz'))\n",
    "    fNorm = brightsky.calcFluxNorm(skyBrightMag[f], hardware[f])\n",
    "    brightsky.multiplyFluxNorm(fNorm)\n",
    "    \n",
    "    m10_bright = calcM10(brightsky, system[f], hardware[f], photParams_std, FWHMeff)\n",
    "    print('%s: %.2f  %.2f   %.2f     %.2f    %.2f'%(\n",
    "        f, m10DR1[f], m10_bright, m10_dark, m10DR1[f] - m10_bright,  m10_dark-m10DR1[f]))"
   ]
  },
  {
   "cell_type": "markdown",
   "metadata": {},
   "source": [
    "### DES performance prediction paper had coadded 5-sigma limiting magnitudes.\n",
    " https://arxiv.org/abs/astro-ph/0510346\n",
    " * we adjust exposure by a factor of 10 to compare to these predictions"
   ]
  },
  {
   "cell_type": "code",
   "execution_count": 35,
   "metadata": {},
   "outputs": [
    {
     "name": "stdout",
     "output_type": "stream",
     "text": [
      "   DES05  Our_prediction\n",
      "          low      high  DES05-low  high-DES05\n",
      "g: 26.10  24.56   25.99     1.54    -0.11\n",
      "r: 25.60  24.85   25.57     0.75    -0.03\n",
      "i: 25.80  24.68   25.11     1.12    -0.69\n",
      "z: 25.40  23.93   24.36     1.47    -1.04\n"
     ]
    }
   ],
   "source": [
    "FWHMeff = 0.90\n",
    "m5Pred = {'g':26.1, 'r':25.6, 'i':25.8, 'z':25.4}\n",
    "photParams_coadd = PhotometricParameters(exptime=90*10, nexp=1, platescale=pixel_scale,\n",
    "                                           gain=1.0, effarea=effarea, readnoise=readnoise,\n",
    "                                           othernoise=othernoise, darkcurrent=darkcurrent)\n",
    "print('   DES05  Our_prediction')\n",
    "print('          low      high  DES05-low  high-DES05')\n",
    "for f in filterlist:\n",
    "\n",
    "    darksky = Sed()\n",
    "    darksky.readSED_flambda(os.path.join(getPackageDir('syseng_throughputs'),\n",
    "                                             'siteProperties', 'darksky.dat'))\n",
    "    m5_dark = calcM5(darksky, system[f], hardware[f], photParams_coadd, FWHMeff)\n",
    "\n",
    "    brightsky = Sed()\n",
    "    brightsky.readSED_flambda(os.path.join(getPackageDir('sims_movingObjects'),\n",
    "                                             'data', 'kurucz_sun.gz'))\n",
    "    fNorm = brightsky.calcFluxNorm(skyBrightMag[f], hardware[f])\n",
    "    brightsky.multiplyFluxNorm(fNorm)\n",
    "    \n",
    "    m5_bright = calcM5(brightsky, system[f], hardware[f], photParams_coadd, FWHMeff)\n",
    "    print('%s: %.2f  %.2f   %.2f     %.2f    %.2f'%(\n",
    "        f, m5Pred[f], m5_bright, m5_dark, m5Pred[f] - m5_bright,  m5_dark-m5Pred[f]))"
   ]
  },
  {
   "cell_type": "code",
   "execution_count": null,
   "metadata": {},
   "outputs": [],
   "source": []
  }
 ],
 "metadata": {
  "kernelspec": {
   "display_name": "LSST",
   "language": "python",
   "name": "lsst"
  },
  "language_info": {
   "codemirror_mode": {
    "name": "ipython",
    "version": 3
   },
   "file_extension": ".py",
   "mimetype": "text/x-python",
   "name": "python",
   "nbconvert_exporter": "python",
   "pygments_lexer": "ipython3",
   "version": "3.7.6"
  }
 },
 "nbformat": 4,
 "nbformat_minor": 4
}
