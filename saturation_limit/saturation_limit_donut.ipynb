{
 "cells": [
  {
   "cell_type": "code",
   "execution_count": 1,
   "metadata": {},
   "outputs": [],
   "source": [
    "from __future__ import print_function\n",
    "import numpy as np\n",
    "import pandas as pd\n",
    "import lsst.syseng.throughputs as st\n",
    "from lsst.sims.photUtils import PhotometricParameters, Sed\n",
    "import galsim\n",
    "import matplotlib.pyplot as plt\n",
    "\n",
    "from lsst.cwfs.instrument import Instrument"
   ]
  },
  {
   "cell_type": "markdown",
   "metadata": {},
   "source": [
    "### We use Eq (6) in LSE-40. With the baseline system as defined by syseng_throughput (including hardware & atmosphere), We can easily map a source magnitude to a source count. This is not affected by seeing. \n",
    "For point sources, seeing comes into play because it determines how far to spread the total source count. For donuts, however, seeing only blurs the edge. When we are thinking about what fraction of light from the point source gets into the brightest pixels, we are largely not affected by seeing."
   ]
  },
  {
   "cell_type": "code",
   "execution_count": 2,
   "metadata": {},
   "outputs": [],
   "source": [
    "# full_well for a 30s visit, in e-\n",
    "full_well = 150e3  #typical for e2v sensors. ITL is typically 200k. We try to be conservative and use the smaller.\n",
    "full_well2 = 100e3  #some sensors can be as low as 100K e-.\n",
    "\n",
    "snrLim = 10"
   ]
  },
  {
   "cell_type": "markdown",
   "metadata": {},
   "source": [
    "## We first determine what fraction of the flux will be in the brightest pixel\n",
    "### We could look at a simulated donut (with no background).\n",
    "Note that this ratio will still depend on specific aberrations. We also need to be careful if we are looking at a vignetted donut, in which case the denominator should be all the light emitted by the source, including the vignetted light.\n",
    "### As the first approximatioon, here we simply assume field center, and uniform intensity. "
   ]
  },
  {
   "cell_type": "code",
   "execution_count": 3,
   "metadata": {},
   "outputs": [
    {
     "name": "stdout",
     "output_type": "stream",
     "text": [
      "0.0001371230205311955\n"
     ]
    }
   ],
   "source": [
    "inst=Instrument('lsst15',200)\n",
    "r = inst.donutR/inst.pixelSize\n",
    "Area = np.pi* (r**2 - (r*inst.obscuration)**2)\n",
    "ratio = 1./Area\n",
    "print(ratio)"
   ]
  },
  {
   "cell_type": "markdown",
   "metadata": {},
   "source": [
    "### Baseline LSST system, as defined in syseng_throughput"
   ]
  },
  {
   "cell_type": "code",
   "execution_count": 4,
   "metadata": {},
   "outputs": [],
   "source": [
    "defaultDirs = st.setDefaultDirs()\n",
    "hardware, system = st.buildHardwareAndSystem(defaultDirs)"
   ]
  },
  {
   "cell_type": "markdown",
   "metadata": {},
   "source": [
    "### Default photometric parameters, as used in standard m5 calculations (except we run cwfs on one exposure only, nexp = 1)"
   ]
  },
  {
   "cell_type": "code",
   "execution_count": 5,
   "metadata": {},
   "outputs": [],
   "source": [
    "exptime=15 \n",
    "nexp=1\n",
    "readnoise=8.8 \n",
    "othernoise=0 \n",
    "darkcurrent=0.2\n",
    "effarea=np.pi*(6.423/2*100)**2\n",
    "X=1.0\n",
    "\n",
    "# PhotometricParameters object for standard m5 calculations.\n",
    "photParams_std = PhotometricParameters(exptime=exptime, nexp=nexp,\n",
    "                                           gain=1.0, effarea=effarea, readnoise=readnoise,\n",
    "                                           othernoise=othernoise, darkcurrent=darkcurrent)"
   ]
  },
  {
   "cell_type": "markdown",
   "metadata": {},
   "source": [
    "### Let's make sure we can reproduce standard m5 results"
   ]
  },
  {
   "cell_type": "code",
   "execution_count": 6,
   "metadata": {},
   "outputs": [],
   "source": [
    "m5 = st.makeM5(hardware, system, darksky=None, \n",
    "                      exptime=exptime, nexp=nexp, readnoise=readnoise, othernoise=othernoise, darkcurrent=darkcurrent,\n",
    "                      effarea=effarea, X=1.0)"
   ]
  },
  {
   "cell_type": "code",
   "execution_count": 7,
   "metadata": {},
   "outputs": [
    {
     "data": {
      "text/html": [
       "<div>\n",
       "<style scoped>\n",
       "    .dataframe tbody tr th:only-of-type {\n",
       "        vertical-align: middle;\n",
       "    }\n",
       "\n",
       "    .dataframe tbody tr th {\n",
       "        vertical-align: top;\n",
       "    }\n",
       "\n",
       "    .dataframe thead th {\n",
       "        text-align: right;\n",
       "    }\n",
       "</style>\n",
       "<table border=\"1\" class=\"dataframe\">\n",
       "  <thead>\n",
       "    <tr style=\"text-align: right;\">\n",
       "      <th></th>\n",
       "      <th>FWHMeff</th>\n",
       "      <th>FWHMgeom</th>\n",
       "      <th>skyMag</th>\n",
       "      <th>skyCounts</th>\n",
       "      <th>Zp_t</th>\n",
       "      <th>Tb</th>\n",
       "      <th>Sb</th>\n",
       "      <th>kAtm</th>\n",
       "      <th>gamma</th>\n",
       "      <th>Cm</th>\n",
       "      <th>dCm_infinity</th>\n",
       "      <th>dCm_double</th>\n",
       "      <th>m5</th>\n",
       "      <th>sourceCounts</th>\n",
       "      <th>m5_fid</th>\n",
       "      <th>m5_min</th>\n",
       "    </tr>\n",
       "  </thead>\n",
       "  <tbody>\n",
       "    <tr>\n",
       "      <th>u</th>\n",
       "      <td>0.92</td>\n",
       "      <td>0.80824</td>\n",
       "      <td>22.960730</td>\n",
       "      <td>40.420286</td>\n",
       "      <td>27.009181</td>\n",
       "      <td>0.035837</td>\n",
       "      <td>0.057997</td>\n",
       "      <td>0.522669</td>\n",
       "      <td>0.037458</td>\n",
       "      <td>23.155158</td>\n",
       "      <td>0.568632</td>\n",
       "      <td>0.353902</td>\n",
       "      <td>23.462511</td>\n",
       "      <td>393.332204</td>\n",
       "      <td>23.9</td>\n",
       "      <td>23.4</td>\n",
       "    </tr>\n",
       "    <tr>\n",
       "      <th>g</th>\n",
       "      <td>0.87</td>\n",
       "      <td>0.76714</td>\n",
       "      <td>22.257758</td>\n",
       "      <td>205.547397</td>\n",
       "      <td>28.399288</td>\n",
       "      <td>0.128938</td>\n",
       "      <td>0.154358</td>\n",
       "      <td>0.195371</td>\n",
       "      <td>0.038234</td>\n",
       "      <td>24.440312</td>\n",
       "      <td>0.174894</td>\n",
       "      <td>0.090048</td>\n",
       "      <td>24.456850</td>\n",
       "      <td>566.325959</td>\n",
       "      <td>25.0</td>\n",
       "      <td>24.6</td>\n",
       "    </tr>\n",
       "    <tr>\n",
       "      <th>r</th>\n",
       "      <td>0.83</td>\n",
       "      <td>0.73426</td>\n",
       "      <td>21.196590</td>\n",
       "      <td>409.398572</td>\n",
       "      <td>28.177407</td>\n",
       "      <td>0.105106</td>\n",
       "      <td>0.115690</td>\n",
       "      <td>0.104170</td>\n",
       "      <td>0.038579</td>\n",
       "      <td>24.461761</td>\n",
       "      <td>0.095541</td>\n",
       "      <td>0.045673</td>\n",
       "      <td>23.998819</td>\n",
       "      <td>703.925715</td>\n",
       "      <td>24.7</td>\n",
       "      <td>24.3</td>\n",
       "    </tr>\n",
       "    <tr>\n",
       "      <th>i</th>\n",
       "      <td>0.80</td>\n",
       "      <td>0.70960</td>\n",
       "      <td>20.477419</td>\n",
       "      <td>586.743900</td>\n",
       "      <td>27.879556</td>\n",
       "      <td>0.079889</td>\n",
       "      <td>0.085493</td>\n",
       "      <td>0.073607</td>\n",
       "      <td>0.038735</td>\n",
       "      <td>24.357933</td>\n",
       "      <td>0.068588</td>\n",
       "      <td>0.031395</td>\n",
       "      <td>23.575376</td>\n",
       "      <td>790.247862</td>\n",
       "      <td>24.0</td>\n",
       "      <td>23.6</td>\n",
       "    </tr>\n",
       "    <tr>\n",
       "      <th>z</th>\n",
       "      <td>0.78</td>\n",
       "      <td>0.69316</td>\n",
       "      <td>19.599578</td>\n",
       "      <td>891.496191</td>\n",
       "      <td>27.481805</td>\n",
       "      <td>0.055384</td>\n",
       "      <td>0.057871</td>\n",
       "      <td>0.047694</td>\n",
       "      <td>0.038922</td>\n",
       "      <td>24.197484</td>\n",
       "      <td>0.046243</td>\n",
       "      <td>0.020046</td>\n",
       "      <td>23.003495</td>\n",
       "      <td>927.716733</td>\n",
       "      <td>23.3</td>\n",
       "      <td>22.9</td>\n",
       "    </tr>\n",
       "    <tr>\n",
       "      <th>y</th>\n",
       "      <td>0.76</td>\n",
       "      <td>0.67672</td>\n",
       "      <td>18.610405</td>\n",
       "      <td>1185.511680</td>\n",
       "      <td>26.687500</td>\n",
       "      <td>0.026648</td>\n",
       "      <td>0.030944</td>\n",
       "      <td>0.162291</td>\n",
       "      <td>0.039029</td>\n",
       "      <td>23.755786</td>\n",
       "      <td>0.035194</td>\n",
       "      <td>0.014573</td>\n",
       "      <td>22.095412</td>\n",
       "      <td>1030.211963</td>\n",
       "      <td>22.1</td>\n",
       "      <td>21.7</td>\n",
       "    </tr>\n",
       "  </tbody>\n",
       "</table>\n",
       "</div>"
      ],
      "text/plain": [
       "   FWHMeff  FWHMgeom     skyMag    skyCounts       Zp_t        Tb        Sb  \\\n",
       "u     0.92   0.80824  22.960730    40.420286  27.009181  0.035837  0.057997   \n",
       "g     0.87   0.76714  22.257758   205.547397  28.399288  0.128938  0.154358   \n",
       "r     0.83   0.73426  21.196590   409.398572  28.177407  0.105106  0.115690   \n",
       "i     0.80   0.70960  20.477419   586.743900  27.879556  0.079889  0.085493   \n",
       "z     0.78   0.69316  19.599578   891.496191  27.481805  0.055384  0.057871   \n",
       "y     0.76   0.67672  18.610405  1185.511680  26.687500  0.026648  0.030944   \n",
       "\n",
       "       kAtm     gamma         Cm  dCm_infinity  dCm_double         m5  \\\n",
       "u  0.522669  0.037458  23.155158      0.568632    0.353902  23.462511   \n",
       "g  0.195371  0.038234  24.440312      0.174894    0.090048  24.456850   \n",
       "r  0.104170  0.038579  24.461761      0.095541    0.045673  23.998819   \n",
       "i  0.073607  0.038735  24.357933      0.068588    0.031395  23.575376   \n",
       "z  0.047694  0.038922  24.197484      0.046243    0.020046  23.003495   \n",
       "y  0.162291  0.039029  23.755786      0.035194    0.014573  22.095412   \n",
       "\n",
       "   sourceCounts  m5_fid  m5_min  \n",
       "u    393.332204    23.9    23.4  \n",
       "g    566.325959    25.0    24.6  \n",
       "r    703.925715    24.7    24.3  \n",
       "i    790.247862    24.0    23.6  \n",
       "z    927.716733    23.3    22.9  \n",
       "y   1030.211963    22.1    21.7  "
      ]
     },
     "execution_count": 7,
     "metadata": {},
     "output_type": "execute_result"
    }
   ],
   "source": [
    "m5"
   ]
  },
  {
   "cell_type": "markdown",
   "metadata": {},
   "source": [
    "### Set up the dataframe"
   ]
  },
  {
   "cell_type": "code",
   "execution_count": 8,
   "metadata": {},
   "outputs": [],
   "source": [
    "filterlist = ('u', 'g', 'r', 'i', 'z', 'y')\n",
    "properties = ['SatLim', 'SNR%dLim'%snrLim, 'SNR%dS'%snrLim, 'SNR%dB'%snrLim]\n",
    "d = pd.DataFrame(index=filterlist, columns=properties, dtype='float')"
   ]
  },
  {
   "cell_type": "markdown",
   "metadata": {},
   "source": [
    "### Calculate the saturation limits"
   ]
  },
  {
   "cell_type": "code",
   "execution_count": 9,
   "metadata": {},
   "outputs": [],
   "source": [
    "for f in system:\n",
    "    flatsource = Sed()\n",
    "    flatsource.setFlatSED(wavelen_min=system[f].wavelen_min, wavelen_max=system[f].wavelen_max,\n",
    "                              wavelen_step=system[f].wavelen_step)\n",
    "    adu = flatsource.calcADU(system[f], photParams=photParams_std) #this takes into account the effective area\n",
    "    \n",
    "    adu0 = adu*ratio\n",
    "    key = 'SatLim'\n",
    "    #because setFlatSED() assumes a m=0 star\n",
    "    # we use gain=1.0, so adu = number of e-\n",
    "    # we also get rid of skycounts from each pixel. This has miminal effect on results; we ignore readnoise here\n",
    "    NN = full_well-m5.skyCounts[f] #max number of e- we can accommodate in 1 pixel\n",
    "    d[key].loc[f] = np.log10(adu0/(NN))/2*5\n",
    "    # The above can also be obtained this way, \n",
    "    # (but flatsource has to be re-initialized for each calculation)\n",
    "    # Scale fnu so that adu0 is equal to full well.\n",
    "    #flatsource.fnu = flatsource.fnu * (full_well/adu0)\n",
    "    #d[key].loc[f] = flatsource.calcMag(system[f])"
   ]
  },
  {
   "cell_type": "markdown",
   "metadata": {},
   "source": [
    "### Faint limit that gives SNR = snrLim\n",
    "#### We use standard dark sky (Peter's model) to estimate B.\n",
    "\n",
    "\\begin{equation}\n",
    "SNR = \\frac{S}{\\sqrt{S+B}}\n",
    "\\end{equation}"
   ]
  },
  {
   "cell_type": "code",
   "execution_count": 10,
   "metadata": {},
   "outputs": [
    {
     "name": "stdout",
     "output_type": "stream",
     "text": [
      "confirming SNR in u = 10, sky count = 40, requiring number of e-: 136\n",
      "confirming SNR in g = 10, sky count = 206, requiring number of e-: 205\n",
      "confirming SNR in r = 10, sky count = 409, requiring number of e-: 261\n",
      "confirming SNR in i = 10, sky count = 587, requiring number of e-: 299\n",
      "confirming SNR in z = 10, sky count = 891, requiring number of e-: 354\n",
      "confirming SNR in y = 10, sky count = 1186, requiring number of e-: 399\n"
     ]
    }
   ],
   "source": [
    "for f in filterlist:\n",
    "    flatsource = Sed()\n",
    "    flatsource.setFlatSED(wavelen_min=system[f].wavelen_min, wavelen_max=system[f].wavelen_max,\n",
    "                              wavelen_step=system[f].wavelen_step)\n",
    "    adu = flatsource.calcADU(system[f], photParams=photParams_std)\n",
    "    \n",
    "    adu0 = adu*ratio\n",
    "    key = 'SNR%dLim'%snrLim\n",
    "    #because setFlatSED() assumes a m=0 star\n",
    "    # we use gain=1.0, so adu = number of e-\n",
    "    myB = m5.skyCounts[f] + np.sqrt(photParams_std.readnoise**2*photParams_std.nexp)\n",
    "    NN = (snrLim**2+np.sqrt(snrLim**4+4*snrLim**2*myB))/2 #min number of e- we need in 1 pixel\n",
    "    print('confirming SNR in %s = %.0f, sky count = %.0f, requiring number of e-: %.0f'%(\n",
    "        f, NN/np.sqrt(NN+myB), m5.skyCounts[f], NN))\n",
    "    d[key].loc[f] = np.log10(adu0/(NN))/2*5\n",
    "    # The above can also be obtained this way, \n",
    "    # (but flatsource has to be re-initialized for each calculation)\n",
    "    # Scale fnu so that adu0 is equal to full well.\n",
    "    #flatsource.fnu = flatsource.fnu * (full_well/adu0)\n",
    "    #d[key].loc[f] = flatsource.calcMag(system[f])\n",
    "    key = 'SNR%dS'%snrLim\n",
    "    d[key].loc[f] = NN\n",
    "    key = 'SNR%dB'%snrLim\n",
    "    d[key].loc[f] = m5.skyCounts[f] "
   ]
  },
  {
   "cell_type": "code",
   "execution_count": 11,
   "metadata": {},
   "outputs": [
    {
     "data": {
      "text/html": [
       "<div>\n",
       "<style scoped>\n",
       "    .dataframe tbody tr th:only-of-type {\n",
       "        vertical-align: middle;\n",
       "    }\n",
       "\n",
       "    .dataframe tbody tr th {\n",
       "        vertical-align: top;\n",
       "    }\n",
       "\n",
       "    .dataframe thead th {\n",
       "        text-align: right;\n",
       "    }\n",
       "</style>\n",
       "<table border=\"1\" class=\"dataframe\">\n",
       "  <thead>\n",
       "    <tr style=\"text-align: right;\">\n",
       "      <th></th>\n",
       "      <th>SatLim</th>\n",
       "      <th>SNR10Lim</th>\n",
       "      <th>SNR10S</th>\n",
       "      <th>SNR10B</th>\n",
       "      <th>FWHMeff</th>\n",
       "      <th>FWHMgeom</th>\n",
       "      <th>skyMag</th>\n",
       "      <th>skyCounts</th>\n",
       "      <th>Zp_t</th>\n",
       "      <th>Tb</th>\n",
       "      <th>Sb</th>\n",
       "      <th>kAtm</th>\n",
       "      <th>gamma</th>\n",
       "      <th>Cm</th>\n",
       "      <th>dCm_infinity</th>\n",
       "      <th>dCm_double</th>\n",
       "      <th>m5</th>\n",
       "      <th>sourceCounts</th>\n",
       "      <th>m5_fid</th>\n",
       "      <th>m5_min</th>\n",
       "    </tr>\n",
       "  </thead>\n",
       "  <tbody>\n",
       "    <tr>\n",
       "      <th>u</th>\n",
       "      <td>7.352250</td>\n",
       "      <td>14.957132</td>\n",
       "      <td>136.151196</td>\n",
       "      <td>40.420286</td>\n",
       "      <td>0.92</td>\n",
       "      <td>0.80824</td>\n",
       "      <td>22.960730</td>\n",
       "      <td>40.420286</td>\n",
       "      <td>27.009181</td>\n",
       "      <td>0.035837</td>\n",
       "      <td>0.057997</td>\n",
       "      <td>0.522669</td>\n",
       "      <td>0.037458</td>\n",
       "      <td>23.155158</td>\n",
       "      <td>0.568632</td>\n",
       "      <td>0.353902</td>\n",
       "      <td>23.462511</td>\n",
       "      <td>393.332204</td>\n",
       "      <td>23.9</td>\n",
       "      <td>23.4</td>\n",
       "    </tr>\n",
       "    <tr>\n",
       "      <th>g</th>\n",
       "      <td>8.743553</td>\n",
       "      <td>15.904452</td>\n",
       "      <td>204.708564</td>\n",
       "      <td>205.547397</td>\n",
       "      <td>0.87</td>\n",
       "      <td>0.76714</td>\n",
       "      <td>22.257758</td>\n",
       "      <td>205.547397</td>\n",
       "      <td>28.399288</td>\n",
       "      <td>0.128938</td>\n",
       "      <td>0.154358</td>\n",
       "      <td>0.195371</td>\n",
       "      <td>0.038234</td>\n",
       "      <td>24.440312</td>\n",
       "      <td>0.174894</td>\n",
       "      <td>0.090048</td>\n",
       "      <td>24.456850</td>\n",
       "      <td>566.325959</td>\n",
       "      <td>25.0</td>\n",
       "      <td>24.6</td>\n",
       "    </tr>\n",
       "    <tr>\n",
       "      <th>r</th>\n",
       "      <td>8.523151</td>\n",
       "      <td>15.420797</td>\n",
       "      <td>260.522819</td>\n",
       "      <td>409.398572</td>\n",
       "      <td>0.83</td>\n",
       "      <td>0.73426</td>\n",
       "      <td>21.196590</td>\n",
       "      <td>409.398572</td>\n",
       "      <td>28.177407</td>\n",
       "      <td>0.105106</td>\n",
       "      <td>0.115690</td>\n",
       "      <td>0.104170</td>\n",
       "      <td>0.038579</td>\n",
       "      <td>24.461761</td>\n",
       "      <td>0.095541</td>\n",
       "      <td>0.045673</td>\n",
       "      <td>23.998819</td>\n",
       "      <td>703.925715</td>\n",
       "      <td>24.7</td>\n",
       "      <td>24.3</td>\n",
       "    </tr>\n",
       "    <tr>\n",
       "      <th>i</th>\n",
       "      <td>8.226587</td>\n",
       "      <td>14.972993</td>\n",
       "      <td>299.107186</td>\n",
       "      <td>586.743900</td>\n",
       "      <td>0.80</td>\n",
       "      <td>0.70960</td>\n",
       "      <td>20.477419</td>\n",
       "      <td>586.743900</td>\n",
       "      <td>27.879556</td>\n",
       "      <td>0.079889</td>\n",
       "      <td>0.085493</td>\n",
       "      <td>0.073607</td>\n",
       "      <td>0.038735</td>\n",
       "      <td>24.357933</td>\n",
       "      <td>0.068588</td>\n",
       "      <td>0.031395</td>\n",
       "      <td>23.575376</td>\n",
       "      <td>790.247862</td>\n",
       "      <td>24.0</td>\n",
       "      <td>23.6</td>\n",
       "    </tr>\n",
       "    <tr>\n",
       "      <th>z</th>\n",
       "      <td>7.831053</td>\n",
       "      <td>14.391728</td>\n",
       "      <td>354.186816</td>\n",
       "      <td>891.496191</td>\n",
       "      <td>0.78</td>\n",
       "      <td>0.69316</td>\n",
       "      <td>19.599578</td>\n",
       "      <td>891.496191</td>\n",
       "      <td>27.481805</td>\n",
       "      <td>0.055384</td>\n",
       "      <td>0.057871</td>\n",
       "      <td>0.047694</td>\n",
       "      <td>0.038922</td>\n",
       "      <td>24.197484</td>\n",
       "      <td>0.046243</td>\n",
       "      <td>0.020046</td>\n",
       "      <td>23.003495</td>\n",
       "      <td>927.716733</td>\n",
       "      <td>23.3</td>\n",
       "      <td>22.9</td>\n",
       "    </tr>\n",
       "    <tr>\n",
       "      <th>y</th>\n",
       "      <td>7.038891</td>\n",
       "      <td>13.467565</td>\n",
       "      <td>399.186437</td>\n",
       "      <td>1185.511680</td>\n",
       "      <td>0.76</td>\n",
       "      <td>0.67672</td>\n",
       "      <td>18.610405</td>\n",
       "      <td>1185.511680</td>\n",
       "      <td>26.687500</td>\n",
       "      <td>0.026648</td>\n",
       "      <td>0.030944</td>\n",
       "      <td>0.162291</td>\n",
       "      <td>0.039029</td>\n",
       "      <td>23.755786</td>\n",
       "      <td>0.035194</td>\n",
       "      <td>0.014573</td>\n",
       "      <td>22.095412</td>\n",
       "      <td>1030.211963</td>\n",
       "      <td>22.1</td>\n",
       "      <td>21.7</td>\n",
       "    </tr>\n",
       "  </tbody>\n",
       "</table>\n",
       "</div>"
      ],
      "text/plain": [
       "     SatLim   SNR10Lim      SNR10S       SNR10B  FWHMeff  FWHMgeom     skyMag  \\\n",
       "u  7.352250  14.957132  136.151196    40.420286     0.92   0.80824  22.960730   \n",
       "g  8.743553  15.904452  204.708564   205.547397     0.87   0.76714  22.257758   \n",
       "r  8.523151  15.420797  260.522819   409.398572     0.83   0.73426  21.196590   \n",
       "i  8.226587  14.972993  299.107186   586.743900     0.80   0.70960  20.477419   \n",
       "z  7.831053  14.391728  354.186816   891.496191     0.78   0.69316  19.599578   \n",
       "y  7.038891  13.467565  399.186437  1185.511680     0.76   0.67672  18.610405   \n",
       "\n",
       "     skyCounts       Zp_t        Tb        Sb      kAtm     gamma         Cm  \\\n",
       "u    40.420286  27.009181  0.035837  0.057997  0.522669  0.037458  23.155158   \n",
       "g   205.547397  28.399288  0.128938  0.154358  0.195371  0.038234  24.440312   \n",
       "r   409.398572  28.177407  0.105106  0.115690  0.104170  0.038579  24.461761   \n",
       "i   586.743900  27.879556  0.079889  0.085493  0.073607  0.038735  24.357933   \n",
       "z   891.496191  27.481805  0.055384  0.057871  0.047694  0.038922  24.197484   \n",
       "y  1185.511680  26.687500  0.026648  0.030944  0.162291  0.039029  23.755786   \n",
       "\n",
       "   dCm_infinity  dCm_double         m5  sourceCounts  m5_fid  m5_min  \n",
       "u      0.568632    0.353902  23.462511    393.332204    23.9    23.4  \n",
       "g      0.174894    0.090048  24.456850    566.325959    25.0    24.6  \n",
       "r      0.095541    0.045673  23.998819    703.925715    24.7    24.3  \n",
       "i      0.068588    0.031395  23.575376    790.247862    24.0    23.6  \n",
       "z      0.046243    0.020046  23.003495    927.716733    23.3    22.9  \n",
       "y      0.035194    0.014573  22.095412   1030.211963    22.1    21.7  "
      ]
     },
     "execution_count": 11,
     "metadata": {},
     "output_type": "execute_result"
    }
   ],
   "source": [
    "d.join(m5)"
   ]
  },
  {
   "cell_type": "markdown",
   "metadata": {},
   "source": [
    "### It may be easier to reference the results if we use the zeropoints (the AB mag of the source that produces 1 e- per second on the detector)"
   ]
  },
  {
   "cell_type": "code",
   "execution_count": 12,
   "metadata": {},
   "outputs": [],
   "source": [
    "d_zp = pd.DataFrame(index=filterlist, columns=properties, dtype='float')\n",
    "for f in system:\n",
    "    key = 'SatLim'\n",
    "    NN = full_well-m5.skyCounts[f] #max number of e- we can accommodate in 1 pixel; we ignore readnoise here\n",
    "    #number of electrons we can accomodate for the source in 30 sec\n",
    "    ne = (NN)/ratio\n",
    "    #number of electrons we can accomodate for this source in 1 sec\n",
    "    ne = ne/(exptime*nexp)\n",
    "    d_zp[key].loc[f] = (m5.Zp_t[f]-2.5*np.log10(ne))\n",
    "    \n",
    "    key = 'SNR%dLim'%snrLim\n",
    "    myB = m5.skyCounts[f] + np.sqrt(photParams_std.readnoise**2*photParams_std.nexp)\n",
    "    NN = (snrLim**2+np.sqrt(snrLim**4+4*snrLim**2*myB))/2 #min number of e- we need in 1 pixel\n",
    "    #number of electrons we can accomodate for the source in 30 sec\n",
    "    ne = (NN)/ratio\n",
    "    #number of electrons we can accomodate for this source in 1 sec\n",
    "    ne = ne/(exptime*nexp)\n",
    "    d_zp[key].loc[f] = (m5.Zp_t[f]-2.5*np.log10(ne))\n",
    "    \n",
    "    key = 'SNR%dS'%snrLim\n",
    "    d_zp[key].loc[f] = NN\n",
    "    key = 'SNR%dB'%snrLim\n",
    "    d_zp[key].loc[f] = m5.skyCounts[f] "
   ]
  },
  {
   "cell_type": "code",
   "execution_count": 13,
   "metadata": {},
   "outputs": [
    {
     "data": {
      "text/html": [
       "<div>\n",
       "<style scoped>\n",
       "    .dataframe tbody tr th:only-of-type {\n",
       "        vertical-align: middle;\n",
       "    }\n",
       "\n",
       "    .dataframe tbody tr th {\n",
       "        vertical-align: top;\n",
       "    }\n",
       "\n",
       "    .dataframe thead th {\n",
       "        text-align: right;\n",
       "    }\n",
       "</style>\n",
       "<table border=\"1\" class=\"dataframe\">\n",
       "  <thead>\n",
       "    <tr style=\"text-align: right;\">\n",
       "      <th></th>\n",
       "      <th>SatLim</th>\n",
       "      <th>SNR10Lim</th>\n",
       "      <th>SNR10S</th>\n",
       "      <th>SNR10B</th>\n",
       "    </tr>\n",
       "  </thead>\n",
       "  <tbody>\n",
       "    <tr>\n",
       "      <th>u</th>\n",
       "      <td>0.0</td>\n",
       "      <td>0.0</td>\n",
       "      <td>0.0</td>\n",
       "      <td>0.0</td>\n",
       "    </tr>\n",
       "    <tr>\n",
       "      <th>g</th>\n",
       "      <td>0.0</td>\n",
       "      <td>-0.0</td>\n",
       "      <td>0.0</td>\n",
       "      <td>0.0</td>\n",
       "    </tr>\n",
       "    <tr>\n",
       "      <th>r</th>\n",
       "      <td>0.0</td>\n",
       "      <td>0.0</td>\n",
       "      <td>0.0</td>\n",
       "      <td>0.0</td>\n",
       "    </tr>\n",
       "    <tr>\n",
       "      <th>i</th>\n",
       "      <td>0.0</td>\n",
       "      <td>0.0</td>\n",
       "      <td>0.0</td>\n",
       "      <td>0.0</td>\n",
       "    </tr>\n",
       "    <tr>\n",
       "      <th>z</th>\n",
       "      <td>0.0</td>\n",
       "      <td>-0.0</td>\n",
       "      <td>0.0</td>\n",
       "      <td>0.0</td>\n",
       "    </tr>\n",
       "    <tr>\n",
       "      <th>y</th>\n",
       "      <td>0.0</td>\n",
       "      <td>0.0</td>\n",
       "      <td>0.0</td>\n",
       "      <td>0.0</td>\n",
       "    </tr>\n",
       "  </tbody>\n",
       "</table>\n",
       "</div>"
      ],
      "text/plain": [
       "   SatLim  SNR10Lim  SNR10S  SNR10B\n",
       "u     0.0       0.0     0.0     0.0\n",
       "g     0.0      -0.0     0.0     0.0\n",
       "r     0.0       0.0     0.0     0.0\n",
       "i     0.0       0.0     0.0     0.0\n",
       "z     0.0      -0.0     0.0     0.0\n",
       "y     0.0       0.0     0.0     0.0"
      ]
     },
     "execution_count": 13,
     "metadata": {},
     "output_type": "execute_result"
    }
   ],
   "source": [
    "round(d_zp - d)  #should be idential to above calculations"
   ]
  },
  {
   "cell_type": "markdown",
   "metadata": {},
   "source": [
    "### Now make the plots"
   ]
  },
  {
   "cell_type": "code",
   "execution_count": 14,
   "metadata": {},
   "outputs": [],
   "source": [
    "colors = ['blue', 'green', 'red', '0.75', '0.50', '0.25']\n",
    "d_plot = pd.DataFrame(index=filterlist, columns=['SatLimFromPlot', 'SNR%dLimFromPlot'%snrLim], dtype='float')\n",
    "d_2016 = pd.DataFrame(index=filterlist, columns=['SatLim','SNR%dLim'%snrLim], dtype='float')"
   ]
  },
  {
   "cell_type": "code",
   "execution_count": 15,
   "metadata": {},
   "outputs": [
    {
     "data": {
      "image/png": "[encoded data removed]",
      "text/plain": [
       "<Figure size 432x288 with 1 Axes>"
      ]
     },
     "metadata": {
      "needs_background": "light"
     },
     "output_type": "display_data"
    }
   ],
   "source": [
    "fig, ax = plt.subplots()\n",
    "for i,f in enumerate(filterlist):\n",
    "    mags = []\n",
    "    npeaks = []\n",
    "    flatsource = Sed()\n",
    "    flatsource.setFlatSED(wavelen_min=system[f].wavelen_min, wavelen_max=system[f].wavelen_max,\n",
    "                              wavelen_step=system[f].wavelen_step)\n",
    "    adu = flatsource.calcADU(system[f], photParams=photParams_std)\n",
    "    adu0 = adu*ratio #a m=0 start produces this adu0 in the center pixel\n",
    "    for m in range(31):\n",
    "        mag = 6.0 + 0.2 * m\n",
    "        mags.append(mag)\n",
    "        npeak = adu0*10**(-mag/2.5)+m5.skyCounts[f] #; we ignore readnoise here\n",
    "        npeaks.append(npeak)\n",
    "    plt.scatter(mags, npeaks, label=f, color=colors[i])\n",
    "    #print(npeak)\n",
    "    #break\n",
    "    d_plot.SatLimFromPlot.loc[f] = mags[np.argmax(np.array(npeaks)<full_well)]\n",
    "plt.plot([5.0,20.0],[full_well, full_well], ls = '--', lw = 2, color='black')\n",
    "plt.text(10, full_well*1.20, \"Saturation = %d e-\"%full_well, color = 'black')\n",
    "plt.plot([5.0,20.0],[full_well2, full_well2], ls = '--', lw = 2, color='black')\n",
    "plt.text(10, full_well2*0.7, \"Saturation = %d e-\"%full_well2, color = 'black')\n",
    "plt.text(0.3, 0.24, \"donutD = %.0f pixels\"%(r*2), color = 'black', transform=fig.transFigure)\n",
    "plt.text(0.3, 0.18, \"Dark Sky\", color = 'black', transform=fig.transFigure)\n",
    "plt.legend()\n",
    "plt.yscale('log')\n",
    "plt.xlim(5.0,13)\n",
    "plt.ylim(1e3, 2.5e6)\n",
    "plt.xlabel('Magnitude', fontsize=12)\n",
    "plt.ylabel('Peak pixel count(electrons)', fontsize=12);"
   ]
  },
  {
   "cell_type": "code",
   "execution_count": 16,
   "metadata": {},
   "outputs": [
    {
     "data": {
      "image/png": "[encoded data removed]",
      "text/plain": [
       "<Figure size 432x288 with 1 Axes>"
      ]
     },
     "metadata": {
      "needs_background": "light"
     },
     "output_type": "display_data"
    }
   ],
   "source": [
    "snrLim2 = 5\n",
    "fig, ax = plt.subplots()\n",
    "for i,f in enumerate(filterlist):\n",
    "    mags = []\n",
    "    snrs = []\n",
    "    flatsource = Sed()\n",
    "    flatsource.setFlatSED(wavelen_min=system[f].wavelen_min, wavelen_max=system[f].wavelen_max,\n",
    "                              wavelen_step=system[f].wavelen_step)\n",
    "    adu = flatsource.calcADU(system[f], photParams=photParams_std)\n",
    "    adu0 = adu*ratio #a m=0 start produces this adu0 in the center pixel\n",
    "    for m in range(31):\n",
    "        mag = 12.0 + 0.2 * m\n",
    "        mags.append(mag)\n",
    "        s = adu0*10**(-mag/2.5)\n",
    "        myB = m5.skyCounts[f] + np.sqrt(photParams_std.readnoise**2*photParams_std.nexp)\n",
    "        snr = s/np.sqrt(s+myB)\n",
    "        snrs.append(snr)\n",
    "    plt.scatter(mags, snrs, label=f, color=colors[i])\n",
    "    #print(npeak)\n",
    "    #break\n",
    "    key = 'SNR%dLimFromPlot'%snrLim\n",
    "    d_plot[key].loc[f] = mags[np.argmax(np.array(snrs)<snrLim)]\n",
    "plt.plot([1.0,20.0],[snrLim, snrLim], ls = '--', lw = 2, color='black')\n",
    "plt.text(11.2, snrLim*1.20, \"SNR = %d\"%snrLim, color = 'black')\n",
    "plt.plot([1.0,20.0],[snrLim2, snrLim2], ls = '--', lw = 2, color='black')\n",
    "plt.text(11.2, snrLim2*0.7, \"SNR = %d\"%snrLim2, color = 'black')\n",
    "plt.text(0.2, 0.24, \"donutD = %.0f pixels\"%(r*2), color = 'black', transform=fig.transFigure)\n",
    "plt.text(0.2, 0.18, \"Dark Sky\", color = 'black', transform=fig.transFigure)\n",
    "plt.legend()\n",
    "plt.yscale('log')\n",
    "plt.xlim(11.0,19.0)\n",
    "plt.ylim(1, 1.5e2)\n",
    "plt.xlabel('Magnitude', fontsize=12)\n",
    "plt.ylabel('SNR', fontsize=12);"
   ]
  },
  {
   "cell_type": "code",
   "execution_count": 17,
   "metadata": {},
   "outputs": [
    {
     "data": {
      "text/html": [
       "<div>\n",
       "<style scoped>\n",
       "    .dataframe tbody tr th:only-of-type {\n",
       "        vertical-align: middle;\n",
       "    }\n",
       "\n",
       "    .dataframe tbody tr th {\n",
       "        vertical-align: top;\n",
       "    }\n",
       "\n",
       "    .dataframe thead th {\n",
       "        text-align: right;\n",
       "    }\n",
       "</style>\n",
       "<table border=\"1\" class=\"dataframe\">\n",
       "  <thead>\n",
       "    <tr style=\"text-align: right;\">\n",
       "      <th></th>\n",
       "      <th>SatLimFromPlot</th>\n",
       "      <th>SNR10LimFromPlot</th>\n",
       "      <th>SatLim</th>\n",
       "      <th>SNR10Lim</th>\n",
       "      <th>SNR10S</th>\n",
       "      <th>SNR10B</th>\n",
       "    </tr>\n",
       "  </thead>\n",
       "  <tbody>\n",
       "    <tr>\n",
       "      <th>u</th>\n",
       "      <td>7.4</td>\n",
       "      <td>15.0</td>\n",
       "      <td>7.352250</td>\n",
       "      <td>14.957132</td>\n",
       "      <td>136.151196</td>\n",
       "      <td>40.420286</td>\n",
       "    </tr>\n",
       "    <tr>\n",
       "      <th>g</th>\n",
       "      <td>8.8</td>\n",
       "      <td>16.0</td>\n",
       "      <td>8.743553</td>\n",
       "      <td>15.904452</td>\n",
       "      <td>204.708564</td>\n",
       "      <td>205.547397</td>\n",
       "    </tr>\n",
       "    <tr>\n",
       "      <th>r</th>\n",
       "      <td>8.6</td>\n",
       "      <td>15.6</td>\n",
       "      <td>8.523151</td>\n",
       "      <td>15.420797</td>\n",
       "      <td>260.522819</td>\n",
       "      <td>409.398572</td>\n",
       "    </tr>\n",
       "    <tr>\n",
       "      <th>i</th>\n",
       "      <td>8.4</td>\n",
       "      <td>15.0</td>\n",
       "      <td>8.226587</td>\n",
       "      <td>14.972993</td>\n",
       "      <td>299.107186</td>\n",
       "      <td>586.743900</td>\n",
       "    </tr>\n",
       "    <tr>\n",
       "      <th>z</th>\n",
       "      <td>8.0</td>\n",
       "      <td>14.4</td>\n",
       "      <td>7.831053</td>\n",
       "      <td>14.391728</td>\n",
       "      <td>354.186816</td>\n",
       "      <td>891.496191</td>\n",
       "    </tr>\n",
       "    <tr>\n",
       "      <th>y</th>\n",
       "      <td>7.2</td>\n",
       "      <td>13.6</td>\n",
       "      <td>7.038891</td>\n",
       "      <td>13.467565</td>\n",
       "      <td>399.186437</td>\n",
       "      <td>1185.511680</td>\n",
       "    </tr>\n",
       "  </tbody>\n",
       "</table>\n",
       "</div>"
      ],
      "text/plain": [
       "   SatLimFromPlot  SNR10LimFromPlot    SatLim   SNR10Lim      SNR10S  \\\n",
       "u             7.4              15.0  7.352250  14.957132  136.151196   \n",
       "g             8.8              16.0  8.743553  15.904452  204.708564   \n",
       "r             8.6              15.6  8.523151  15.420797  260.522819   \n",
       "i             8.4              15.0  8.226587  14.972993  299.107186   \n",
       "z             8.0              14.4  7.831053  14.391728  354.186816   \n",
       "y             7.2              13.6  7.038891  13.467565  399.186437   \n",
       "\n",
       "        SNR10B  \n",
       "u    40.420286  \n",
       "g   205.547397  \n",
       "r   409.398572  \n",
       "i   586.743900  \n",
       "z   891.496191  \n",
       "y  1185.511680  "
      ]
     },
     "execution_count": 17,
     "metadata": {},
     "output_type": "execute_result"
    }
   ],
   "source": [
    "#check consistency with above calculations.\n",
    "d_plot.join(d)"
   ]
  },
  {
   "cell_type": "code",
   "execution_count": 18,
   "metadata": {},
   "outputs": [],
   "source": [
    "#values copied from https://github.com/lsst-ts/ts_wep/blob/master/python/lsst/ts/wep/bsc/Filter.py  commit b5dcb9a\n",
    "d_2016.SatLim['u'] = 7.94\n",
    "d_2016['SNR%dLim'%snrLim]['u'] = 14.80\n",
    "\n",
    "d_2016.SatLim['g'] = 9.74\n",
    "d_2016['SNR%dLim'%snrLim]['g'] = 16.17\n",
    "\n",
    "d_2016.SatLim['r'] = 9.56\n",
    "d_2016['SNR%dLim'%snrLim]['r'] = 15.73\n",
    "\n",
    "d_2016.SatLim['i'] = 9.22\n",
    "d_2016['SNR%dLim'%snrLim]['i'] = 15.26\n",
    "\n",
    "d_2016.SatLim['z'] = 8.83\n",
    "d_2016['SNR%dLim'%snrLim]['z'] = 14.68\n",
    "\n",
    "d_2016.SatLim['y'] = 8.02\n",
    "d_2016['SNR%dLim'%snrLim]['y'] = 13.76"
   ]
  },
  {
   "cell_type": "code",
   "execution_count": 19,
   "metadata": {},
   "outputs": [
    {
     "data": {
      "text/html": [
       "<div>\n",
       "<style scoped>\n",
       "    .dataframe tbody tr th:only-of-type {\n",
       "        vertical-align: middle;\n",
       "    }\n",
       "\n",
       "    .dataframe tbody tr th {\n",
       "        vertical-align: top;\n",
       "    }\n",
       "\n",
       "    .dataframe thead th {\n",
       "        text-align: right;\n",
       "    }\n",
       "</style>\n",
       "<table border=\"1\" class=\"dataframe\">\n",
       "  <thead>\n",
       "    <tr style=\"text-align: right;\">\n",
       "      <th></th>\n",
       "      <th>SNR10B</th>\n",
       "      <th>SNR10Lim</th>\n",
       "      <th>SNR10S</th>\n",
       "      <th>SatLim</th>\n",
       "    </tr>\n",
       "  </thead>\n",
       "  <tbody>\n",
       "    <tr>\n",
       "      <th>u</th>\n",
       "      <td>NaN</td>\n",
       "      <td>0.157132</td>\n",
       "      <td>NaN</td>\n",
       "      <td>-0.587750</td>\n",
       "    </tr>\n",
       "    <tr>\n",
       "      <th>g</th>\n",
       "      <td>NaN</td>\n",
       "      <td>-0.265548</td>\n",
       "      <td>NaN</td>\n",
       "      <td>-0.996447</td>\n",
       "    </tr>\n",
       "    <tr>\n",
       "      <th>r</th>\n",
       "      <td>NaN</td>\n",
       "      <td>-0.309203</td>\n",
       "      <td>NaN</td>\n",
       "      <td>-1.036849</td>\n",
       "    </tr>\n",
       "    <tr>\n",
       "      <th>i</th>\n",
       "      <td>NaN</td>\n",
       "      <td>-0.287007</td>\n",
       "      <td>NaN</td>\n",
       "      <td>-0.993413</td>\n",
       "    </tr>\n",
       "    <tr>\n",
       "      <th>z</th>\n",
       "      <td>NaN</td>\n",
       "      <td>-0.288272</td>\n",
       "      <td>NaN</td>\n",
       "      <td>-0.998947</td>\n",
       "    </tr>\n",
       "    <tr>\n",
       "      <th>y</th>\n",
       "      <td>NaN</td>\n",
       "      <td>-0.292435</td>\n",
       "      <td>NaN</td>\n",
       "      <td>-0.981109</td>\n",
       "    </tr>\n",
       "  </tbody>\n",
       "</table>\n",
       "</div>"
      ],
      "text/plain": [
       "   SNR10B  SNR10Lim  SNR10S    SatLim\n",
       "u     NaN  0.157132     NaN -0.587750\n",
       "g     NaN -0.265548     NaN -0.996447\n",
       "r     NaN -0.309203     NaN -1.036849\n",
       "i     NaN -0.287007     NaN -0.993413\n",
       "z     NaN -0.288272     NaN -0.998947\n",
       "y     NaN -0.292435     NaN -0.981109"
      ]
     },
     "execution_count": 19,
     "metadata": {},
     "output_type": "execute_result"
    }
   ],
   "source": [
    "#negative means we are brighter now\n",
    "d-d_2016"
   ]
  },
  {
   "cell_type": "markdown",
   "metadata": {},
   "source": [
    "#### Now do the same thing for bright sky. We will only do the calculations using zero points below."
   ]
  },
  {
   "cell_type": "code",
   "execution_count": 20,
   "metadata": {},
   "outputs": [
    {
     "name": "stdout",
     "output_type": "stream",
     "text": [
      "u 27.009181343298994 22.960730180229127 49.953015613436925 40.420286418944166\n",
      "g 28.39928844119809 22.257757986434328 343.3945735171815 205.54739700718122\n",
      "r 28.17740748284969 21.19658987481676 743.8892611843139 409.3985724593956\n",
      "i 27.879555761190304 20.477418932398777 1096.5690336979158 586.7438995182729\n",
      "z 27.48180492203217 19.599578356350023 1706.3647555821005 891.4961913181043\n",
      "y 26.68750015086725 18.61040493721628 2041.8288294344675 1185.5116804539082\n"
     ]
    }
   ],
   "source": [
    "#to make sure we add the 0.4 mag to the sky correctly, let's verify we can use darksky mag to reproduce dark sky count\n",
    "# can we use the zero point to do that?\n",
    "for f in filterlist:\n",
    "    print(f, m5.Zp_t[f], m5.skyMag[f], 10**((m5.Zp_t[f] - m5.skyMag[f])/2.5)*30*0.2*0.2, m5.skyCounts[f])\n",
    "#The answer is no. The reason is because the zero point contains effect of atmosphere+hardware. \n",
    "#The photons produced by a certain sky mag only go through the hardware, not atmosphere"
   ]
  },
  {
   "cell_type": "code",
   "execution_count": 21,
   "metadata": {},
   "outputs": [],
   "source": [
    "import os\n",
    "from lsst.utils import getPackageDir\n",
    "def skyMag2Count(skyMag, f, hardware, photParams):\n",
    "    '''\n",
    "    inputs:\n",
    "        skyMag is the sky magnitude\n",
    "        f is the filter band\n",
    "        hardware: an bandpass object as defined in the syseng_throughput package\n",
    "        photParams: an PhotometricParameters object as defined in the syseng_throughput package\n",
    "    output:\n",
    "        skycount in each pixel\n",
    "    '''\n",
    "    darksky = Sed()\n",
    "    darksky.readSED_flambda(os.path.join(getPackageDir('syseng_throughputs'),\n",
    "                                             'siteProperties', 'darksky.dat'))\n",
    "    fNorm = darksky.calcFluxNorm(skyMag, hardware)\n",
    "    darksky.multiplyFluxNorm(fNorm)\n",
    "    skyCount = (darksky.calcADU(hardware, photParams=photParams)* photParams.platescale**2)\n",
    "    return fNorm, skyCount"
   ]
  },
  {
   "cell_type": "code",
   "execution_count": 22,
   "metadata": {},
   "outputs": [
    {
     "name": "stdout",
     "output_type": "stream",
     "text": [
      "u 1.0 40.420286418944166 40.420286418944166\n",
      "g 1.0 205.54739700718122 205.54739700718122\n",
      "r 1.0 409.3985724593956 409.3985724593956\n",
      "i 1.0 586.7438995182729 586.7438995182729\n",
      "z 1.0 891.4961913181043 891.4961913181043\n",
      "y 1.0 1185.5116804539082 1185.5116804539082\n"
     ]
    }
   ],
   "source": [
    "# Now we can reproduce m5 sky count with m5 sky mag, we are confident to proceed\n",
    "for f in filterlist:\n",
    "    fNorm, skyCount = skyMag2Count(m5.skyMag[f], f, hardware[f], photParams_std)\n",
    "    print(f, fNorm, skyCount, m5.skyCounts[f])"
   ]
  },
  {
   "cell_type": "markdown",
   "metadata": {},
   "source": [
    "skyBrightMag below is sky brightness at 50 deg from full moon (based on DeCam experience)\n",
    "\n",
    "The 11 yr solar cycle gives 0.5 mag change in v band.  For SpaceX studies, Tony recommended adding 0.4 mag to the sky due to solar cycle.\n",
    "We will do the same here."
   ]
  },
  {
   "cell_type": "code",
   "execution_count": 23,
   "metadata": {},
   "outputs": [],
   "source": [
    "skyBrightMag = {'u': 17.7, 'g':19.4, 'r':19.7, 'i':19.4, 'z':18.2, 'y':17.7}"
   ]
  },
  {
   "cell_type": "code",
   "execution_count": 24,
   "metadata": {},
   "outputs": [
    {
     "name": "stdout",
     "output_type": "stream",
     "text": [
      "u, 7428.33, 7428.33, -0.00\n",
      "g, 4130.62, 4130.62, 0.00\n",
      "r, 2348.46, 2348.46, -0.00\n",
      "i, 2287.79, 2287.79, -0.00\n",
      "z, 4676.82, 4676.82, -0.00\n",
      "y, 3963.40, 3963.40, 0.00\n"
     ]
    }
   ],
   "source": [
    "skyCounts = {}\n",
    "for f in filterlist:\n",
    "    skyCount = 10**((0.4+m5.skyMag[f]-skyBrightMag[f])/2.5)*m5.skyCounts[f] # we can actually simply calculate sky count this way.\n",
    "    skyCounts[f]=skyCount\n",
    "    fNorm, skyCount1 = skyMag2Count(skyBrightMag[f]-0.4, f, hardware[f], photParams_std)\n",
    "    print('%s, %.2f, %.2f, %.2f'%(f, skyCount, skyCount1, skyCount-skyCount1)) # this is just to double check"
   ]
  },
  {
   "cell_type": "code",
   "execution_count": 25,
   "metadata": {},
   "outputs": [
    {
     "data": {
      "text/plain": [
       "{'u': 7428.33461613624,\n",
       " 'g': 4130.619357350411,\n",
       " 'r': 2348.4551679281544,\n",
       " 'i': 2287.789991934199,\n",
       " 'z': 4676.821932008422,\n",
       " 'y': 3963.39915253661}"
      ]
     },
     "execution_count": 25,
     "metadata": {},
     "output_type": "execute_result"
    }
   ],
   "source": [
    "skyCounts"
   ]
  },
  {
   "cell_type": "code",
   "execution_count": 26,
   "metadata": {},
   "outputs": [],
   "source": [
    "#use zero points to calculate saturation magnitudes under bright sky\n",
    "d_zp_bright = pd.DataFrame(index=filterlist, columns=properties, dtype='float')\n",
    "for f in system:\n",
    "    key = 'SatLim'\n",
    "    NN = full_well-skyCounts[f] #; we ignore readnoise here\n",
    "    #number of electrons we can accomodate for the source in 30 sec\n",
    "    ne = (NN)/ratio\n",
    "    #number of electrons we can accomodate for this source in 1 sec\n",
    "    ne = ne/(exptime*nexp)\n",
    "    d_zp_bright[key].loc[f] = (m5.Zp_t[f]-2.5*np.log10(ne))\n",
    "    \n",
    "    key = 'SNR%dLim'%snrLim\n",
    "    myB = skyCounts[f] + np.sqrt(photParams_std.readnoise**2*photParams_std.nexp)\n",
    "    NN = (snrLim**2+np.sqrt(snrLim**4+4*snrLim**2*myB))/2 #min number of e- we need in 1 pixel\n",
    "    #number of electrons we can accomodate for the source in 30 sec\n",
    "    ne = (NN)/ratio\n",
    "    #number of electrons we can accomodate for this source in 1 sec\n",
    "    ne = ne/(exptime*nexp)\n",
    "    d_zp_bright[key].loc[f] = (m5.Zp_t[f]-2.5*np.log10(ne))\n",
    "    \n",
    "    key = 'SNR%dS'%snrLim\n",
    "    d_zp_bright[key].loc[f] = NN\n",
    "    key = 'SNR%dB'%snrLim\n",
    "    d_zp_bright[key].loc[f] = skyCounts[f] "
   ]
  },
  {
   "cell_type": "code",
   "execution_count": 27,
   "metadata": {},
   "outputs": [
    {
     "data": {
      "text/html": [
       "<div>\n",
       "<style scoped>\n",
       "    .dataframe tbody tr th:only-of-type {\n",
       "        vertical-align: middle;\n",
       "    }\n",
       "\n",
       "    .dataframe tbody tr th {\n",
       "        vertical-align: top;\n",
       "    }\n",
       "\n",
       "    .dataframe thead th {\n",
       "        text-align: right;\n",
       "    }\n",
       "</style>\n",
       "<table border=\"1\" class=\"dataframe\">\n",
       "  <thead>\n",
       "    <tr style=\"text-align: right;\">\n",
       "      <th></th>\n",
       "      <th>SatLim</th>\n",
       "      <th>SNR10Lim</th>\n",
       "      <th>SNR10S</th>\n",
       "      <th>SNR10B</th>\n",
       "    </tr>\n",
       "  </thead>\n",
       "  <tbody>\n",
       "    <tr>\n",
       "      <th>u</th>\n",
       "      <td>7.407102</td>\n",
       "      <td>12.890014</td>\n",
       "      <td>913.836479</td>\n",
       "      <td>7428.334616</td>\n",
       "    </tr>\n",
       "    <tr>\n",
       "      <th>g</th>\n",
       "      <td>8.772382</td>\n",
       "      <td>14.576826</td>\n",
       "      <td>695.323125</td>\n",
       "      <td>4130.619357</td>\n",
       "    </tr>\n",
       "    <tr>\n",
       "      <th>r</th>\n",
       "      <td>8.537317</td>\n",
       "      <td>14.633287</td>\n",
       "      <td>538.083514</td>\n",
       "      <td>2348.455168</td>\n",
       "    </tr>\n",
       "    <tr>\n",
       "      <th>i</th>\n",
       "      <td>8.239019</td>\n",
       "      <td>14.348130</td>\n",
       "      <td>531.828807</td>\n",
       "      <td>2287.789992</td>\n",
       "    </tr>\n",
       "    <tr>\n",
       "      <th>z</th>\n",
       "      <td>7.858972</td>\n",
       "      <td>13.597113</td>\n",
       "      <td>736.339707</td>\n",
       "      <td>4676.821932</td>\n",
       "    </tr>\n",
       "    <tr>\n",
       "      <th>y</th>\n",
       "      <td>7.059350</td>\n",
       "      <td>12.885671</td>\n",
       "      <td>682.234067</td>\n",
       "      <td>3963.399153</td>\n",
       "    </tr>\n",
       "  </tbody>\n",
       "</table>\n",
       "</div>"
      ],
      "text/plain": [
       "     SatLim   SNR10Lim      SNR10S       SNR10B\n",
       "u  7.407102  12.890014  913.836479  7428.334616\n",
       "g  8.772382  14.576826  695.323125  4130.619357\n",
       "r  8.537317  14.633287  538.083514  2348.455168\n",
       "i  8.239019  14.348130  531.828807  2287.789992\n",
       "z  7.858972  13.597113  736.339707  4676.821932\n",
       "y  7.059350  12.885671  682.234067  3963.399153"
      ]
     },
     "execution_count": 27,
     "metadata": {},
     "output_type": "execute_result"
    }
   ],
   "source": [
    "d_zp_bright"
   ]
  },
  {
   "cell_type": "code",
   "execution_count": 28,
   "metadata": {},
   "outputs": [
    {
     "data": {
      "text/html": [
       "<div>\n",
       "<style scoped>\n",
       "    .dataframe tbody tr th:only-of-type {\n",
       "        vertical-align: middle;\n",
       "    }\n",
       "\n",
       "    .dataframe tbody tr th {\n",
       "        vertical-align: top;\n",
       "    }\n",
       "\n",
       "    .dataframe thead th {\n",
       "        text-align: right;\n",
       "    }\n",
       "</style>\n",
       "<table border=\"1\" class=\"dataframe\">\n",
       "  <thead>\n",
       "    <tr style=\"text-align: right;\">\n",
       "      <th></th>\n",
       "      <th>SatLim</th>\n",
       "      <th>SNR10Lim</th>\n",
       "      <th>SNR10S</th>\n",
       "      <th>SNR10B</th>\n",
       "    </tr>\n",
       "  </thead>\n",
       "  <tbody>\n",
       "    <tr>\n",
       "      <th>u</th>\n",
       "      <td>0.054852</td>\n",
       "      <td>-2.067118</td>\n",
       "      <td>777.685282</td>\n",
       "      <td>7387.914330</td>\n",
       "    </tr>\n",
       "    <tr>\n",
       "      <th>g</th>\n",
       "      <td>0.028829</td>\n",
       "      <td>-1.327627</td>\n",
       "      <td>490.614561</td>\n",
       "      <td>3925.071960</td>\n",
       "    </tr>\n",
       "    <tr>\n",
       "      <th>r</th>\n",
       "      <td>0.014166</td>\n",
       "      <td>-0.787510</td>\n",
       "      <td>277.560695</td>\n",
       "      <td>1939.056595</td>\n",
       "    </tr>\n",
       "    <tr>\n",
       "      <th>i</th>\n",
       "      <td>0.012432</td>\n",
       "      <td>-0.624863</td>\n",
       "      <td>232.721621</td>\n",
       "      <td>1701.046092</td>\n",
       "    </tr>\n",
       "    <tr>\n",
       "      <th>z</th>\n",
       "      <td>0.027919</td>\n",
       "      <td>-0.794615</td>\n",
       "      <td>382.152891</td>\n",
       "      <td>3785.325741</td>\n",
       "    </tr>\n",
       "    <tr>\n",
       "      <th>y</th>\n",
       "      <td>0.020459</td>\n",
       "      <td>-0.581894</td>\n",
       "      <td>283.047629</td>\n",
       "      <td>2777.887472</td>\n",
       "    </tr>\n",
       "  </tbody>\n",
       "</table>\n",
       "</div>"
      ],
      "text/plain": [
       "     SatLim  SNR10Lim      SNR10S       SNR10B\n",
       "u  0.054852 -2.067118  777.685282  7387.914330\n",
       "g  0.028829 -1.327627  490.614561  3925.071960\n",
       "r  0.014166 -0.787510  277.560695  1939.056595\n",
       "i  0.012432 -0.624863  232.721621  1701.046092\n",
       "z  0.027919 -0.794615  382.152891  3785.325741\n",
       "y  0.020459 -0.581894  283.047629  2777.887472"
      ]
     },
     "execution_count": 28,
     "metadata": {},
     "output_type": "execute_result"
    }
   ],
   "source": [
    "#negative means we are brighter now\n",
    "d_zp_bright - d_zp"
   ]
  },
  {
   "cell_type": "code",
   "execution_count": 29,
   "metadata": {},
   "outputs": [
    {
     "data": {
      "image/png": "[encoded data removed]",
      "text/plain": [
       "<Figure size 432x288 with 1 Axes>"
      ]
     },
     "metadata": {
      "needs_background": "light"
     },
     "output_type": "display_data"
    }
   ],
   "source": [
    "d_plot_zp_bright = pd.DataFrame(index=filterlist, columns=['SatLimFromPlot', 'SNR%dLimFromPlot'%snrLim], dtype='float') # b for bright sky\n",
    "fig, ax = plt.subplots()\n",
    "for i,f in enumerate(filterlist):\n",
    "    mags = []\n",
    "    npeaks = []\n",
    "    flatsource = Sed()\n",
    "    flatsource.setFlatSED(wavelen_min=system[f].wavelen_min, wavelen_max=system[f].wavelen_max,\n",
    "                              wavelen_step=system[f].wavelen_step)\n",
    "    adu = flatsource.calcADU(system[f], photParams=photParams_std)\n",
    "    adu0 = adu*ratio #a m=0 start produces this adu0 in the center pixel\n",
    "    for m in range(31):\n",
    "        mag = 7.0 + 0.2 * m\n",
    "        mags.append(mag)\n",
    "        npeak = adu0*10**(-mag/2.5)+skyCounts[f] #; we ignore readnoise here\n",
    "        npeaks.append(npeak)\n",
    "    plt.scatter(mags, npeaks, label=f, color=colors[i])\n",
    "    #print(npeak)\n",
    "    #break\n",
    "    d_plot_zp_bright.SatLimFromPlot.loc[f] = mags[np.argmax(np.array(npeaks)<full_well)]\n",
    "plt.plot([6.0,20.0],[full_well, full_well], ls = '--', lw = 2, color='black')\n",
    "plt.text(11, full_well*1.20, \"Saturation = %d e-\"%full_well, color = 'black')\n",
    "plt.plot([6.0,20.0],[full_well2, full_well2], ls = '--', lw = 2, color='black')\n",
    "plt.text(11, full_well2*0.7, \"Saturation = %d e-\"%full_well2, color = 'black')\n",
    "plt.text(0.3, 0.24, \"donutD = %.0f pixels\"%(r*2), color = 'black', transform=fig.transFigure)\n",
    "plt.text(0.3, 0.18, \"Bright Sky\", color = 'black', transform=fig.transFigure)\n",
    "plt.legend()\n",
    "plt.yscale('log')\n",
    "plt.xlim(6.0,14.0)\n",
    "plt.ylim(1e3, 1.5e6)\n",
    "plt.xlabel('Magnitude', fontsize=12)\n",
    "plt.ylabel('Peak pixel count(electrons)', fontsize=12);\n",
    "#plt.savefig('Peak_count_by_band_brightSky_donut.pdf')"
   ]
  },
  {
   "cell_type": "code",
   "execution_count": 30,
   "metadata": {},
   "outputs": [
    {
     "data": {
      "image/png": "[encoded data removed]",
      "text/plain": [
       "<Figure size 432x288 with 1 Axes>"
      ]
     },
     "metadata": {
      "needs_background": "light"
     },
     "output_type": "display_data"
    }
   ],
   "source": [
    "fig, ax = plt.subplots()\n",
    "for i,f in enumerate(filterlist):\n",
    "    mags = []\n",
    "    snrs = []\n",
    "    flatsource = Sed()\n",
    "    flatsource.setFlatSED(wavelen_min=system[f].wavelen_min, wavelen_max=system[f].wavelen_max,\n",
    "                              wavelen_step=system[f].wavelen_step)\n",
    "    adu = flatsource.calcADU(system[f], photParams=photParams_std)\n",
    "    adu0 = adu*ratio #a m=0 start produces this adu0 in the center pixel\n",
    "    for m in range(31):\n",
    "        mag = 12.0 + 0.2 * m\n",
    "        mags.append(mag)\n",
    "        s = adu0*10**(-mag/2.5)\n",
    "        myB = skyCounts[f] + np.sqrt(photParams_std.readnoise**2*photParams_std.nexp)\n",
    "        snr = s/np.sqrt(s+myB)\n",
    "        snrs.append(snr)\n",
    "    plt.scatter(mags, snrs, label=f, color=colors[i])#, s=10)\n",
    "    #print(f, snrs)\n",
    "    #break\n",
    "    d_plot_zp_bright['SNR%dLimFromPlot'%snrLim].loc[f] = mags[np.argmax(np.array(snrs)<snrLim)]\n",
    "plt.plot([1.0,20.0],[snrLim, snrLim], ls = '--', lw = 2, color='black')\n",
    "plt.text(11.1, snrLim*1.20, \"SNR = %d\"%snrLim, color = 'black')\n",
    "plt.plot([1.0,20.0],[snrLim2, snrLim2], ls = '--', lw = 2, color='black')\n",
    "plt.text(11.1, snrLim2*0.7, \"SNR = %d\"%snrLim2, color = 'black')\n",
    "plt.text(0.35, 0.24, \"donutD = %.0f pixels\"%(r*2), color = 'black', transform=fig.transFigure)\n",
    "plt.text(0.35, 0.18, \"Bright Sky\", color = 'black', transform=fig.transFigure)\n",
    "plt.legend()\n",
    "plt.yscale('log')\n",
    "plt.xlim(11.0,19.0)\n",
    "plt.ylim(.1, 0.5e2)\n",
    "plt.xlabel('Magnitude', fontsize=12)\n",
    "plt.ylabel('SNR', fontsize=12);"
   ]
  },
  {
   "cell_type": "code",
   "execution_count": 31,
   "metadata": {},
   "outputs": [
    {
     "data": {
      "text/html": [
       "<div>\n",
       "<style scoped>\n",
       "    .dataframe tbody tr th:only-of-type {\n",
       "        vertical-align: middle;\n",
       "    }\n",
       "\n",
       "    .dataframe tbody tr th {\n",
       "        vertical-align: top;\n",
       "    }\n",
       "\n",
       "    .dataframe thead th {\n",
       "        text-align: right;\n",
       "    }\n",
       "</style>\n",
       "<table border=\"1\" class=\"dataframe\">\n",
       "  <thead>\n",
       "    <tr style=\"text-align: right;\">\n",
       "      <th></th>\n",
       "      <th>SatLimFromPlot</th>\n",
       "      <th>SNR10LimFromPlot</th>\n",
       "    </tr>\n",
       "  </thead>\n",
       "  <tbody>\n",
       "    <tr>\n",
       "      <th>u</th>\n",
       "      <td>0.2</td>\n",
       "      <td>-2.0</td>\n",
       "    </tr>\n",
       "    <tr>\n",
       "      <th>g</th>\n",
       "      <td>0.0</td>\n",
       "      <td>-1.4</td>\n",
       "    </tr>\n",
       "    <tr>\n",
       "      <th>r</th>\n",
       "      <td>0.0</td>\n",
       "      <td>-0.8</td>\n",
       "    </tr>\n",
       "    <tr>\n",
       "      <th>i</th>\n",
       "      <td>0.0</td>\n",
       "      <td>-0.6</td>\n",
       "    </tr>\n",
       "    <tr>\n",
       "      <th>z</th>\n",
       "      <td>0.0</td>\n",
       "      <td>-0.8</td>\n",
       "    </tr>\n",
       "    <tr>\n",
       "      <th>y</th>\n",
       "      <td>0.0</td>\n",
       "      <td>-0.6</td>\n",
       "    </tr>\n",
       "  </tbody>\n",
       "</table>\n",
       "</div>"
      ],
      "text/plain": [
       "   SatLimFromPlot  SNR10LimFromPlot\n",
       "u             0.2              -2.0\n",
       "g             0.0              -1.4\n",
       "r             0.0              -0.8\n",
       "i             0.0              -0.6\n",
       "z             0.0              -0.8\n",
       "y             0.0              -0.6"
      ]
     },
     "execution_count": 31,
     "metadata": {},
     "output_type": "execute_result"
    }
   ],
   "source": [
    "d_plot_zp_bright - d_plot"
   ]
  },
  {
   "cell_type": "markdown",
   "metadata": {},
   "source": [
    "#### surface brightness at faint limit (SNR ~ 10), in AB mag / arcsec^2"
   ]
  },
  {
   "cell_type": "code",
   "execution_count": 32,
   "metadata": {},
   "outputs": [
    {
     "name": "stdout",
     "output_type": "stream",
     "text": [
      "u, to get SNR of 10, donut surface brightness under dark sky (22.96) = 21.12, under bright sky (17.30) =  19.05\n",
      "g, to get SNR of 10, donut surface brightness under dark sky (22.26) = 22.07, under bright sky (19.00) =  20.74\n",
      "r, to get SNR of 10, donut surface brightness under dark sky (21.20) = 21.58, under bright sky (19.30) =  20.80\n",
      "i, to get SNR of 10, donut surface brightness under dark sky (20.48) = 21.14, under bright sky (19.00) =  20.51\n",
      "z, to get SNR of 10, donut surface brightness under dark sky (19.60) = 20.55, under bright sky (17.80) =  19.76\n",
      "y, to get SNR of 10, donut surface brightness under dark sky (18.61) = 19.63, under bright sky (17.30) =  19.05\n"
     ]
    }
   ],
   "source": [
    "offset = -2.5*np.log10(ratio/photParams_std.platescale**2) #convert to AB mag /pix, then to /arcsec^2\n",
    "for f in filterlist:\n",
    "    print('%s, to get SNR of 10, donut surface brightness under dark sky (%.2f) = %.2f, under bright sky (%.2f) =  %.2f'%(\n",
    "        f, m5.skyMag[f], d['SNR10Lim'][f]+offset, skyBrightMag[f]-0.4, d_zp_bright['SNR10Lim'][f]+offset))"
   ]
  },
  {
   "cell_type": "markdown",
   "metadata": {},
   "source": [
    "#### signal and background counts at SNR ~ 10, in e-/pixel"
   ]
  },
  {
   "cell_type": "code",
   "execution_count": 33,
   "metadata": {},
   "outputs": [
    {
     "name": "stdout",
     "output_type": "stream",
     "text": [
      "u, to get SNR of 10, donut signal count under dark sky (40) = 136, under bright sky (7428) =  914\n",
      "g, to get SNR of 10, donut signal count under dark sky (206) = 205, under bright sky (4131) =  695\n",
      "r, to get SNR of 10, donut signal count under dark sky (409) = 261, under bright sky (2348) =  538\n",
      "i, to get SNR of 10, donut signal count under dark sky (587) = 299, under bright sky (2288) =  532\n",
      "z, to get SNR of 10, donut signal count under dark sky (891) = 354, under bright sky (4677) =  736\n",
      "y, to get SNR of 10, donut signal count under dark sky (1186) = 399, under bright sky (3963) =  682\n"
     ]
    }
   ],
   "source": [
    "for f in filterlist:\n",
    "    print('%s, to get SNR of 10, donut signal count under dark sky (%.0f) = %.0f, under bright sky (%.0f) =  %.0f'%(\n",
    "        f, m5.skyCounts[f], d['SNR10S'][f], skyCounts[f], d_zp_bright['SNR10S'][f]))"
   ]
  },
  {
   "cell_type": "markdown",
   "metadata": {},
   "source": [
    "#### Star magnitude range "
   ]
  },
  {
   "cell_type": "code",
   "execution_count": 34,
   "metadata": {},
   "outputs": [
    {
     "name": "stdout",
     "output_type": "stream",
     "text": [
      "u, under dark sky, saturation limit = 7.35, faint limit = 14.96, under bright sky, saturation limit = 7.41, faint limit = 12.89\n",
      "g, under dark sky, saturation limit = 8.74, faint limit = 15.90, under bright sky, saturation limit = 8.77, faint limit = 14.58\n",
      "r, under dark sky, saturation limit = 8.52, faint limit = 15.42, under bright sky, saturation limit = 8.54, faint limit = 14.63\n",
      "i, under dark sky, saturation limit = 8.23, faint limit = 14.97, under bright sky, saturation limit = 8.24, faint limit = 14.35\n",
      "z, under dark sky, saturation limit = 7.83, faint limit = 14.39, under bright sky, saturation limit = 7.86, faint limit = 13.60\n",
      "y, under dark sky, saturation limit = 7.04, faint limit = 13.47, under bright sky, saturation limit = 7.06, faint limit = 12.89\n"
     ]
    }
   ],
   "source": [
    "for f in filterlist:\n",
    "    print('%s, under dark sky, saturation limit = %.2f, faint limit = %.2f, under bright sky, saturation limit = %.2f, faint limit = %.2f'%(\n",
    "    f, d['SatLim'][f], d['SNR10Lim'][f], d_zp_bright['SatLim'][f], d_zp_bright['SNR10Lim'][f]))"
   ]
  },
  {
   "cell_type": "code",
   "execution_count": null,
   "metadata": {},
   "outputs": [],
   "source": []
  }
 ],
 "metadata": {
  "kernelspec": {
   "display_name": "LSST",
   "language": "python",
   "name": "lsst"
  },
  "language_info": {
   "codemirror_mode": {
    "name": "ipython",
    "version": 3
   },
   "file_extension": ".py",
   "mimetype": "text/x-python",
   "name": "python",
   "nbconvert_exporter": "python",
   "pygments_lexer": "ipython3",
   "version": "3.7.8"
  }
 },
 "nbformat": 4,
 "nbformat_minor": 4
}
