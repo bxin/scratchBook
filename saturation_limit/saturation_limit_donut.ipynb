{
 "cells": [
  {
   "cell_type": "code",
   "execution_count": 2,
   "metadata": {},
   "outputs": [],
   "source": [
    "from __future__ import print_function\n",
    "import numpy as np\n",
    "import pandas as pd\n",
    "import lsst.syseng.throughputs as st\n",
    "from lsst.sims.photUtils import PhotometricParameters, Sed\n",
    "import galsim\n",
    "import matplotlib.pyplot as plt\n",
    "\n",
    "from lsst.cwfs.instrument import Instrument"
   ]
  },
  {
   "cell_type": "markdown",
   "metadata": {},
   "source": [
    "### We use Eq (6) in LSE-40. With the baseline system as defined by syseng_throughput (including hardware & atmosphere), We can easily map a source magnitude to a source count. This is not affected by seeing. For point sources, seeing comes into play because it determines how far to spread the total source count. For donuts, however, seeing only blurs the edge. When we are thinking about what fraction of light from the point source gets into the brightest pixels, we are largely not affected by seeing."
   ]
  },
  {
   "cell_type": "code",
   "execution_count": 3,
   "metadata": {},
   "outputs": [],
   "source": [
    "# full_well for a 30s visit, in e-\n",
    "full_well = 150e3  #typical for e2v sensors. ITL is typically 200k. We try to be conservative and use the smaller.\n",
    "full_well2 = 100e3  #some sensors can be as low as 100K e-.\n",
    "bias_offset = 45e3\n",
    "bias_offset_subtract = 0 #According to Steve R. and Aaron R., this should not be a factor\n",
    "\n",
    "snrLim = 10"
   ]
  },
  {
   "cell_type": "markdown",
   "metadata": {},
   "source": [
    "## We first determine what fraction of the flux will be in the brightest pixel\n",
    "### We could look at a simulated donut (with no background). -- TO DO\n",
    "### Note that this ratio will still depend on specific aberrations. We also need to be careful if we are looking at a vignetted donut, in which case the denominator should be all the light emitted by the source, including the vignetted light.\n",
    "### As the first approximatioon, here we simply assume field center, and uniform intensity. "
   ]
  },
  {
   "cell_type": "code",
   "execution_count": 4,
   "metadata": {},
   "outputs": [
    {
     "name": "stdout",
     "output_type": "stream",
     "text": [
      "8.609954459153767e-05\n"
     ]
    }
   ],
   "source": [
    "inst=Instrument('lsst15',200)\n",
    "r = inst.donutR/inst.pixelSize\n",
    "Area = np.pi*r**2\n",
    "ratio = 1./Area\n",
    "print(ratio)"
   ]
  },
  {
   "cell_type": "markdown",
   "metadata": {},
   "source": [
    "### Baseline LSST system, as defined in syseng_throughput"
   ]
  },
  {
   "cell_type": "code",
   "execution_count": 5,
   "metadata": {},
   "outputs": [],
   "source": [
    "defaultDirs = st.setDefaultDirs()\n",
    "hardware, system = st.buildHardwareAndSystem(defaultDirs)"
   ]
  },
  {
   "cell_type": "markdown",
   "metadata": {},
   "source": [
    "### Default photometric parameters, as used in standard m5 calculations"
   ]
  },
  {
   "cell_type": "code",
   "execution_count": 6,
   "metadata": {},
   "outputs": [],
   "source": [
    "exptime=15 \n",
    "nexp=2\n",
    "readnoise=8.8 \n",
    "othernoise=0 \n",
    "darkcurrent=0.2\n",
    "effarea=np.pi*(6.423/2*100)**2\n",
    "X=1.0\n",
    "\n",
    "# PhotometricParameters object for standard m5 calculations.\n",
    "photParams_std = PhotometricParameters(exptime=exptime, nexp=nexp,\n",
    "                                           gain=1.0, effarea=effarea, readnoise=readnoise,\n",
    "                                           othernoise=othernoise, darkcurrent=darkcurrent)"
   ]
  },
  {
   "cell_type": "markdown",
   "metadata": {},
   "source": [
    "### Let's make sure we can reproduce standard m5 results"
   ]
  },
  {
   "cell_type": "code",
   "execution_count": 7,
   "metadata": {},
   "outputs": [],
   "source": [
    "m5 = st.makeM5(hardware, system, darksky=None, \n",
    "                      exptime=exptime, nexp=nexp, readnoise=readnoise, othernoise=othernoise, darkcurrent=darkcurrent,\n",
    "                      effarea=effarea, X=1.0)"
   ]
  },
  {
   "cell_type": "code",
   "execution_count": 8,
   "metadata": {},
   "outputs": [
    {
     "data": {
      "text/html": [
       "<div>\n",
       "<style scoped>\n",
       "    .dataframe tbody tr th:only-of-type {\n",
       "        vertical-align: middle;\n",
       "    }\n",
       "\n",
       "    .dataframe tbody tr th {\n",
       "        vertical-align: top;\n",
       "    }\n",
       "\n",
       "    .dataframe thead th {\n",
       "        text-align: right;\n",
       "    }\n",
       "</style>\n",
       "<table border=\"1\" class=\"dataframe\">\n",
       "  <thead>\n",
       "    <tr style=\"text-align: right;\">\n",
       "      <th></th>\n",
       "      <th>FWHMeff</th>\n",
       "      <th>FWHMgeom</th>\n",
       "      <th>skyMag</th>\n",
       "      <th>skyCounts</th>\n",
       "      <th>Zp_t</th>\n",
       "      <th>Tb</th>\n",
       "      <th>Sb</th>\n",
       "      <th>kAtm</th>\n",
       "      <th>gamma</th>\n",
       "      <th>Cm</th>\n",
       "      <th>dCm_infinity</th>\n",
       "      <th>dCm_double</th>\n",
       "      <th>m5</th>\n",
       "      <th>sourceCounts</th>\n",
       "      <th>m5_fid</th>\n",
       "      <th>m5_min</th>\n",
       "    </tr>\n",
       "  </thead>\n",
       "  <tbody>\n",
       "    <tr>\n",
       "      <th>u</th>\n",
       "      <td>0.92</td>\n",
       "      <td>0.80824</td>\n",
       "      <td>22.960730</td>\n",
       "      <td>80.840573</td>\n",
       "      <td>27.009181</td>\n",
       "      <td>0.035837</td>\n",
       "      <td>0.057997</td>\n",
       "      <td>0.522669</td>\n",
       "      <td>0.038185</td>\n",
       "      <td>23.165597</td>\n",
       "      <td>0.576230</td>\n",
       "      <td>0.362984</td>\n",
       "      <td>23.849238</td>\n",
       "      <td>550.932990</td>\n",
       "      <td>23.9</td>\n",
       "      <td>23.4</td>\n",
       "    </tr>\n",
       "    <tr>\n",
       "      <th>g</th>\n",
       "      <td>0.87</td>\n",
       "      <td>0.76714</td>\n",
       "      <td>22.257758</td>\n",
       "      <td>411.094794</td>\n",
       "      <td>28.399288</td>\n",
       "      <td>0.128938</td>\n",
       "      <td>0.154358</td>\n",
       "      <td>0.195371</td>\n",
       "      <td>0.038743</td>\n",
       "      <td>24.447490</td>\n",
       "      <td>0.176182</td>\n",
       "      <td>0.093056</td>\n",
       "      <td>24.840316</td>\n",
       "      <td>795.628429</td>\n",
       "      <td>25.0</td>\n",
       "      <td>24.6</td>\n",
       "    </tr>\n",
       "    <tr>\n",
       "      <th>r</th>\n",
       "      <td>0.83</td>\n",
       "      <td>0.73426</td>\n",
       "      <td>21.196590</td>\n",
       "      <td>818.797145</td>\n",
       "      <td>28.177407</td>\n",
       "      <td>0.105106</td>\n",
       "      <td>0.115690</td>\n",
       "      <td>0.104170</td>\n",
       "      <td>0.038990</td>\n",
       "      <td>24.467511</td>\n",
       "      <td>0.096081</td>\n",
       "      <td>0.047725</td>\n",
       "      <td>24.380855</td>\n",
       "      <td>990.243723</td>\n",
       "      <td>24.7</td>\n",
       "      <td>24.3</td>\n",
       "    </tr>\n",
       "    <tr>\n",
       "      <th>i</th>\n",
       "      <td>0.80</td>\n",
       "      <td>0.70960</td>\n",
       "      <td>20.477419</td>\n",
       "      <td>1173.487799</td>\n",
       "      <td>27.879556</td>\n",
       "      <td>0.079889</td>\n",
       "      <td>0.085493</td>\n",
       "      <td>0.073607</td>\n",
       "      <td>0.039101</td>\n",
       "      <td>24.363045</td>\n",
       "      <td>0.068928</td>\n",
       "      <td>0.033121</td>\n",
       "      <td>23.956774</td>\n",
       "      <td>1112.330543</td>\n",
       "      <td>24.0</td>\n",
       "      <td>23.6</td>\n",
       "    </tr>\n",
       "    <tr>\n",
       "      <th>z</th>\n",
       "      <td>0.78</td>\n",
       "      <td>0.69316</td>\n",
       "      <td>19.599578</td>\n",
       "      <td>1782.992383</td>\n",
       "      <td>27.481805</td>\n",
       "      <td>0.055384</td>\n",
       "      <td>0.057871</td>\n",
       "      <td>0.047694</td>\n",
       "      <td>0.039235</td>\n",
       "      <td>24.201828</td>\n",
       "      <td>0.046435</td>\n",
       "      <td>0.021447</td>\n",
       "      <td>23.384125</td>\n",
       "      <td>1306.751554</td>\n",
       "      <td>23.3</td>\n",
       "      <td>22.9</td>\n",
       "    </tr>\n",
       "    <tr>\n",
       "      <th>y</th>\n",
       "      <td>0.76</td>\n",
       "      <td>0.67672</td>\n",
       "      <td>18.610405</td>\n",
       "      <td>2371.023361</td>\n",
       "      <td>26.687500</td>\n",
       "      <td>0.026648</td>\n",
       "      <td>0.030944</td>\n",
       "      <td>0.162291</td>\n",
       "      <td>0.039311</td>\n",
       "      <td>23.759692</td>\n",
       "      <td>0.035324</td>\n",
       "      <td>0.015804</td>\n",
       "      <td>22.475605</td>\n",
       "      <td>1451.707778</td>\n",
       "      <td>22.1</td>\n",
       "      <td>21.7</td>\n",
       "    </tr>\n",
       "  </tbody>\n",
       "</table>\n",
       "</div>"
      ],
      "text/plain": [
       "   FWHMeff  FWHMgeom     skyMag    skyCounts       Zp_t        Tb        Sb  \\\n",
       "u     0.92   0.80824  22.960730    80.840573  27.009181  0.035837  0.057997   \n",
       "g     0.87   0.76714  22.257758   411.094794  28.399288  0.128938  0.154358   \n",
       "r     0.83   0.73426  21.196590   818.797145  28.177407  0.105106  0.115690   \n",
       "i     0.80   0.70960  20.477419  1173.487799  27.879556  0.079889  0.085493   \n",
       "z     0.78   0.69316  19.599578  1782.992383  27.481805  0.055384  0.057871   \n",
       "y     0.76   0.67672  18.610405  2371.023361  26.687500  0.026648  0.030944   \n",
       "\n",
       "       kAtm     gamma         Cm  dCm_infinity  dCm_double         m5  \\\n",
       "u  0.522669  0.038185  23.165597      0.576230    0.362984  23.849238   \n",
       "g  0.195371  0.038743  24.447490      0.176182    0.093056  24.840316   \n",
       "r  0.104170  0.038990  24.467511      0.096081    0.047725  24.380855   \n",
       "i  0.073607  0.039101  24.363045      0.068928    0.033121  23.956774   \n",
       "z  0.047694  0.039235  24.201828      0.046435    0.021447  23.384125   \n",
       "y  0.162291  0.039311  23.759692      0.035324    0.015804  22.475605   \n",
       "\n",
       "   sourceCounts  m5_fid  m5_min  \n",
       "u    550.932990    23.9    23.4  \n",
       "g    795.628429    25.0    24.6  \n",
       "r    990.243723    24.7    24.3  \n",
       "i   1112.330543    24.0    23.6  \n",
       "z   1306.751554    23.3    22.9  \n",
       "y   1451.707778    22.1    21.7  "
      ]
     },
     "execution_count": 8,
     "metadata": {},
     "output_type": "execute_result"
    }
   ],
   "source": [
    "m5"
   ]
  },
  {
   "cell_type": "markdown",
   "metadata": {},
   "source": [
    "### Set up the dataframe"
   ]
  },
  {
   "cell_type": "code",
   "execution_count": 9,
   "metadata": {},
   "outputs": [],
   "source": [
    "filterlist = ('u', 'g', 'r', 'i', 'z', 'y')\n",
    "properties = ['SatLim', 'SNR%dLim'%snrLim]\n",
    "d = pd.DataFrame(index=filterlist, columns=properties, dtype='float')"
   ]
  },
  {
   "cell_type": "markdown",
   "metadata": {},
   "source": [
    "### Calculate the saturation limits"
   ]
  },
  {
   "cell_type": "code",
   "execution_count": 10,
   "metadata": {},
   "outputs": [],
   "source": [
    "for f in system:\n",
    "    flatsource = Sed()\n",
    "    flatsource.setFlatSED(wavelen_min=system[f].wavelen_min, wavelen_max=system[f].wavelen_max,\n",
    "                              wavelen_step=system[f].wavelen_step)\n",
    "    adu = flatsource.calcADU(system[f], photParams=photParams_std)\n",
    "    \n",
    "    adu0 = adu*ratio\n",
    "    key = 'SatLim'\n",
    "    #because setFlatSED() assumes a m=0 star\n",
    "    # we use gain=1.0, so adu = number of e-\n",
    "    # we also get rid of skycounts from each pixel. This has miminal effect on results\n",
    "    NN = full_well-m5.skyCounts[f]-bias_offset_subtract #max number of e- we can accommodate in 1 pixel\n",
    "    d[key].loc[f] = np.log10(adu0/(NN))/2*5\n",
    "    # The above can also be obtained this way, \n",
    "    # (but flatsource has to be re-initialized for each calculation)\n",
    "    # Scale fnu so that adu0 is equal to full well.\n",
    "    #flatsource.fnu = flatsource.fnu * (full_well/adu0)\n",
    "    #d[key].loc[f] = flatsource.calcMag(system[f])"
   ]
  },
  {
   "cell_type": "markdown",
   "metadata": {},
   "source": [
    "### Faint limit that gives SNR = snrLim\n",
    "#### We use standard dark sky (Peter's model) to estimate B.\n",
    "\n",
    "\\begin{equation}\n",
    "SNR = \\frac{S}{\\sqrt{S+B}}\n",
    "\\end{equation}"
   ]
  },
  {
   "cell_type": "code",
   "execution_count": 11,
   "metadata": {},
   "outputs": [
    {
     "name": "stdout",
     "output_type": "stream",
     "text": [
      "confirming SNR in u = 10, requiring number of e-: 153\n",
      "confirming SNR in y = 10, requiring number of e-: 539\n",
      "confirming SNR in g = 10, requiring number of e-: 259\n",
      "confirming SNR in r = 10, requiring number of e-: 340\n",
      "confirming SNR in z = 10, requiring number of e-: 475\n",
      "confirming SNR in i = 10, requiring number of e-: 396\n"
     ]
    }
   ],
   "source": [
    "for f in system:\n",
    "    flatsource = Sed()\n",
    "    flatsource.setFlatSED(wavelen_min=system[f].wavelen_min, wavelen_max=system[f].wavelen_max,\n",
    "                              wavelen_step=system[f].wavelen_step)\n",
    "    adu = flatsource.calcADU(system[f], photParams=photParams_std)\n",
    "    \n",
    "    adu0 = adu*ratio\n",
    "    key = 'SNR%dLim'%snrLim\n",
    "    #because setFlatSED() assumes a m=0 star\n",
    "    # we use gain=1.0, so adu = number of e-\n",
    "    # we also get rid of skycounts from each pixel. This has miminal effect on results\n",
    "    NN = (snrLim**2+np.sqrt(snrLim**4+4*snrLim**2*m5.skyCounts[f]))/2 #min number of e- we need in 1 pixel\n",
    "    print('confirming SNR in %s = %.0f, requiring number of e-: %.0f'%(f, NN/np.sqrt(NN+m5.skyCounts[f]), NN))\n",
    "    d[key].loc[f] = np.log10(adu0/(NN))/2*5\n",
    "    # The above can also be obtained this way, \n",
    "    # (but flatsource has to be re-initialized for each calculation)\n",
    "    # Scale fnu so that adu0 is equal to full well.\n",
    "    #flatsource.fnu = flatsource.fnu * (full_well/adu0)\n",
    "    #d[key].loc[f] = flatsource.calcMag(system[f])"
   ]
  },
  {
   "cell_type": "code",
   "execution_count": 12,
   "metadata": {},
   "outputs": [
    {
     "data": {
      "text/html": [
       "<div>\n",
       "<style scoped>\n",
       "    .dataframe tbody tr th:only-of-type {\n",
       "        vertical-align: middle;\n",
       "    }\n",
       "\n",
       "    .dataframe tbody tr th {\n",
       "        vertical-align: top;\n",
       "    }\n",
       "\n",
       "    .dataframe thead th {\n",
       "        text-align: right;\n",
       "    }\n",
       "</style>\n",
       "<table border=\"1\" class=\"dataframe\">\n",
       "  <thead>\n",
       "    <tr style=\"text-align: right;\">\n",
       "      <th></th>\n",
       "      <th>SatLim</th>\n",
       "      <th>SNR10Lim</th>\n",
       "      <th>FWHMeff</th>\n",
       "      <th>FWHMgeom</th>\n",
       "      <th>skyMag</th>\n",
       "      <th>skyCounts</th>\n",
       "      <th>Zp_t</th>\n",
       "      <th>Tb</th>\n",
       "      <th>Sb</th>\n",
       "      <th>kAtm</th>\n",
       "      <th>gamma</th>\n",
       "      <th>Cm</th>\n",
       "      <th>dCm_infinity</th>\n",
       "      <th>dCm_double</th>\n",
       "      <th>m5</th>\n",
       "      <th>sourceCounts</th>\n",
       "      <th>m5_fid</th>\n",
       "      <th>m5_min</th>\n",
       "    </tr>\n",
       "  </thead>\n",
       "  <tbody>\n",
       "    <tr>\n",
       "      <th>u</th>\n",
       "      <td>7.599844</td>\n",
       "      <td>15.078618</td>\n",
       "      <td>0.92</td>\n",
       "      <td>0.80824</td>\n",
       "      <td>22.960730</td>\n",
       "      <td>80.840573</td>\n",
       "      <td>27.009181</td>\n",
       "      <td>0.035837</td>\n",
       "      <td>0.057997</td>\n",
       "      <td>0.522669</td>\n",
       "      <td>0.038185</td>\n",
       "      <td>23.165597</td>\n",
       "      <td>0.576230</td>\n",
       "      <td>0.362984</td>\n",
       "      <td>23.849238</td>\n",
       "      <td>550.932990</td>\n",
       "      <td>23.9</td>\n",
       "      <td>23.4</td>\n",
       "    </tr>\n",
       "    <tr>\n",
       "      <th>g</th>\n",
       "      <td>8.992345</td>\n",
       "      <td>15.897062</td>\n",
       "      <td>0.87</td>\n",
       "      <td>0.76714</td>\n",
       "      <td>22.257758</td>\n",
       "      <td>411.094794</td>\n",
       "      <td>28.399288</td>\n",
       "      <td>0.128938</td>\n",
       "      <td>0.154358</td>\n",
       "      <td>0.195371</td>\n",
       "      <td>0.038743</td>\n",
       "      <td>24.447490</td>\n",
       "      <td>0.176182</td>\n",
       "      <td>0.093056</td>\n",
       "      <td>24.840316</td>\n",
       "      <td>795.628429</td>\n",
       "      <td>25.0</td>\n",
       "      <td>24.6</td>\n",
       "    </tr>\n",
       "    <tr>\n",
       "      <th>r</th>\n",
       "      <td>8.773427</td>\n",
       "      <td>15.377478</td>\n",
       "      <td>0.83</td>\n",
       "      <td>0.73426</td>\n",
       "      <td>21.196590</td>\n",
       "      <td>818.797145</td>\n",
       "      <td>28.177407</td>\n",
       "      <td>0.105106</td>\n",
       "      <td>0.115690</td>\n",
       "      <td>0.104170</td>\n",
       "      <td>0.038990</td>\n",
       "      <td>24.467511</td>\n",
       "      <td>0.096081</td>\n",
       "      <td>0.047725</td>\n",
       "      <td>24.380855</td>\n",
       "      <td>990.243723</td>\n",
       "      <td>24.7</td>\n",
       "      <td>24.3</td>\n",
       "    </tr>\n",
       "    <tr>\n",
       "      <th>i</th>\n",
       "      <td>8.478160</td>\n",
       "      <td>14.915097</td>\n",
       "      <td>0.80</td>\n",
       "      <td>0.70960</td>\n",
       "      <td>20.477419</td>\n",
       "      <td>1173.487799</td>\n",
       "      <td>27.879556</td>\n",
       "      <td>0.079889</td>\n",
       "      <td>0.085493</td>\n",
       "      <td>0.073607</td>\n",
       "      <td>0.039101</td>\n",
       "      <td>24.363045</td>\n",
       "      <td>0.068928</td>\n",
       "      <td>0.033121</td>\n",
       "      <td>23.956774</td>\n",
       "      <td>1112.330543</td>\n",
       "      <td>24.0</td>\n",
       "      <td>23.6</td>\n",
       "    </tr>\n",
       "    <tr>\n",
       "      <th>z</th>\n",
       "      <td>8.084865</td>\n",
       "      <td>14.319908</td>\n",
       "      <td>0.78</td>\n",
       "      <td>0.69316</td>\n",
       "      <td>19.599578</td>\n",
       "      <td>1782.992383</td>\n",
       "      <td>27.481805</td>\n",
       "      <td>0.055384</td>\n",
       "      <td>0.057871</td>\n",
       "      <td>0.047694</td>\n",
       "      <td>0.039235</td>\n",
       "      <td>24.201828</td>\n",
       "      <td>0.046435</td>\n",
       "      <td>0.021447</td>\n",
       "      <td>23.384125</td>\n",
       "      <td>1306.751554</td>\n",
       "      <td>23.3</td>\n",
       "      <td>22.9</td>\n",
       "    </tr>\n",
       "    <tr>\n",
       "      <th>y</th>\n",
       "      <td>7.294876</td>\n",
       "      <td>13.387843</td>\n",
       "      <td>0.76</td>\n",
       "      <td>0.67672</td>\n",
       "      <td>18.610405</td>\n",
       "      <td>2371.023361</td>\n",
       "      <td>26.687500</td>\n",
       "      <td>0.026648</td>\n",
       "      <td>0.030944</td>\n",
       "      <td>0.162291</td>\n",
       "      <td>0.039311</td>\n",
       "      <td>23.759692</td>\n",
       "      <td>0.035324</td>\n",
       "      <td>0.015804</td>\n",
       "      <td>22.475605</td>\n",
       "      <td>1451.707778</td>\n",
       "      <td>22.1</td>\n",
       "      <td>21.7</td>\n",
       "    </tr>\n",
       "  </tbody>\n",
       "</table>\n",
       "</div>"
      ],
      "text/plain": [
       "     SatLim   SNR10Lim  FWHMeff  FWHMgeom     skyMag    skyCounts       Zp_t  \\\n",
       "u  7.599844  15.078618     0.92   0.80824  22.960730    80.840573  27.009181   \n",
       "g  8.992345  15.897062     0.87   0.76714  22.257758   411.094794  28.399288   \n",
       "r  8.773427  15.377478     0.83   0.73426  21.196590   818.797145  28.177407   \n",
       "i  8.478160  14.915097     0.80   0.70960  20.477419  1173.487799  27.879556   \n",
       "z  8.084865  14.319908     0.78   0.69316  19.599578  1782.992383  27.481805   \n",
       "y  7.294876  13.387843     0.76   0.67672  18.610405  2371.023361  26.687500   \n",
       "\n",
       "         Tb        Sb      kAtm     gamma         Cm  dCm_infinity  \\\n",
       "u  0.035837  0.057997  0.522669  0.038185  23.165597      0.576230   \n",
       "g  0.128938  0.154358  0.195371  0.038743  24.447490      0.176182   \n",
       "r  0.105106  0.115690  0.104170  0.038990  24.467511      0.096081   \n",
       "i  0.079889  0.085493  0.073607  0.039101  24.363045      0.068928   \n",
       "z  0.055384  0.057871  0.047694  0.039235  24.201828      0.046435   \n",
       "y  0.026648  0.030944  0.162291  0.039311  23.759692      0.035324   \n",
       "\n",
       "   dCm_double         m5  sourceCounts  m5_fid  m5_min  \n",
       "u    0.362984  23.849238    550.932990    23.9    23.4  \n",
       "g    0.093056  24.840316    795.628429    25.0    24.6  \n",
       "r    0.047725  24.380855    990.243723    24.7    24.3  \n",
       "i    0.033121  23.956774   1112.330543    24.0    23.6  \n",
       "z    0.021447  23.384125   1306.751554    23.3    22.9  \n",
       "y    0.015804  22.475605   1451.707778    22.1    21.7  "
      ]
     },
     "execution_count": 12,
     "metadata": {},
     "output_type": "execute_result"
    }
   ],
   "source": [
    "d.join(m5)"
   ]
  },
  {
   "cell_type": "markdown",
   "metadata": {},
   "source": [
    "### It may be easier to reference the results if we use the zeropoints (the AB mag of the source that produces 1 e- per second on the detector)"
   ]
  },
  {
   "cell_type": "code",
   "execution_count": 13,
   "metadata": {},
   "outputs": [],
   "source": [
    "d_zp = pd.DataFrame(index=filterlist, columns=properties, dtype='float')\n",
    "for f in system:\n",
    "    key = 'SatLim'\n",
    "    NN = full_well-m5.skyCounts[f]-bias_offset_subtract #max number of e- we can accommodate in 1 pixel\n",
    "    #number of electrons we can accomodate for the source in 30 sec\n",
    "    ne = (NN)/ratio\n",
    "    #number of electrons we can accomodate for this source in 1 sec\n",
    "    ne = ne/(exptime*nexp)\n",
    "    d_zp[key].loc[f] = (m5.Zp_t[f]-2.5*np.log10(ne))\n",
    "    \n",
    "    key = 'SNR%dLim'%snrLim\n",
    "    NN = (snrLim**2+np.sqrt(snrLim**4+4*snrLim**2*m5.skyCounts[f]))/2 #min number of e- we need in 1 pixel\n",
    "    #number of electrons we can accomodate for the source in 30 sec\n",
    "    ne = (NN)/ratio\n",
    "    #number of electrons we can accomodate for this source in 1 sec\n",
    "    ne = ne/(exptime*nexp)\n",
    "    d_zp[key].loc[f] = (m5.Zp_t[f]-2.5*np.log10(ne))"
   ]
  },
  {
   "cell_type": "code",
   "execution_count": 14,
   "metadata": {},
   "outputs": [
    {
     "data": {
      "text/html": [
       "<div>\n",
       "<style scoped>\n",
       "    .dataframe tbody tr th:only-of-type {\n",
       "        vertical-align: middle;\n",
       "    }\n",
       "\n",
       "    .dataframe tbody tr th {\n",
       "        vertical-align: top;\n",
       "    }\n",
       "\n",
       "    .dataframe thead th {\n",
       "        text-align: right;\n",
       "    }\n",
       "</style>\n",
       "<table border=\"1\" class=\"dataframe\">\n",
       "  <thead>\n",
       "    <tr style=\"text-align: right;\">\n",
       "      <th></th>\n",
       "      <th>SatLim</th>\n",
       "      <th>SNR10Lim</th>\n",
       "    </tr>\n",
       "  </thead>\n",
       "  <tbody>\n",
       "    <tr>\n",
       "      <th>u</th>\n",
       "      <td>0.0</td>\n",
       "      <td>0.0</td>\n",
       "    </tr>\n",
       "    <tr>\n",
       "      <th>g</th>\n",
       "      <td>-0.0</td>\n",
       "      <td>0.0</td>\n",
       "    </tr>\n",
       "    <tr>\n",
       "      <th>r</th>\n",
       "      <td>-0.0</td>\n",
       "      <td>0.0</td>\n",
       "    </tr>\n",
       "    <tr>\n",
       "      <th>i</th>\n",
       "      <td>0.0</td>\n",
       "      <td>-0.0</td>\n",
       "    </tr>\n",
       "    <tr>\n",
       "      <th>z</th>\n",
       "      <td>-0.0</td>\n",
       "      <td>-0.0</td>\n",
       "    </tr>\n",
       "    <tr>\n",
       "      <th>y</th>\n",
       "      <td>0.0</td>\n",
       "      <td>0.0</td>\n",
       "    </tr>\n",
       "  </tbody>\n",
       "</table>\n",
       "</div>"
      ],
      "text/plain": [
       "   SatLim  SNR10Lim\n",
       "u     0.0       0.0\n",
       "g    -0.0       0.0\n",
       "r    -0.0       0.0\n",
       "i     0.0      -0.0\n",
       "z    -0.0      -0.0\n",
       "y     0.0       0.0"
      ]
     },
     "execution_count": 14,
     "metadata": {},
     "output_type": "execute_result"
    }
   ],
   "source": [
    "round(d_zp - d)  #should be idential to above calculations"
   ]
  },
  {
   "cell_type": "markdown",
   "metadata": {},
   "source": [
    "### Now make the plots"
   ]
  },
  {
   "cell_type": "code",
   "execution_count": 15,
   "metadata": {},
   "outputs": [],
   "source": [
    "colors = ['blue', 'green', 'red', '0.75', '0.50', '0.25']\n",
    "d_plot = pd.DataFrame(index=filterlist, columns=['SatLimFromPlot', 'SNR%dLimFromPlot'%snrLim], dtype='float')\n",
    "d_2016 = pd.DataFrame(index=filterlist, columns=['SatLim','SNR%dLim'%snrLim], dtype='float')"
   ]
  },
  {
   "cell_type": "code",
   "execution_count": 16,
   "metadata": {},
   "outputs": [
    {
     "data": {
      "image/png": "[encoded data removed]",
      "text/plain": [
       "<Figure size 432x288 with 1 Axes>"
      ]
     },
     "metadata": {
      "needs_background": "light"
     },
     "output_type": "display_data"
    }
   ],
   "source": [
    "fig, ax = plt.subplots()\n",
    "for i,f in enumerate(filterlist):\n",
    "    mags = []\n",
    "    npeaks = []\n",
    "    flatsource = Sed()\n",
    "    flatsource.setFlatSED(wavelen_min=system[f].wavelen_min, wavelen_max=system[f].wavelen_max,\n",
    "                              wavelen_step=system[f].wavelen_step)\n",
    "    adu = flatsource.calcADU(system[f], photParams=photParams_std)\n",
    "    adu0 = adu*ratio #a m=0 start produces this adu0 in the center pixel\n",
    "    for m in range(31):\n",
    "        mag = 7.0 + 0.2 * m\n",
    "        mags.append(mag)\n",
    "        npeak = adu0*10**(-mag/2.5)+m5.skyCounts[f]+bias_offset_subtract\n",
    "        npeaks.append(npeak)\n",
    "    plt.scatter(mags, npeaks, label=f, color=colors[i])\n",
    "    #print(npeak)\n",
    "    #break\n",
    "    d_plot.SatLimFromPlot.loc[f] = mags[np.argmax(np.array(npeaks)<full_well)]\n",
    "plt.plot([6.0,20.0],[full_well, full_well], ls = '--', lw = 2, color='black')\n",
    "plt.text(11, full_well*1.20, \"Saturation = %d e-\"%full_well, color = 'black')\n",
    "plt.plot([6.0,20.0],[full_well2, full_well2], ls = '--', lw = 2, color='black')\n",
    "plt.text(11, full_well2*0.7, \"Saturation = %d e-\"%full_well2, color = 'black')\n",
    "plt.text(0.3, 0.24, \"donutD = %.0f pixels\"%(r*2), color = 'black', transform=fig.transFigure)\n",
    "plt.text(0.3, 0.18, \"Dark Sky\", color = 'black', transform=fig.transFigure)\n",
    "plt.legend()\n",
    "plt.yscale('log')\n",
    "plt.xlim(6.0,14.0)\n",
    "plt.ylim(1e3, 1.5e6)\n",
    "plt.xlabel('Magnitude', fontsize=12)\n",
    "plt.ylabel('Peak pixel count(electrons)', fontsize=12);"
   ]
  },
  {
   "cell_type": "code",
   "execution_count": 17,
   "metadata": {},
   "outputs": [
    {
     "data": {
      "image/png": "[encoded data removed]",
      "text/plain": [
       "<Figure size 432x288 with 1 Axes>"
      ]
     },
     "metadata": {
      "needs_background": "light"
     },
     "output_type": "display_data"
    }
   ],
   "source": [
    "snrLim2 = 5\n",
    "fig, ax = plt.subplots()\n",
    "for i,f in enumerate(filterlist):\n",
    "    mags = []\n",
    "    snrs = []\n",
    "    flatsource = Sed()\n",
    "    flatsource.setFlatSED(wavelen_min=system[f].wavelen_min, wavelen_max=system[f].wavelen_max,\n",
    "                              wavelen_step=system[f].wavelen_step)\n",
    "    adu = flatsource.calcADU(system[f], photParams=photParams_std)\n",
    "    adu0 = adu*ratio #a m=0 start produces this adu0 in the center pixel\n",
    "    for m in range(31):\n",
    "        mag = 12.0 + 0.2 * m\n",
    "        mags.append(mag)\n",
    "        s = adu0*10**(-mag/2.5)\n",
    "        snr = s/np.sqrt(s+m5.skyCounts[f])\n",
    "        snrs.append(snr)\n",
    "    plt.scatter(mags, snrs, label=f, color=colors[i])\n",
    "    #print(npeak)\n",
    "    #break\n",
    "    key = 'SNR%dLimFromPlot'%snrLim\n",
    "    d_plot[key].loc[f] = mags[np.argmax(np.array(snrs)<snrLim)]\n",
    "plt.plot([1.0,20.0],[snrLim, snrLim], ls = '--', lw = 2, color='black')\n",
    "plt.text(11.2, snrLim*1.20, \"SNR = %d\"%snrLim, color = 'black')\n",
    "plt.plot([1.0,20.0],[snrLim2, snrLim2], ls = '--', lw = 2, color='black')\n",
    "plt.text(11.2, snrLim2*0.7, \"SNR = %d\"%snrLim2, color = 'black')\n",
    "plt.text(0.2, 0.24, \"donutD = %.0f pixels\"%(r*2), color = 'black', transform=fig.transFigure)\n",
    "plt.text(0.2, 0.18, \"Dark Sky\", color = 'black', transform=fig.transFigure)\n",
    "plt.legend()\n",
    "plt.yscale('log')\n",
    "plt.xlim(11.0,19.0)\n",
    "plt.ylim(1, 1.5e2)\n",
    "plt.xlabel('Magnitude', fontsize=12)\n",
    "plt.ylabel('SNR', fontsize=12);"
   ]
  },
  {
   "cell_type": "code",
   "execution_count": 18,
   "metadata": {},
   "outputs": [
    {
     "data": {
      "text/html": [
       "<div>\n",
       "<style scoped>\n",
       "    .dataframe tbody tr th:only-of-type {\n",
       "        vertical-align: middle;\n",
       "    }\n",
       "\n",
       "    .dataframe tbody tr th {\n",
       "        vertical-align: top;\n",
       "    }\n",
       "\n",
       "    .dataframe thead th {\n",
       "        text-align: right;\n",
       "    }\n",
       "</style>\n",
       "<table border=\"1\" class=\"dataframe\">\n",
       "  <thead>\n",
       "    <tr style=\"text-align: right;\">\n",
       "      <th></th>\n",
       "      <th>SatLimFromPlot</th>\n",
       "      <th>SNR10LimFromPlot</th>\n",
       "      <th>SatLim</th>\n",
       "      <th>SNR10Lim</th>\n",
       "    </tr>\n",
       "  </thead>\n",
       "  <tbody>\n",
       "    <tr>\n",
       "      <th>u</th>\n",
       "      <td>7.6</td>\n",
       "      <td>15.2</td>\n",
       "      <td>7.599844</td>\n",
       "      <td>15.078618</td>\n",
       "    </tr>\n",
       "    <tr>\n",
       "      <th>g</th>\n",
       "      <td>9.0</td>\n",
       "      <td>16.0</td>\n",
       "      <td>8.992345</td>\n",
       "      <td>15.897062</td>\n",
       "    </tr>\n",
       "    <tr>\n",
       "      <th>r</th>\n",
       "      <td>8.8</td>\n",
       "      <td>15.4</td>\n",
       "      <td>8.773427</td>\n",
       "      <td>15.377478</td>\n",
       "    </tr>\n",
       "    <tr>\n",
       "      <th>i</th>\n",
       "      <td>8.6</td>\n",
       "      <td>15.0</td>\n",
       "      <td>8.478160</td>\n",
       "      <td>14.915097</td>\n",
       "    </tr>\n",
       "    <tr>\n",
       "      <th>z</th>\n",
       "      <td>8.2</td>\n",
       "      <td>14.4</td>\n",
       "      <td>8.084865</td>\n",
       "      <td>14.319908</td>\n",
       "    </tr>\n",
       "    <tr>\n",
       "      <th>y</th>\n",
       "      <td>7.4</td>\n",
       "      <td>13.4</td>\n",
       "      <td>7.294876</td>\n",
       "      <td>13.387843</td>\n",
       "    </tr>\n",
       "  </tbody>\n",
       "</table>\n",
       "</div>"
      ],
      "text/plain": [
       "   SatLimFromPlot  SNR10LimFromPlot    SatLim   SNR10Lim\n",
       "u             7.6              15.2  7.599844  15.078618\n",
       "g             9.0              16.0  8.992345  15.897062\n",
       "r             8.8              15.4  8.773427  15.377478\n",
       "i             8.6              15.0  8.478160  14.915097\n",
       "z             8.2              14.4  8.084865  14.319908\n",
       "y             7.4              13.4  7.294876  13.387843"
      ]
     },
     "execution_count": 18,
     "metadata": {},
     "output_type": "execute_result"
    }
   ],
   "source": [
    "#check consistency with above calculations.\n",
    "d_plot.join(d)"
   ]
  },
  {
   "cell_type": "code",
   "execution_count": 19,
   "metadata": {},
   "outputs": [],
   "source": [
    "#values copied from https://github.com/lsst-ts/ts_wep/blob/master/python/lsst/ts/wep/bsc/Filter.py  commit b5dcb9a\n",
    "d_2016.SatLim['u'] = 7.94\n",
    "d_2016['SNR%dLim'%snrLim]['u'] = 14.80\n",
    "\n",
    "d_2016.SatLim['g'] = 9.74\n",
    "d_2016['SNR%dLim'%snrLim]['g'] = 16.17\n",
    "\n",
    "d_2016.SatLim['r'] = 9.56\n",
    "d_2016['SNR%dLim'%snrLim]['r'] = 15.73\n",
    "\n",
    "d_2016.SatLim['i'] = 9.22\n",
    "d_2016['SNR%dLim'%snrLim]['i'] = 15.26\n",
    "\n",
    "d_2016.SatLim['z'] = 8.83\n",
    "d_2016['SNR%dLim'%snrLim]['z'] = 14.68\n",
    "\n",
    "d_2016.SatLim['y'] = 8.02\n",
    "d_2016['SNR%dLim'%snrLim]['y'] = 13.76"
   ]
  },
  {
   "cell_type": "code",
   "execution_count": 20,
   "metadata": {},
   "outputs": [
    {
     "data": {
      "text/html": [
       "<div>\n",
       "<style scoped>\n",
       "    .dataframe tbody tr th:only-of-type {\n",
       "        vertical-align: middle;\n",
       "    }\n",
       "\n",
       "    .dataframe tbody tr th {\n",
       "        vertical-align: top;\n",
       "    }\n",
       "\n",
       "    .dataframe thead th {\n",
       "        text-align: right;\n",
       "    }\n",
       "</style>\n",
       "<table border=\"1\" class=\"dataframe\">\n",
       "  <thead>\n",
       "    <tr style=\"text-align: right;\">\n",
       "      <th></th>\n",
       "      <th>SatLim</th>\n",
       "      <th>SNR10Lim</th>\n",
       "    </tr>\n",
       "  </thead>\n",
       "  <tbody>\n",
       "    <tr>\n",
       "      <th>u</th>\n",
       "      <td>-0.340156</td>\n",
       "      <td>0.278618</td>\n",
       "    </tr>\n",
       "    <tr>\n",
       "      <th>g</th>\n",
       "      <td>-0.747655</td>\n",
       "      <td>-0.272938</td>\n",
       "    </tr>\n",
       "    <tr>\n",
       "      <th>r</th>\n",
       "      <td>-0.786573</td>\n",
       "      <td>-0.352522</td>\n",
       "    </tr>\n",
       "    <tr>\n",
       "      <th>i</th>\n",
       "      <td>-0.741840</td>\n",
       "      <td>-0.344903</td>\n",
       "    </tr>\n",
       "    <tr>\n",
       "      <th>z</th>\n",
       "      <td>-0.745135</td>\n",
       "      <td>-0.360092</td>\n",
       "    </tr>\n",
       "    <tr>\n",
       "      <th>y</th>\n",
       "      <td>-0.725124</td>\n",
       "      <td>-0.372157</td>\n",
       "    </tr>\n",
       "  </tbody>\n",
       "</table>\n",
       "</div>"
      ],
      "text/plain": [
       "     SatLim  SNR10Lim\n",
       "u -0.340156  0.278618\n",
       "g -0.747655 -0.272938\n",
       "r -0.786573 -0.352522\n",
       "i -0.741840 -0.344903\n",
       "z -0.745135 -0.360092\n",
       "y -0.725124 -0.372157"
      ]
     },
     "execution_count": 20,
     "metadata": {},
     "output_type": "execute_result"
    }
   ],
   "source": [
    "#negative means we are brighter now\n",
    "d-d_2016"
   ]
  },
  {
   "cell_type": "markdown",
   "metadata": {},
   "source": [
    "#### Now do the same thing for bright sky. We will only do the calculations using zero points below."
   ]
  },
  {
   "cell_type": "code",
   "execution_count": 21,
   "metadata": {},
   "outputs": [
    {
     "name": "stdout",
     "output_type": "stream",
     "text": [
      "u 27.009181343298994 22.960730180229127 49.953015613436925 80.84057283788833\n",
      "y 26.68750015086725 18.61040493721628 2041.8288294344675 2371.0233609078164\n",
      "g 28.39928844119809 22.257757986434328 343.3945735171815 411.09479401436244\n",
      "r 28.17740748284969 21.19658987481676 743.8892611843139 818.7971449187912\n",
      "z 27.481804922032165 19.599578356350023 1706.3647555820953 1782.9923826362085\n",
      "i 27.879555761190304 20.477418932398777 1096.5690336979158 1173.4877990365458\n"
     ]
    }
   ],
   "source": [
    "#to make sure we add the 0.4 mag to the sky correctly, let's verify we can use darksky mag to reproduce dark sky count\n",
    "# can we use the zero point to do that?\n",
    "for f in system:\n",
    "    print(f, m5.Zp_t[f], m5.skyMag[f], 10**((m5.Zp_t[f] - m5.skyMag[f])/2.5)*30*0.2*0.2, m5.skyCounts[f])\n",
    "#The answer is no. The reason is because the zero point contains effect of atmosphere+hardware. \n",
    "#The photons produced by a certain sky mag only go through the hardware, not atmosphere"
   ]
  },
  {
   "cell_type": "code",
   "execution_count": 22,
   "metadata": {},
   "outputs": [],
   "source": [
    "import os\n",
    "from lsst.utils import getPackageDir\n",
    "def skyMag2Count(skyMag, f, hardware, photParams):\n",
    "    '''\n",
    "    inputs:\n",
    "        skyMag is the sky magnitude\n",
    "        f is the filter band\n",
    "        hardware: an bandpass object as defined in the syseng_throughput package\n",
    "        photParams: an PhotometricParameters object as defined in the syseng_throughput package\n",
    "    output:\n",
    "        skycount in each pixel\n",
    "    '''\n",
    "    darksky = Sed()\n",
    "    darksky.readSED_flambda(os.path.join(getPackageDir('syseng_throughputs'),\n",
    "                                             'siteProperties', 'darksky.dat'))\n",
    "    fNorm = darksky.calcFluxNorm(skyMag, hardware)\n",
    "    darksky.multiplyFluxNorm(fNorm)\n",
    "    skyCount = (darksky.calcADU(hardware, photParams=photParams)* photParams.platescale**2)\n",
    "    return fNorm, skyCount"
   ]
  },
  {
   "cell_type": "code",
   "execution_count": 23,
   "metadata": {},
   "outputs": [
    {
     "name": "stdout",
     "output_type": "stream",
     "text": [
      "u 1.0 80.84057283788833 80.84057283788833\n",
      "y 1.0 2371.0233609078164 2371.0233609078164\n",
      "g 1.0 411.09479401436244 411.09479401436244\n",
      "r 1.0 818.7971449187912 818.7971449187912\n",
      "z 1.0 1782.9923826362085 1782.9923826362085\n",
      "i 1.0 1173.4877990365458 1173.4877990365458\n"
     ]
    }
   ],
   "source": [
    "# Now we can reproduce m5 sky count with m5 sky mag, we are confident to proceed\n",
    "for f in system:\n",
    "    fNorm, skyCount = skyMag2Count(m5.skyMag[f], f, hardware[f], photParams_std)\n",
    "    print(f, fNorm, skyCount, m5.skyCounts[f])"
   ]
  },
  {
   "cell_type": "markdown",
   "metadata": {},
   "source": [
    "skyBrightMag below is sky brightness at 50 deg from full moon (based on DeCam experience)\n",
    "\n",
    "The 11 yr solar cycle gives 0.5 mag change in v band.  For SpaceX studies, Tony recommended adding 0.4 mag to the sky due to solar cycle.\n",
    "We will do the same here."
   ]
  },
  {
   "cell_type": "code",
   "execution_count": 24,
   "metadata": {},
   "outputs": [],
   "source": [
    "skyBrightMag = {'u': 17.7, 'g':19.4, 'r':19.7, 'i':19.4, 'z':18.2, 'y':17.7}"
   ]
  },
  {
   "cell_type": "code",
   "execution_count": 25,
   "metadata": {},
   "outputs": [
    {
     "name": "stdout",
     "output_type": "stream",
     "text": [
      "u, 14856.67, 14856.67, -0.00\n",
      "y, 7926.80, 7926.80, 0.00\n",
      "g, 8261.24, 8261.24, 0.00\n",
      "r, 4696.91, 4696.91, -0.00\n",
      "z, 9353.64, 9353.64, -0.00\n",
      "i, 4575.58, 4575.58, -0.00\n"
     ]
    }
   ],
   "source": [
    "skyCounts = {}\n",
    "for f in system:\n",
    "    skyCount = 10**((0.4+m5.skyMag[f]-skyBrightMag[f])/2.5)*m5.skyCounts[f] # we can actually simply calculate sky count this way.\n",
    "    skyCounts[f]=skyCount\n",
    "    fNorm, skyCount1 = skyMag2Count(skyBrightMag[f]-0.4, f, hardware[f], photParams_std)\n",
    "    print('%s, %.2f, %.2f, %.2f'%(f, skyCount, skyCount1, skyCount-skyCount1)) # this is just to double check"
   ]
  },
  {
   "cell_type": "code",
   "execution_count": 26,
   "metadata": {},
   "outputs": [
    {
     "data": {
      "text/plain": [
       "{'u': 14856.66923227248,\n",
       " 'y': 7926.79830507322,\n",
       " 'g': 8261.238714700821,\n",
       " 'r': 4696.910335856309,\n",
       " 'z': 9353.643864016844,\n",
       " 'i': 4575.579983868398}"
      ]
     },
     "execution_count": 26,
     "metadata": {},
     "output_type": "execute_result"
    }
   ],
   "source": [
    "skyCounts"
   ]
  },
  {
   "cell_type": "code",
   "execution_count": 27,
   "metadata": {},
   "outputs": [],
   "source": [
    "#use zero points to calculate saturation magnitudes under bright sky\n",
    "d_zp_bright = pd.DataFrame(index=filterlist, columns=properties, dtype='float')\n",
    "for f in system:\n",
    "    key = 'SatLim'\n",
    "    NN = full_well-skyCounts[f]-bias_offset_subtract\n",
    "    #number of electrons we can accomodate for the source in 30 sec\n",
    "    ne = (NN)/ratio\n",
    "    #number of electrons we can accomodate for this source in 1 sec\n",
    "    ne = ne/(exptime*nexp)\n",
    "    d_zp_bright[key].loc[f] = (m5.Zp_t[f]-2.5*np.log10(ne))\n",
    "    \n",
    "    key = 'SNR%dLim'%snrLim\n",
    "    NN = (snrLim**2+np.sqrt(snrLim**4+4*snrLim**2*skyCounts[f]))/2 #min number of e- we need in 1 pixel\n",
    "    #number of electrons we can accomodate for the source in 30 sec\n",
    "    ne = (NN)/ratio\n",
    "    #number of electrons we can accomodate for this source in 1 sec\n",
    "    ne = ne/(exptime*nexp)\n",
    "    d_zp_bright[key].loc[f] = (m5.Zp_t[f]-2.5*np.log10(ne))"
   ]
  },
  {
   "cell_type": "code",
   "execution_count": 28,
   "metadata": {},
   "outputs": [
    {
     "data": {
      "text/html": [
       "<div>\n",
       "<style scoped>\n",
       "    .dataframe tbody tr th:only-of-type {\n",
       "        vertical-align: middle;\n",
       "    }\n",
       "\n",
       "    .dataframe tbody tr th {\n",
       "        vertical-align: top;\n",
       "    }\n",
       "\n",
       "    .dataframe thead th {\n",
       "        text-align: right;\n",
       "    }\n",
       "</style>\n",
       "<table border=\"1\" class=\"dataframe\">\n",
       "  <thead>\n",
       "    <tr style=\"text-align: right;\">\n",
       "      <th></th>\n",
       "      <th>SatLim</th>\n",
       "      <th>SNR10Lim</th>\n",
       "    </tr>\n",
       "  </thead>\n",
       "  <tbody>\n",
       "    <tr>\n",
       "      <th>u</th>\n",
       "      <td>7.712500</td>\n",
       "      <td>12.780059</td>\n",
       "    </tr>\n",
       "    <tr>\n",
       "      <th>g</th>\n",
       "      <td>9.050872</td>\n",
       "      <td>14.473590</td>\n",
       "    </tr>\n",
       "    <tr>\n",
       "      <th>r</th>\n",
       "      <td>8.802026</td>\n",
       "      <td>14.538806</td>\n",
       "    </tr>\n",
       "    <tr>\n",
       "      <th>i</th>\n",
       "      <td>8.503268</td>\n",
       "      <td>14.254121</td>\n",
       "    </tr>\n",
       "    <tr>\n",
       "      <th>z</th>\n",
       "      <td>8.141789</td>\n",
       "      <td>13.492278</td>\n",
       "    </tr>\n",
       "    <tr>\n",
       "      <th>y</th>\n",
       "      <td>7.336525</td>\n",
       "      <td>12.782991</td>\n",
       "    </tr>\n",
       "  </tbody>\n",
       "</table>\n",
       "</div>"
      ],
      "text/plain": [
       "     SatLim   SNR10Lim\n",
       "u  7.712500  12.780059\n",
       "g  9.050872  14.473590\n",
       "r  8.802026  14.538806\n",
       "i  8.503268  14.254121\n",
       "z  8.141789  13.492278\n",
       "y  7.336525  12.782991"
      ]
     },
     "execution_count": 28,
     "metadata": {},
     "output_type": "execute_result"
    }
   ],
   "source": [
    "d_zp_bright"
   ]
  },
  {
   "cell_type": "code",
   "execution_count": 29,
   "metadata": {},
   "outputs": [
    {
     "data": {
      "text/html": [
       "<div>\n",
       "<style scoped>\n",
       "    .dataframe tbody tr th:only-of-type {\n",
       "        vertical-align: middle;\n",
       "    }\n",
       "\n",
       "    .dataframe tbody tr th {\n",
       "        vertical-align: top;\n",
       "    }\n",
       "\n",
       "    .dataframe thead th {\n",
       "        text-align: right;\n",
       "    }\n",
       "</style>\n",
       "<table border=\"1\" class=\"dataframe\">\n",
       "  <thead>\n",
       "    <tr style=\"text-align: right;\">\n",
       "      <th></th>\n",
       "      <th>SatLim</th>\n",
       "      <th>SNR10Lim</th>\n",
       "    </tr>\n",
       "  </thead>\n",
       "  <tbody>\n",
       "    <tr>\n",
       "      <th>u</th>\n",
       "      <td>0.112656</td>\n",
       "      <td>-2.298559</td>\n",
       "    </tr>\n",
       "    <tr>\n",
       "      <th>g</th>\n",
       "      <td>0.058527</td>\n",
       "      <td>-1.423472</td>\n",
       "    </tr>\n",
       "    <tr>\n",
       "      <th>r</th>\n",
       "      <td>0.028598</td>\n",
       "      <td>-0.838672</td>\n",
       "    </tr>\n",
       "    <tr>\n",
       "      <th>i</th>\n",
       "      <td>0.025107</td>\n",
       "      <td>-0.660976</td>\n",
       "    </tr>\n",
       "    <tr>\n",
       "      <th>z</th>\n",
       "      <td>0.056924</td>\n",
       "      <td>-0.827630</td>\n",
       "    </tr>\n",
       "    <tr>\n",
       "      <th>y</th>\n",
       "      <td>0.041649</td>\n",
       "      <td>-0.604852</td>\n",
       "    </tr>\n",
       "  </tbody>\n",
       "</table>\n",
       "</div>"
      ],
      "text/plain": [
       "     SatLim  SNR10Lim\n",
       "u  0.112656 -2.298559\n",
       "g  0.058527 -1.423472\n",
       "r  0.028598 -0.838672\n",
       "i  0.025107 -0.660976\n",
       "z  0.056924 -0.827630\n",
       "y  0.041649 -0.604852"
      ]
     },
     "execution_count": 29,
     "metadata": {},
     "output_type": "execute_result"
    }
   ],
   "source": [
    "#negative means we are brighter now\n",
    "d_zp_bright - d_zp"
   ]
  },
  {
   "cell_type": "code",
   "execution_count": 30,
   "metadata": {},
   "outputs": [
    {
     "data": {
      "image/png": "[encoded data removed]",
      "text/plain": [
       "<Figure size 432x288 with 1 Axes>"
      ]
     },
     "metadata": {
      "needs_background": "light"
     },
     "output_type": "display_data"
    }
   ],
   "source": [
    "d_plot_zp_bright = pd.DataFrame(index=filterlist, columns=['SatLimFromPlot', 'SNR%dLimFromPlot'%snrLim], dtype='float') # b for bright sky\n",
    "fig, ax = plt.subplots()\n",
    "for i,f in enumerate(filterlist):\n",
    "    mags = []\n",
    "    npeaks = []\n",
    "    flatsource = Sed()\n",
    "    flatsource.setFlatSED(wavelen_min=system[f].wavelen_min, wavelen_max=system[f].wavelen_max,\n",
    "                              wavelen_step=system[f].wavelen_step)\n",
    "    adu = flatsource.calcADU(system[f], photParams=photParams_std)\n",
    "    adu0 = adu*ratio #a m=0 start produces this adu0 in the center pixel\n",
    "    for m in range(31):\n",
    "        mag = 7.0 + 0.2 * m\n",
    "        mags.append(mag)\n",
    "        npeak = adu0*10**(-mag/2.5)+skyCounts[f]+bias_offset_subtract\n",
    "        npeaks.append(npeak)\n",
    "    plt.scatter(mags, npeaks, label=f, color=colors[i])\n",
    "    #print(npeak)\n",
    "    #break\n",
    "    d_plot_zp_bright.SatLimFromPlot.loc[f] = mags[np.argmax(np.array(npeaks)<full_well)]\n",
    "plt.plot([6.0,20.0],[full_well, full_well], ls = '--', lw = 2, color='black')\n",
    "plt.text(11, full_well*1.20, \"Saturation = %d e-\"%full_well, color = 'black')\n",
    "plt.plot([6.0,20.0],[full_well2, full_well2], ls = '--', lw = 2, color='black')\n",
    "plt.text(11, full_well2*0.7, \"Saturation = %d e-\"%full_well2, color = 'black')\n",
    "plt.text(0.3, 0.24, \"donutD = %.0f pixels\"%(r*2), color = 'black', transform=fig.transFigure)\n",
    "plt.text(0.3, 0.18, \"Bright Sky\", color = 'black', transform=fig.transFigure)\n",
    "plt.legend()\n",
    "plt.yscale('log')\n",
    "plt.xlim(6.0,14.0)\n",
    "plt.ylim(1e3, 1.5e6)\n",
    "plt.xlabel('Magnitude', fontsize=12)\n",
    "plt.ylabel('Peak pixel count(electrons)', fontsize=12);\n",
    "#plt.savefig('Peak_count_by_band_brightSky_donut.pdf')"
   ]
  },
  {
   "cell_type": "code",
   "execution_count": 31,
   "metadata": {},
   "outputs": [
    {
     "data": {
      "image/png": "[encoded data removed]",
      "text/plain": [
       "<Figure size 432x288 with 1 Axes>"
      ]
     },
     "metadata": {
      "needs_background": "light"
     },
     "output_type": "display_data"
    }
   ],
   "source": [
    "fig, ax = plt.subplots()\n",
    "for i,f in enumerate(filterlist):\n",
    "    mags = []\n",
    "    snrs = []\n",
    "    flatsource = Sed()\n",
    "    flatsource.setFlatSED(wavelen_min=system[f].wavelen_min, wavelen_max=system[f].wavelen_max,\n",
    "                              wavelen_step=system[f].wavelen_step)\n",
    "    adu = flatsource.calcADU(system[f], photParams=photParams_std)\n",
    "    adu0 = adu*ratio #a m=0 start produces this adu0 in the center pixel\n",
    "    for m in range(31):\n",
    "        mag = 12.0 + 0.2 * m\n",
    "        mags.append(mag)\n",
    "        s = adu0*10**(-mag/2.5)\n",
    "        snr = s/np.sqrt(s+skyCounts[f])\n",
    "        snrs.append(snr)\n",
    "    plt.scatter(mags, snrs, label=f, color=colors[i])#, s=10)\n",
    "    #print(f, snrs)\n",
    "    #break\n",
    "    d_plot_zp_bright['SNR%dLimFromPlot'%snrLim].loc[f] = mags[np.argmax(np.array(snrs)<snrLim)]\n",
    "plt.plot([1.0,20.0],[snrLim, snrLim], ls = '--', lw = 2, color='black')\n",
    "plt.text(11.1, snrLim*1.20, \"SNR = %d\"%snrLim, color = 'black')\n",
    "plt.plot([1.0,20.0],[snrLim2, snrLim2], ls = '--', lw = 2, color='black')\n",
    "plt.text(11.1, snrLim2*0.7, \"SNR = %d\"%snrLim2, color = 'black')\n",
    "plt.text(0.35, 0.24, \"donutD = %.0f pixels\"%(r*2), color = 'black', transform=fig.transFigure)\n",
    "plt.text(0.35, 0.18, \"Bright Sky\", color = 'black', transform=fig.transFigure)\n",
    "plt.legend()\n",
    "plt.yscale('log')\n",
    "plt.xlim(11.0,19.0)\n",
    "plt.ylim(.1, 0.5e2)\n",
    "plt.xlabel('Magnitude', fontsize=12)\n",
    "plt.ylabel('SNR', fontsize=12);"
   ]
  },
  {
   "cell_type": "code",
   "execution_count": 32,
   "metadata": {},
   "outputs": [
    {
     "data": {
      "text/html": [
       "<div>\n",
       "<style scoped>\n",
       "    .dataframe tbody tr th:only-of-type {\n",
       "        vertical-align: middle;\n",
       "    }\n",
       "\n",
       "    .dataframe tbody tr th {\n",
       "        vertical-align: top;\n",
       "    }\n",
       "\n",
       "    .dataframe thead th {\n",
       "        text-align: right;\n",
       "    }\n",
       "</style>\n",
       "<table border=\"1\" class=\"dataframe\">\n",
       "  <thead>\n",
       "    <tr style=\"text-align: right;\">\n",
       "      <th></th>\n",
       "      <th>SatLimFromPlot</th>\n",
       "      <th>SNR10LimFromPlot</th>\n",
       "    </tr>\n",
       "  </thead>\n",
       "  <tbody>\n",
       "    <tr>\n",
       "      <th>u</th>\n",
       "      <td>0.2</td>\n",
       "      <td>-2.4</td>\n",
       "    </tr>\n",
       "    <tr>\n",
       "      <th>g</th>\n",
       "      <td>0.2</td>\n",
       "      <td>-1.4</td>\n",
       "    </tr>\n",
       "    <tr>\n",
       "      <th>r</th>\n",
       "      <td>0.2</td>\n",
       "      <td>-0.8</td>\n",
       "    </tr>\n",
       "    <tr>\n",
       "      <th>i</th>\n",
       "      <td>0.0</td>\n",
       "      <td>-0.6</td>\n",
       "    </tr>\n",
       "    <tr>\n",
       "      <th>z</th>\n",
       "      <td>0.0</td>\n",
       "      <td>-0.8</td>\n",
       "    </tr>\n",
       "    <tr>\n",
       "      <th>y</th>\n",
       "      <td>0.0</td>\n",
       "      <td>-0.6</td>\n",
       "    </tr>\n",
       "  </tbody>\n",
       "</table>\n",
       "</div>"
      ],
      "text/plain": [
       "   SatLimFromPlot  SNR10LimFromPlot\n",
       "u             0.2              -2.4\n",
       "g             0.2              -1.4\n",
       "r             0.2              -0.8\n",
       "i             0.0              -0.6\n",
       "z             0.0              -0.8\n",
       "y             0.0              -0.6"
      ]
     },
     "execution_count": 32,
     "metadata": {},
     "output_type": "execute_result"
    }
   ],
   "source": [
    "d_plot_zp_bright - d_plot"
   ]
  },
  {
   "cell_type": "code",
   "execution_count": null,
   "metadata": {},
   "outputs": [],
   "source": []
  }
 ],
 "metadata": {
  "kernelspec": {
   "display_name": "LSST",
   "language": "python",
   "name": "lsst"
  },
  "language_info": {
   "codemirror_mode": {
    "name": "ipython",
    "version": 3
   },
   "file_extension": ".py",
   "mimetype": "text/x-python",
   "name": "python",
   "nbconvert_exporter": "python",
   "pygments_lexer": "ipython3",
   "version": "3.7.2"
  }
 },
 "nbformat": 4,
 "nbformat_minor": 4
}
