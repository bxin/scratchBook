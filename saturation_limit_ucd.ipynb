{
 "cells": [
  {
   "cell_type": "code",
   "execution_count": 1,
   "metadata": {},
   "outputs": [],
   "source": [
    "from __future__ import print_function\n",
    "import numpy as np\n",
    "import matplotlib.pyplot as plt\n",
    "import galsim"
   ]
  },
  {
   "cell_type": "code",
   "execution_count": 2,
   "metadata": {},
   "outputs": [],
   "source": [
    "# Some constants\n",
    "# --------------\n",
    "#\n",
    "# LSST effective area in meters^2\n",
    "A = 319/9.6  # etendue / FoV.  I *think* this includes vignetting\n",
    "\n",
    "# zeropoints from DK notes in photons per second per pixel\n",
    "# should eventually compute these on the fly from filter throughput functions.\n",
    "s0 = {'u': A*0.732,\n",
    "      'g': A*2.124,\n",
    "      'r': A*1.681,\n",
    "      'i': A*1.249,\n",
    "      'z': A*0.862,\n",
    "      'y': A*0.452}\n",
    "# Sky brightnesses in AB mag / arcsec^2.\n",
    "# stole these from http://www.lsst.org/files/docs/gee_137.28.pdf\n",
    "# should eventually construct a sky SED (varies with the moon phase) and integrate to get these\n",
    "B = {'u': 22.8,\n",
    "     'g': 22.2,\n",
    "     'r': 21.3,\n",
    "     'i': 20.3,\n",
    "     'z': 19.1,\n",
    "     'y': 18.1}\n",
    "# number of visits\n",
    "# From LSST Science Book\n",
    "fiducial_nvisits = {'u': 56,\n",
    "                    'g': 80,\n",
    "                    'r': 180,\n",
    "                    'i': 180,\n",
    "                    'z': 164,\n",
    "                    'y': 164}"
   ]
  },
  {
   "cell_type": "code",
   "execution_count": 3,
   "metadata": {},
   "outputs": [
    {
     "data": {
      "text/plain": [
       "6.504512974742653"
      ]
     },
     "execution_count": 3,
     "metadata": {},
     "output_type": "execute_result"
    }
   ],
   "source": [
    "np.sqrt(A/np.pi)*2"
   ]
  },
  {
   "cell_type": "code",
   "execution_count": 4,
   "metadata": {},
   "outputs": [
    {
     "data": {
      "text/plain": [
       "{'u': 24.323750000000004,\n",
       " 'g': 70.57875000000001,\n",
       " 'r': 55.858229166666675,\n",
       " 'i': 41.50322916666668,\n",
       " 'z': 28.64354166666667,\n",
       " 'y': 15.019583333333335}"
      ]
     },
     "execution_count": 4,
     "metadata": {},
     "output_type": "execute_result"
    }
   ],
   "source": [
    "s0"
   ]
  },
  {
   "cell_type": "code",
   "execution_count": 5,
   "metadata": {},
   "outputs": [],
   "source": [
    "# Sky brightness per arcsec^2 per second\n",
    "sbar = {}\n",
    "for k in B:\n",
    "    sbar[k] = s0[k] * 10**(-0.4*(B[k]-24.0))\n"
   ]
  },
  {
   "cell_type": "code",
   "execution_count": 6,
   "metadata": {},
   "outputs": [
    {
     "data": {
      "text/plain": [
       "{'u': 73.45655065912851,\n",
       " 'g': 370.40254535103674,\n",
       " 'r': 671.5636230779237,\n",
       " 'i': 1253.3774832411411,\n",
       " 'z': 2612.3220477542613,\n",
       " 'y': 3440.7877616383257}"
      ]
     },
     "execution_count": 6,
     "metadata": {},
     "output_type": "execute_result"
    }
   ],
   "source": [
    "sbar"
   ]
  },
  {
   "cell_type": "code",
   "execution_count": 7,
   "metadata": {},
   "outputs": [],
   "source": [
    "class ETC(object):\n",
    "    def __init__(self, band, pixel_scale=None, stamp_size=None, threshold=0.0,\n",
    "                 nvisits=None, visit_time=30.0):\n",
    "        self.pixel_scale = pixel_scale\n",
    "        self.stamp_size = stamp_size\n",
    "        self.threshold = threshold\n",
    "        self.band = band\n",
    "        if nvisits is None:\n",
    "            nvisits = fiducial_nvisits[band]\n",
    "        self.nvisits = nvisits\n",
    "        self.visit_time =  visit_time\n",
    "        self.exptime = self.nvisits * self.visit_time\n",
    "        self.sky = sbar[band] * self.exptime * self.pixel_scale**2\n",
    "        self.sigma_sky = np.sqrt(self.sky)\n",
    "        self.s0 = s0[band]\n",
    "\n",
    "    def draw(self, profile, mag, noise=False):\n",
    "        img = galsim.ImageD(self.stamp_size, self.stamp_size, scale=self.pixel_scale)\n",
    "        flux = self.s0 * 10**(-0.4*(mag - 24.0)) * self.exptime\n",
    "        profile = profile.withFlux(flux)\n",
    "        profile.drawImage(image=img)\n",
    "        if noise:\n",
    "            gd = galsim.GaussianNoise(bd, sigma=self.sigma_sky)\n",
    "            img.addNoise(gd)\n",
    "        return img\n",
    "\n",
    "    def SNR(self, profile, mag):\n",
    "        img = self.draw(profile, mag, noise=False)\n",
    "        mask = img.array > (self.threshold * self.sigma_sky)\n",
    "        imgsqr = img.array**2*mask\n",
    "        signal = imgsqr.sum()\n",
    "        noise = np.sqrt((imgsqr * self.sky).sum())\n",
    "        return signal / noise\n",
    "\n",
    "    def nphot(self, mag):\n",
    "        return self.s0 * 10**(-0.4*(mag - 24.0)) * self.exptime\n",
    "\n",
    "    def err(self, profile, mag):\n",
    "        snr = self.SNR(profile, mag)\n",
    "        return 2.5 / np.log(10) / snr\n",
    "\n",
    "    def display(self, profile, mag, noise=True):\n",
    "        img = self.draw(profile, mag, noise)\n",
    "        #import matplotlib.pyplot as plt\n",
    "        #import matplotlib.cm as cm\n",
    "        #print(\"Peak photons = %.1f\"%img.array.max())\n",
    "        #plt.imshow(img.array, cmap=cm.Greens, interpolation='nearest')\n",
    "        #plt.colorbar()\n",
    "        #plt.show()\n",
    "        return img.array.max()\n"
   ]
  },
  {
   "cell_type": "code",
   "execution_count": 8,
   "metadata": {},
   "outputs": [],
   "source": [
    "fwhm = 0.70  # PSF FWHM - arcseconds\n",
    "pixel_scale = 0.2 # pixel scale in arcseconds\n",
    "stamp_size = 11 # stamp size in pixels\n",
    "sersic_n = 0.5 # This basically gives a Gaussian\n",
    "sersic_hlr = 0.2 # This is much smaller than the PSF, so is basically a point source\n",
    "nvisits = 1\n",
    "\n",
    "sat_level = 180000\n",
    "\n",
    "psf = galsim.Kolmogorov(fwhm=fwhm)\n",
    "gal = galsim.Sersic(n=sersic_n, half_light_radius=sersic_hlr)\n",
    "profile = galsim.Convolve(psf, gal)\n",
    "colors = ['blue', 'green', 'red', '0.75', '0.50', '0.25']"
   ]
  },
  {
   "cell_type": "code",
   "execution_count": 10,
   "metadata": {},
   "outputs": [
    {
     "data": {
      "text/plain": [
       "325710.76450129435"
      ]
     },
     "execution_count": 10,
     "metadata": {},
     "output_type": "execute_result"
    }
   ],
   "source": [
    "# And some random numbers for drawing\n",
    "bd = galsim.BaseDeviate(1)\n",
    "\n",
    "etc = ETC('u', pixel_scale=pixel_scale, stamp_size=stamp_size, nvisits=nvisits)\n",
    "mag = 14\n",
    "etc.display(profile, mag)"
   ]
  },
  {
   "cell_type": "code",
   "execution_count": 11,
   "metadata": {},
   "outputs": [
    {
     "name": "stdout",
     "output_type": "stream",
     "text": [
      "u: 14.80\n",
      "g: 16.00\n",
      "r: 15.60\n",
      "i: 15.40\n",
      "z: 15.00\n",
      "y: 14.20\n"
     ]
    },
    {
     "data": {
      "image/png": "[encoded data removed]",
      "text/plain": [
       "<Figure size 432x288 with 1 Axes>"
      ]
     },
     "metadata": {
      "needs_background": "light"
     },
     "output_type": "display_data"
    }
   ],
   "source": [
    "for c, band in enumerate(['u', 'g', 'r', 'i', 'z', 'y']):\n",
    "    etc = ETC(band, pixel_scale=pixel_scale, stamp_size=stamp_size, nvisits=nvisits)\n",
    "    mags = []\n",
    "    npeaks = []\n",
    "    for m in range(31):\n",
    "        mag = 14.0 + 0.2 * m\n",
    "        mags.append(mag)\n",
    "        npeaks.append(etc.display(profile, mag))\n",
    "        #print(\"band = %s, mag = %.1f, nphot = %.1f, npeak = %.1f\"%(band, mag, etc.nphot(mag), etc.display(profile, mag)))\n",
    "        \n",
    "    plt.scatter(mags, npeaks, label=band, color=colors[c])\n",
    "    print('%s: %.2f'%(band, mags[np.argmax(np.array(npeaks)<sat_level)]))\n",
    "plt.plot([13.0,20.0],[sat_level, sat_level], ls = '--', lw = 2, color='black')\n",
    "plt.text(17.0, sat_level*1.20, \"Saturation\", color = 'black')\n",
    "plt.text(14.0, 10000, \"FWHM = %.1f arcsec\"%fwhm, color = 'black')\n",
    "plt.text(14.0, 6000, \"Sat Level = %d\"%sat_level, color = 'black')\n",
    "plt.legend()\n",
    "plt.yscale('log')\n",
    "plt.xlim(13.0,20.0)\n",
    "plt.xlabel('Magnitude', fontsize=24)\n",
    "plt.ylabel('Peak pixel count(electrons)', fontsize=24)\n",
    "plt.savefig('Peak_count_by_band_07Dec19.pdf')"
   ]
  },
  {
   "cell_type": "code",
   "execution_count": null,
   "metadata": {},
   "outputs": [],
   "source": []
  }
 ],
 "metadata": {
  "kernelspec": {
   "display_name": "Python 3",
   "language": "python",
   "name": "python3"
  },
  "language_info": {
   "codemirror_mode": {
    "name": "ipython",
    "version": 3
   },
   "file_extension": ".py",
   "mimetype": "text/x-python",
   "name": "python",
   "nbconvert_exporter": "python",
   "pygments_lexer": "ipython3",
   "version": "3.7.4"
  }
 },
 "nbformat": 4,
 "nbformat_minor": 2
}
