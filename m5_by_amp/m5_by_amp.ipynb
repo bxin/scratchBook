{
 "cells": [
  {
   "cell_type": "code",
   "execution_count": 1,
   "metadata": {},
   "outputs": [],
   "source": [
    "import numpy as np\n",
    "import os\n",
    "import matplotlib.pyplot as plt\n",
    "from astropy import units as u\n",
    "import pandas as pd\n",
    "from collections import OrderedDict"
   ]
  },
  {
   "cell_type": "code",
   "execution_count": 2,
   "metadata": {},
   "outputs": [],
   "source": [
    "from lsst.geom import Point2D, Point2I\n",
    "from lsst.afw.cameraGeom import FIELD_ANGLE, PIXELS\n",
    "import lsst.afw.cameraGeom.utils as cgUtils\n",
    "from lsst.daf.persistence import Butler, NoResults"
   ]
  },
  {
   "cell_type": "code",
   "execution_count": 3,
   "metadata": {},
   "outputs": [],
   "source": [
    "import lsst.syseng.throughputs as st\n",
    "from lsst.sims.photUtils import PhotometricParameters, Bandpass\n",
    "from lsst.sims.utils import angularSeparation"
   ]
  },
  {
   "cell_type": "code",
   "execution_count": 4,
   "metadata": {},
   "outputs": [],
   "source": [
    "rname = 'R10'\n",
    "#rname = 'R22'\n",
    "#rname = 'R01'"
   ]
  },
  {
   "cell_type": "markdown",
   "metadata": {},
   "source": [
    "### Default photometric parameters, as used in standard m5 calculations\n",
    "Note that effarea is not in this list here, because it varies with field.\n",
    "\n",
    "The read noise is not in this list either, because it varies by amp."
   ]
  },
  {
   "cell_type": "code",
   "execution_count": 5,
   "metadata": {},
   "outputs": [],
   "source": [
    "exptime=15 \n",
    "nexp=2\n",
    "othernoise=0 \n",
    "darkcurrent=0.2\n",
    "X=1.0"
   ]
  },
  {
   "cell_type": "markdown",
   "metadata": {},
   "source": [
    "### Set up throughputs for hardware and atmosphere. Use the default detector QE as in syseng_throughput for now"
   ]
  },
  {
   "cell_type": "code",
   "execution_count": 6,
   "metadata": {},
   "outputs": [
    {
     "data": {
      "text/plain": [
       "{'detector': '/home/bxin/notebooks/syseng_throughputs/components/camera/detector/joint_minimum',\n",
       " 'lens1': '/home/bxin/notebooks/syseng_throughputs/components/camera/lens1',\n",
       " 'lens2': '/home/bxin/notebooks/syseng_throughputs/components/camera/lens2',\n",
       " 'lens3': '/home/bxin/notebooks/syseng_throughputs/components/camera/lens3',\n",
       " 'filters': '/home/bxin/notebooks/syseng_throughputs/components/camera/filters',\n",
       " 'mirror1': '/home/bxin/notebooks/syseng_throughputs/components/telescope/mirror1',\n",
       " 'mirror2': '/home/bxin/notebooks/syseng_throughputs/components/telescope/mirror2',\n",
       " 'mirror3': '/home/bxin/notebooks/syseng_throughputs/components/telescope/mirror3',\n",
       " 'atmosphere': '/home/bxin/notebooks/syseng_throughputs/siteProperties'}"
      ]
     },
     "execution_count": 6,
     "metadata": {},
     "output_type": "execute_result"
    }
   ],
   "source": [
    "# Add losses to each component?\n",
    "addLosses = True\n",
    "defaultDirs = st.setDefaultDirs()\n",
    "defaultDirs"
   ]
  },
  {
   "cell_type": "code",
   "execution_count": 7,
   "metadata": {},
   "outputs": [],
   "source": [
    "atmos = st.readAtmosphere(defaultDirs['atmosphere'], atmosFile='atmos_10_aerosol.dat')\n",
    "mirror1 = st.buildMirror(defaultDirs['mirror1'], addLosses)\n",
    "mirror2 = st.buildMirror(defaultDirs['mirror2'], addLosses)\n",
    "mirror3 = st.buildMirror(defaultDirs['mirror3'], addLosses)\n",
    "lens1 = st.buildLens(defaultDirs['lens1'], addLosses)\n",
    "lens2 = st.buildLens(defaultDirs['lens2'], addLosses)\n",
    "lens3 = st.buildLens(defaultDirs['lens3'], addLosses)\n",
    "filters = st.buildFilters(defaultDirs['filters'], addLosses)\n",
    "\n",
    "detector0 = st.buildDetector(defaultDirs['detector'], addLosses) #design QE\n",
    "detector = Bandpass()"
   ]
  },
  {
   "cell_type": "markdown",
   "metadata": {},
   "source": [
    "### Butler access to the QE data"
   ]
  },
  {
   "cell_type": "code",
   "execution_count": 8,
   "metadata": {},
   "outputs": [
    {
     "name": "stdout",
     "output_type": "stream",
     "text": [
      "/home/bxin/lsst_stack/obs_lsst/lsstcam/CALIB\n"
     ]
    }
   ],
   "source": [
    "DATADIR = f\"{os.environ['OBS_LSST_DIR']}/lsstcam/CALIB\" \n",
    "print(DATADIR)\n",
    "butler = Butler(DATADIR)\n",
    "cam = butler.get('camera')"
   ]
  },
  {
   "cell_type": "markdown",
   "metadata": {},
   "source": [
    "### Lay out the grid that covers the entire focal plane"
   ]
  },
  {
   "cell_type": "code",
   "execution_count": null,
   "metadata": {},
   "outputs": [],
   "source": [
    "nside = 3\n",
    "raDeg, decDeg = np.meshgrid(np.linspace(-2.1,2.1, nside), np.linspace(-2.1,2.1, nside))\n",
    "ra=np.radians(raDeg)\n",
    "dec = np.radians(decDeg)"
   ]
  },
  {
   "cell_type": "code",
   "execution_count": 117,
   "metadata": {},
   "outputs": [],
   "source": [
    "# mapping based on \n",
    "#https://confluence.slac.stanford.edu/pages/viewpage.action?spaceKey=LSSTCAM&title=Raft+Delivery+and+Acceptance+Testing+Status\n",
    "dd = pd.read_csv('raftInstall.csv',index_col=0)"
   ]
  },
  {
   "cell_type": "markdown",
   "metadata": {},
   "source": [
    "### Prepare vignetting function"
   ]
  },
  {
   "cell_type": "code",
   "execution_count": 27,
   "metadata": {},
   "outputs": [],
   "source": [
    "# below we use v3.11 values\n",
    "vfile = f\"{os.environ['HOME']}/notebooks/f_factors/data/vignettingF.txt\"\n",
    "M1D = 8.36 #clear aperture as in Optical design\n",
    "aa = np.loadtxt(vfile, skiprows=12)\n",
    "vr = aa[:,0]\n",
    "vv = aa[:,1]"
   ]
  },
  {
   "cell_type": "code",
   "execution_count": null,
   "metadata": {},
   "outputs": [],
   "source": [
    "#This will not be needed after DM-22605 gets merged\n",
    "from lsst.obs.lsst.lsstCamMapper import LsstCamMapper\n",
    "mapper = LsstCamMapper()\n",
    "lsstcam = mapper.camera"
   ]
  },
  {
   "cell_type": "code",
   "execution_count": 157,
   "metadata": {},
   "outputs": [],
   "source": [
    "filterlist = tuple([s for s in filters])\n",
    "alist = ('raDeg', 'decDeg', 'radDeg', 'effarea', 'readnoise')\n",
    "detectors = []\n",
    "for det in cam:\n",
    "    rname1, dname = det.getName().split('_')\n",
    "    if rname1 != rname: \n",
    "        continue;\n",
    "    detectors.append(det.getName())\n",
    "adf = pd.DataFrame(index=alist, columns=detectors, dtype=object)\n",
    "m5df = pd.DataFrame(index=filterlist, columns=detectors, dtype=object)"
   ]
  },
  {
   "cell_type": "code",
   "execution_count": 162,
   "metadata": {},
   "outputs": [],
   "source": [
    "for det in cam:\n",
    "    rname1, dname = det.getName().split('_')\n",
    "    if rname1 != rname: \n",
    "        continue;\n",
    "    raDeg = {}\n",
    "    decDeg = {}\n",
    "    readnoise = {}\n",
    "    for amp in det:\n",
    "        i = amp.getName()\n",
    "        amp_point = amp.getBBox().getCenter()\n",
    "        raDec = det.transform(amp_point, PIXELS, FIELD_ANGLE) \n",
    "        [raDeg[i], decDeg[i]] = np.degrees(raDec)\n",
    "        readnoise[i] = amp.getReadNoise()\n",
    "    key = rname+'_'+dname\n",
    "    adf[key].loc['raDeg'] = list(OrderedDict(sorted(raDeg.items())).values())\n",
    "    adf[key].loc['decDeg'] = list(OrderedDict(sorted(decDeg.items())).values())\n",
    "    adf[key].loc['readnoise'] = list(OrderedDict(sorted(readnoise.items())).values())\n",
    "        \n",
    "    #effetive area\n",
    "    radius = angularSeparation(0., 0., adf[key]['raDeg'], adf[key]['decDeg'])\n",
    "    adf[key].loc['radDeg'] = radius\n",
    "    adf[key].loc['effarea'] = np.interp(radius, vr, vv)*np.pi*(M1D/2)**2"
   ]
  },
  {
   "cell_type": "code",
   "execution_count": 163,
   "metadata": {},
   "outputs": [
    {
     "data": {
      "text/html": [
       "<div>\n",
       "<style scoped>\n",
       "    .dataframe tbody tr th:only-of-type {\n",
       "        vertical-align: middle;\n",
       "    }\n",
       "\n",
       "    .dataframe tbody tr th {\n",
       "        vertical-align: top;\n",
       "    }\n",
       "\n",
       "    .dataframe thead th {\n",
       "        text-align: right;\n",
       "    }\n",
       "</style>\n",
       "<table border=\"1\" class=\"dataframe\">\n",
       "  <thead>\n",
       "    <tr style=\"text-align: right;\">\n",
       "      <th></th>\n",
       "      <th>R10_S00</th>\n",
       "      <th>R10_S01</th>\n",
       "      <th>R10_S02</th>\n",
       "      <th>R10_S10</th>\n",
       "      <th>R10_S11</th>\n",
       "      <th>R10_S12</th>\n",
       "      <th>R10_S20</th>\n",
       "      <th>R10_S21</th>\n",
       "      <th>R10_S22</th>\n",
       "    </tr>\n",
       "  </thead>\n",
       "  <tbody>\n",
       "    <tr>\n",
       "      <th>raDeg</th>\n",
       "      <td>[-1.74775, -1.719472222222222, -1.691194444444...</td>\n",
       "      <td>[-1.5128611111111108, -1.4845833333333336, -1....</td>\n",
       "      <td>[-1.278027777777778, -1.2497500000000001, -1.2...</td>\n",
       "      <td>[-1.7474722222222223, -1.7191944444444447, -1....</td>\n",
       "      <td>[-1.5123611111111108, -1.4840833333333332, -1....</td>\n",
       "      <td>[-1.2774722222222221, -1.2491944444444445, -1....</td>\n",
       "      <td>[-1.7467499999999998, -1.7184722222222222, -1....</td>\n",
       "      <td>[-1.5118055555555554, -1.4835277777777778, -1....</td>\n",
       "      <td>[-1.2770277777777779, -1.24875, -1.22047222222...</td>\n",
       "    </tr>\n",
       "    <tr>\n",
       "      <th>decDeg</th>\n",
       "      <td>[-0.8822222222222221, -0.8822222222222221, -0....</td>\n",
       "      <td>[-0.8829444444444443, -0.8829444444444442, -0....</td>\n",
       "      <td>[-0.8832222222222221, -0.883222222222222, -0.8...</td>\n",
       "      <td>[-0.6473888888888889, -0.6473888888888889, -0....</td>\n",
       "      <td>[-0.6478333333333333, -0.6478333333333333, -0....</td>\n",
       "      <td>[-0.6483888888888889, -0.648388888888889, -0.6...</td>\n",
       "      <td>[-0.4125, -0.4124999999999999, -0.412499999999...</td>\n",
       "      <td>[-0.4129444444444443, -0.41294444444444434, -0...</td>\n",
       "      <td>[-0.41338888888888886, -0.4133888888888888, -0...</td>\n",
       "    </tr>\n",
       "    <tr>\n",
       "      <th>radDeg</th>\n",
       "      <td>[1.9577294723928658, 1.9325286795067815, 1.907...</td>\n",
       "      <td>[1.7516159531022955, 1.727253336827019, 1.7030...</td>\n",
       "      <td>[1.5534822535715445, 1.5303048180632601, 1.507...</td>\n",
       "      <td>[1.8635025031546752, 1.837012825746756, 1.8105...</td>\n",
       "      <td>[1.6452436545383784, 1.6192891971179828, 1.593...</td>\n",
       "      <td>[1.4325759187629943, 1.4074190188820228, 1.382...</td>\n",
       "      <td>[1.7947810710495278, 1.7672724753875635, 1.739...</td>\n",
       "      <td>[1.567175668568872, 1.5399154757672282, 1.5126...</td>\n",
       "      <td>[1.3422600418310981, 1.3153858280397814, 1.288...</td>\n",
       "    </tr>\n",
       "    <tr>\n",
       "      <th>effarea</th>\n",
       "      <td>[16.02646574447277, 18.640409974650144, 20.642...</td>\n",
       "      <td>[30.741172868938648, 31.12900829753084, 31.335...</td>\n",
       "      <td>[32.20150639586704, 32.30072738734823, 32.4192...</td>\n",
       "      <td>[23.201936351040672, 25.15330255008084, 27.345...</td>\n",
       "      <td>[31.66688496745329, 31.78564435266949, 31.9733...</td>\n",
       "      <td>[32.79895849992638, 32.88257591265841, 32.9691...</td>\n",
       "      <td>[28.511806683632486, 30.170267208166933, 31.01...</td>\n",
       "      <td>[32.124858046821835, 32.27719909517821, 32.379...</td>\n",
       "      <td>[33.142925415182134, 33.18551353151141, 33.264...</td>\n",
       "    </tr>\n",
       "    <tr>\n",
       "      <th>readnoise</th>\n",
       "      <td>[6.71848, 6.77015, 6.75663, 6.79981, 7.05629, ...</td>\n",
       "      <td>[6.86434, 6.91468, 6.96803, 7.36224, 7.29712, ...</td>\n",
       "      <td>[8.02339, 8.28742, 8.57657, 8.72061, 8.70782, ...</td>\n",
       "      <td>[7.82572, 8.04383, 7.85935, 7.99911, 8.23975, ...</td>\n",
       "      <td>[6.65295, 6.76853, 6.77448, 6.80252, 7.02615, ...</td>\n",
       "      <td>[8.98901, 9.14457, 9.20017, 9.28653, 9.24306, ...</td>\n",
       "      <td>[8.9218, 9.0226, 9.29537, 9.12591, 9.13382, 9....</td>\n",
       "      <td>[6.57759, 6.50091, 6.55698, 6.63024, 6.69975, ...</td>\n",
       "      <td>[7.25963, 7.36891, 7.41492, 7.48055, 7.45991, ...</td>\n",
       "    </tr>\n",
       "  </tbody>\n",
       "</table>\n",
       "</div>"
      ],
      "text/plain": [
       "                                                     R10_S00  \\\n",
       "raDeg      [-1.74775, -1.719472222222222, -1.691194444444...   \n",
       "decDeg     [-0.8822222222222221, -0.8822222222222221, -0....   \n",
       "radDeg     [1.9577294723928658, 1.9325286795067815, 1.907...   \n",
       "effarea    [16.02646574447277, 18.640409974650144, 20.642...   \n",
       "readnoise  [6.71848, 6.77015, 6.75663, 6.79981, 7.05629, ...   \n",
       "\n",
       "                                                     R10_S01  \\\n",
       "raDeg      [-1.5128611111111108, -1.4845833333333336, -1....   \n",
       "decDeg     [-0.8829444444444443, -0.8829444444444442, -0....   \n",
       "radDeg     [1.7516159531022955, 1.727253336827019, 1.7030...   \n",
       "effarea    [30.741172868938648, 31.12900829753084, 31.335...   \n",
       "readnoise  [6.86434, 6.91468, 6.96803, 7.36224, 7.29712, ...   \n",
       "\n",
       "                                                     R10_S02  \\\n",
       "raDeg      [-1.278027777777778, -1.2497500000000001, -1.2...   \n",
       "decDeg     [-0.8832222222222221, -0.883222222222222, -0.8...   \n",
       "radDeg     [1.5534822535715445, 1.5303048180632601, 1.507...   \n",
       "effarea    [32.20150639586704, 32.30072738734823, 32.4192...   \n",
       "readnoise  [8.02339, 8.28742, 8.57657, 8.72061, 8.70782, ...   \n",
       "\n",
       "                                                     R10_S10  \\\n",
       "raDeg      [-1.7474722222222223, -1.7191944444444447, -1....   \n",
       "decDeg     [-0.6473888888888889, -0.6473888888888889, -0....   \n",
       "radDeg     [1.8635025031546752, 1.837012825746756, 1.8105...   \n",
       "effarea    [23.201936351040672, 25.15330255008084, 27.345...   \n",
       "readnoise  [7.82572, 8.04383, 7.85935, 7.99911, 8.23975, ...   \n",
       "\n",
       "                                                     R10_S11  \\\n",
       "raDeg      [-1.5123611111111108, -1.4840833333333332, -1....   \n",
       "decDeg     [-0.6478333333333333, -0.6478333333333333, -0....   \n",
       "radDeg     [1.6452436545383784, 1.6192891971179828, 1.593...   \n",
       "effarea    [31.66688496745329, 31.78564435266949, 31.9733...   \n",
       "readnoise  [6.65295, 6.76853, 6.77448, 6.80252, 7.02615, ...   \n",
       "\n",
       "                                                     R10_S12  \\\n",
       "raDeg      [-1.2774722222222221, -1.2491944444444445, -1....   \n",
       "decDeg     [-0.6483888888888889, -0.648388888888889, -0.6...   \n",
       "radDeg     [1.4325759187629943, 1.4074190188820228, 1.382...   \n",
       "effarea    [32.79895849992638, 32.88257591265841, 32.9691...   \n",
       "readnoise  [8.98901, 9.14457, 9.20017, 9.28653, 9.24306, ...   \n",
       "\n",
       "                                                     R10_S20  \\\n",
       "raDeg      [-1.7467499999999998, -1.7184722222222222, -1....   \n",
       "decDeg     [-0.4125, -0.4124999999999999, -0.412499999999...   \n",
       "radDeg     [1.7947810710495278, 1.7672724753875635, 1.739...   \n",
       "effarea    [28.511806683632486, 30.170267208166933, 31.01...   \n",
       "readnoise  [8.9218, 9.0226, 9.29537, 9.12591, 9.13382, 9....   \n",
       "\n",
       "                                                     R10_S21  \\\n",
       "raDeg      [-1.5118055555555554, -1.4835277777777778, -1....   \n",
       "decDeg     [-0.4129444444444443, -0.41294444444444434, -0...   \n",
       "radDeg     [1.567175668568872, 1.5399154757672282, 1.5126...   \n",
       "effarea    [32.124858046821835, 32.27719909517821, 32.379...   \n",
       "readnoise  [6.57759, 6.50091, 6.55698, 6.63024, 6.69975, ...   \n",
       "\n",
       "                                                     R10_S22  \n",
       "raDeg      [-1.2770277777777779, -1.24875, -1.22047222222...  \n",
       "decDeg     [-0.41338888888888886, -0.4133888888888888, -0...  \n",
       "radDeg     [1.3422600418310981, 1.3153858280397814, 1.288...  \n",
       "effarea    [33.142925415182134, 33.18551353151141, 33.264...  \n",
       "readnoise  [7.25963, 7.36891, 7.41492, 7.48055, 7.45991, ...  "
      ]
     },
     "execution_count": 163,
     "metadata": {},
     "output_type": "execute_result"
    }
   ],
   "source": [
    "adf"
   ]
  },
  {
   "cell_type": "code",
   "execution_count": 171,
   "metadata": {},
   "outputs": [],
   "source": [
    "ampList = list(OrderedDict(sorted(raDeg.items())).keys())"
   ]
  },
  {
   "cell_type": "code",
   "execution_count": 200,
   "metadata": {},
   "outputs": [
    {
     "name": "stdout",
     "output_type": "stream",
     "text": [
      "Calculating m5 for R10_S00\n",
      "deal channel: R10_S00, max sb = 0.00\n",
      "Calculating m5 for R10_S01\n",
      "Calculating m5 for R10_S02\n",
      "Calculating m5 for R10_S10\n",
      "Calculating m5 for R10_S11\n",
      "Calculating m5 for R10_S12\n",
      "Calculating m5 for R10_S20\n",
      "Calculating m5 for R10_S21\n",
      "Calculating m5 for R10_S22\n"
     ]
    }
   ],
   "source": [
    "for det in cam:\n",
    "    rname1, dname = det.getName().split('_')\n",
    "    if rname1 != rname: \n",
    "        continue;\n",
    "        \n",
    "    vendor = det.getSerial()[:3].lower()\n",
    "    assert dd.vendor[rname].lower() == vendor\n",
    "    vendorDir = defaultDirs['detector']+'/../'+vendor\n",
    "    print('Calculating m5 for %s_%s'%(rname,dname))\n",
    "    \n",
    "    key = rname+'_'+dname\n",
    "    for f in filters:\n",
    "        m5df[key][f] = [-1.]*len(ampList)\n",
    "    \n",
    "    for amp in det:\n",
    "        amp_point = amp.getBBox().getCenter()\n",
    "\n",
    "        \n",
    "        try:\n",
    "            qe_curve = butler.get('qe_curve', raftName=rname, detectorName=dname, taiObs='2000-01-01T00:00:00')\n",
    "            wavelen = detector0.wavelen \n",
    "            sb = qe_curve.evaluate(det, amp_point, wavelen* u.nm, kind='quadratic').value*.01 #unit was percent in CALIB data\n",
    "            \n",
    "            if np.max(sb)<0.01:\n",
    "                print('deal channel: %s, max sb = %.2f'%(key, np.max(sb)))\n",
    "                continue;\n",
    "                \n",
    "            detector.setBandpass(wavelen, sb)\n",
    "                \n",
    "            #detector losses  \n",
    "            #os.listdir(vendorDir)\n",
    "            detLosses = Bandpass()\n",
    "            detLosses.readThroughput(os.path.join(vendorDir, '%s_Losses/det_Losses.dat' % (vendor)))\n",
    "                \n",
    "            #build hardware and system\n",
    "            hardware = {}\n",
    "            system = {}\n",
    "            for f in filters:\n",
    "                sb = mirror1.sb * mirror2.sb *mirror3.sb\n",
    "                sb *= lens1.sb * lens2.sb * lens3.sb * filters[f].sb\n",
    "                sb *= detector.sb * detLosses.sb\n",
    "                \n",
    "                hardware[f] = Bandpass()\n",
    "                hardware[f].setBandpass(wavelen, sb)\n",
    "                system[f] = Bandpass()\n",
    "                system[f].setBandpass(wavelen, sb * atmos.sb)\n",
    "                \n",
    "            #calculate m5      \n",
    "            iamp = ampList.index(amp.getName())\n",
    "            effarea = adf[key]['effarea'][iamp]*100**2 #convert to cm^2\n",
    "            readnoise = adf[key]['readnoise'][iamp]\n",
    "        \n",
    "            m5 = st.makeM5(hardware, system, darksky=None, \n",
    "                      exptime=15, nexp=2, readnoise=readnoise, othernoise=0, darkcurrent=0.2,\n",
    "                      effarea=effarea, X=1.0)\n",
    "            for f in filters:\n",
    "                m5df[key][f][iamp] = m5.m5[f]\n",
    "        except NoResults:\n",
    "            print('No results found for this detector')\n",
    "            continue  # No results found for this detector"
   ]
  },
  {
   "cell_type": "code",
   "execution_count": 201,
   "metadata": {},
   "outputs": [
    {
     "data": {
      "text/html": [
       "<div>\n",
       "<style scoped>\n",
       "    .dataframe tbody tr th:only-of-type {\n",
       "        vertical-align: middle;\n",
       "    }\n",
       "\n",
       "    .dataframe tbody tr th {\n",
       "        vertical-align: top;\n",
       "    }\n",
       "\n",
       "    .dataframe thead th {\n",
       "        text-align: right;\n",
       "    }\n",
       "</style>\n",
       "<table border=\"1\" class=\"dataframe\">\n",
       "  <thead>\n",
       "    <tr style=\"text-align: right;\">\n",
       "      <th></th>\n",
       "      <th>R10_S00</th>\n",
       "      <th>R10_S01</th>\n",
       "      <th>R10_S02</th>\n",
       "      <th>R10_S10</th>\n",
       "      <th>R10_S11</th>\n",
       "      <th>R10_S12</th>\n",
       "      <th>R10_S20</th>\n",
       "      <th>R10_S21</th>\n",
       "      <th>R10_S22</th>\n",
       "    </tr>\n",
       "  </thead>\n",
       "  <tbody>\n",
       "    <tr>\n",
       "      <th>u</th>\n",
       "      <td>[23.41158847647214, 23.54194712203773, 23.6338...</td>\n",
       "      <td>[23.87849329042126, 23.882729681782106, 23.876...</td>\n",
       "      <td>[23.93719055824004, 23.916488759700542, 23.904...</td>\n",
       "      <td>[23.74627554671593, 23.798243309855458, 23.888...</td>\n",
       "      <td>[24.044128901399212, 24.036119063498752, 24.03...</td>\n",
       "      <td>[23.81417488669588, 23.802394198490845, 23.794...</td>\n",
       "      <td>[23.707740672845013, 23.747976145664396, 23.74...</td>\n",
       "      <td>[23.962227272286466, 23.968479069961703, 23.96...</td>\n",
       "      <td>[24.119577601162202, 24.10827122043142, 24.103...</td>\n",
       "    </tr>\n",
       "    <tr>\n",
       "      <th>y</th>\n",
       "      <td>[22.106866504239342, 22.196442717735096, 22.25...</td>\n",
       "      <td>[22.49182134744946, 22.502950205425126, 22.506...</td>\n",
       "      <td>[22.48728582164555, 22.490046811091656, 22.499...</td>\n",
       "      <td>[22.282019372537203, 22.329056907489957, 22.38...</td>\n",
       "      <td>[22.484039985938715, 22.487258562291583, 22.49...</td>\n",
       "      <td>[22.524021626246665, 22.52393713801849, 22.524...</td>\n",
       "      <td>[22.420893406350906, 22.45726969470751, 22.472...</td>\n",
       "      <td>[22.512920257511688, 22.519325643967548, 22.52...</td>\n",
       "      <td>[22.508101448160176, 22.510014436116833, 22.51...</td>\n",
       "    </tr>\n",
       "    <tr>\n",
       "      <th>g</th>\n",
       "      <td>[24.399220940664897, 24.503854077027228, 24.57...</td>\n",
       "      <td>[24.864093728838544, 24.87415814949605, 24.875...</td>\n",
       "      <td>[24.827751838931032, 24.82182665412805, 24.824...</td>\n",
       "      <td>[24.60552976603486, 24.652966263162014, 24.720...</td>\n",
       "      <td>[24.865618819142767, 24.86592742671989, 24.872...</td>\n",
       "      <td>[24.81456759761375, 24.811399172048237, 24.810...</td>\n",
       "      <td>[24.726331199671822, 24.76338538346728, 24.772...</td>\n",
       "      <td>[24.904003167279992, 24.909964103976684, 24.91...</td>\n",
       "      <td>[24.882403905077545, 24.879690200436425, 24.87...</td>\n",
       "    </tr>\n",
       "    <tr>\n",
       "      <th>r</th>\n",
       "      <td>[23.970203594854127, 24.06512262266343, 24.130...</td>\n",
       "      <td>[24.368338627686356, 24.377616299849798, 24.37...</td>\n",
       "      <td>[24.382842055384714, 24.379358121817887, 24.38...</td>\n",
       "      <td>[24.1859967609663, 24.23167972947961, 24.29022...</td>\n",
       "      <td>[24.396418506901885, 24.396882037271688, 24.40...</td>\n",
       "      <td>[24.374805867919754, 24.37289203696074, 24.371...</td>\n",
       "      <td>[24.279380901948855, 24.313817207985615, 24.32...</td>\n",
       "      <td>[24.4001531984389, 24.403943754618084, 24.4067...</td>\n",
       "      <td>[24.42431641917024, 24.421916177155538, 24.420...</td>\n",
       "    </tr>\n",
       "    <tr>\n",
       "      <th>z</th>\n",
       "      <td>[22.995485960718064, 23.085684888725915, 23.14...</td>\n",
       "      <td>[23.379172658364812, 23.388560155510277, 23.39...</td>\n",
       "      <td>[23.387784917967885, 23.388975653734207, 23.39...</td>\n",
       "      <td>[23.185618497448765, 23.23221809646433, 23.286...</td>\n",
       "      <td>[23.386455295885348, 23.388533652139472, 23.39...</td>\n",
       "      <td>[23.401019659846952, 23.40188772957844, 23.402...</td>\n",
       "      <td>[23.311356864644175, 23.346311562017178, 23.35...</td>\n",
       "      <td>[23.410785800504705, 23.414456598066636, 23.41...</td>\n",
       "      <td>[23.414373142881097, 23.41454321632211, 23.415...</td>\n",
       "    </tr>\n",
       "    <tr>\n",
       "      <th>i</th>\n",
       "      <td>[23.552882766121797, 23.64566136721045, 23.709...</td>\n",
       "      <td>[23.938170974875653, 23.94719115888718, 23.948...</td>\n",
       "      <td>[23.958920586031287, 23.957622110281825, 23.96...</td>\n",
       "      <td>[23.756588532341674, 23.803304934068596, 23.85...</td>\n",
       "      <td>[23.963945916170836, 23.965015602660387, 23.96...</td>\n",
       "      <td>[23.958207763992178, 23.957609306741126, 23.95...</td>\n",
       "      <td>[23.867599615650782, 23.902458012810456, 23.91...</td>\n",
       "      <td>[23.970374165129336, 23.973578854157875, 23.97...</td>\n",
       "      <td>[23.98846964884649, 23.987360069487394, 23.987...</td>\n",
       "    </tr>\n",
       "  </tbody>\n",
       "</table>\n",
       "</div>"
      ],
      "text/plain": [
       "                                             R10_S00  \\\n",
       "u  [23.41158847647214, 23.54194712203773, 23.6338...   \n",
       "y  [22.106866504239342, 22.196442717735096, 22.25...   \n",
       "g  [24.399220940664897, 24.503854077027228, 24.57...   \n",
       "r  [23.970203594854127, 24.06512262266343, 24.130...   \n",
       "z  [22.995485960718064, 23.085684888725915, 23.14...   \n",
       "i  [23.552882766121797, 23.64566136721045, 23.709...   \n",
       "\n",
       "                                             R10_S01  \\\n",
       "u  [23.87849329042126, 23.882729681782106, 23.876...   \n",
       "y  [22.49182134744946, 22.502950205425126, 22.506...   \n",
       "g  [24.864093728838544, 24.87415814949605, 24.875...   \n",
       "r  [24.368338627686356, 24.377616299849798, 24.37...   \n",
       "z  [23.379172658364812, 23.388560155510277, 23.39...   \n",
       "i  [23.938170974875653, 23.94719115888718, 23.948...   \n",
       "\n",
       "                                             R10_S02  \\\n",
       "u  [23.93719055824004, 23.916488759700542, 23.904...   \n",
       "y  [22.48728582164555, 22.490046811091656, 22.499...   \n",
       "g  [24.827751838931032, 24.82182665412805, 24.824...   \n",
       "r  [24.382842055384714, 24.379358121817887, 24.38...   \n",
       "z  [23.387784917967885, 23.388975653734207, 23.39...   \n",
       "i  [23.958920586031287, 23.957622110281825, 23.96...   \n",
       "\n",
       "                                             R10_S10  \\\n",
       "u  [23.74627554671593, 23.798243309855458, 23.888...   \n",
       "y  [22.282019372537203, 22.329056907489957, 22.38...   \n",
       "g  [24.60552976603486, 24.652966263162014, 24.720...   \n",
       "r  [24.1859967609663, 24.23167972947961, 24.29022...   \n",
       "z  [23.185618497448765, 23.23221809646433, 23.286...   \n",
       "i  [23.756588532341674, 23.803304934068596, 23.85...   \n",
       "\n",
       "                                             R10_S11  \\\n",
       "u  [24.044128901399212, 24.036119063498752, 24.03...   \n",
       "y  [22.484039985938715, 22.487258562291583, 22.49...   \n",
       "g  [24.865618819142767, 24.86592742671989, 24.872...   \n",
       "r  [24.396418506901885, 24.396882037271688, 24.40...   \n",
       "z  [23.386455295885348, 23.388533652139472, 23.39...   \n",
       "i  [23.963945916170836, 23.965015602660387, 23.96...   \n",
       "\n",
       "                                             R10_S12  \\\n",
       "u  [23.81417488669588, 23.802394198490845, 23.794...   \n",
       "y  [22.524021626246665, 22.52393713801849, 22.524...   \n",
       "g  [24.81456759761375, 24.811399172048237, 24.810...   \n",
       "r  [24.374805867919754, 24.37289203696074, 24.371...   \n",
       "z  [23.401019659846952, 23.40188772957844, 23.402...   \n",
       "i  [23.958207763992178, 23.957609306741126, 23.95...   \n",
       "\n",
       "                                             R10_S20  \\\n",
       "u  [23.707740672845013, 23.747976145664396, 23.74...   \n",
       "y  [22.420893406350906, 22.45726969470751, 22.472...   \n",
       "g  [24.726331199671822, 24.76338538346728, 24.772...   \n",
       "r  [24.279380901948855, 24.313817207985615, 24.32...   \n",
       "z  [23.311356864644175, 23.346311562017178, 23.35...   \n",
       "i  [23.867599615650782, 23.902458012810456, 23.91...   \n",
       "\n",
       "                                             R10_S21  \\\n",
       "u  [23.962227272286466, 23.968479069961703, 23.96...   \n",
       "y  [22.512920257511688, 22.519325643967548, 22.52...   \n",
       "g  [24.904003167279992, 24.909964103976684, 24.91...   \n",
       "r  [24.4001531984389, 24.403943754618084, 24.4067...   \n",
       "z  [23.410785800504705, 23.414456598066636, 23.41...   \n",
       "i  [23.970374165129336, 23.973578854157875, 23.97...   \n",
       "\n",
       "                                             R10_S22  \n",
       "u  [24.119577601162202, 24.10827122043142, 24.103...  \n",
       "y  [22.508101448160176, 22.510014436116833, 22.51...  \n",
       "g  [24.882403905077545, 24.879690200436425, 24.87...  \n",
       "r  [24.42431641917024, 24.421916177155538, 24.420...  \n",
       "z  [23.414373142881097, 23.41454321632211, 23.415...  \n",
       "i  [23.98846964884649, 23.987360069487394, 23.987...  "
      ]
     },
     "execution_count": 201,
     "metadata": {},
     "output_type": "execute_result"
    }
   ],
   "source": [
    "m5df"
   ]
  },
  {
   "cell_type": "code",
   "execution_count": 192,
   "metadata": {},
   "outputs": [
    {
     "data": {
      "text/plain": [
       "nan"
      ]
     },
     "execution_count": 192,
     "metadata": {},
     "output_type": "execute_result"
    }
   ],
   "source": [
    "m5df[key][f] "
   ]
  },
  {
   "cell_type": "code",
   "execution_count": 191,
   "metadata": {},
   "outputs": [
    {
     "ename": "TypeError",
     "evalue": "'float' object is not subscriptable",
     "output_type": "error",
     "traceback": [
      "\u001b[0;31m---------------------------------------------------------------------------\u001b[0m",
      "\u001b[0;31mTypeError\u001b[0m                                 Traceback (most recent call last)",
      "\u001b[0;32m<ipython-input-191-3b642214a972>\u001b[0m in \u001b[0;36m<module>\u001b[0;34m\u001b[0m\n\u001b[0;32m----> 1\u001b[0;31m \u001b[0mtype\u001b[0m\u001b[0;34m(\u001b[0m\u001b[0mm5df\u001b[0m\u001b[0;34m[\u001b[0m\u001b[0mkey\u001b[0m\u001b[0;34m]\u001b[0m\u001b[0;34m[\u001b[0m\u001b[0mf\u001b[0m\u001b[0;34m]\u001b[0m\u001b[0;34m[\u001b[0m\u001b[0;36m0\u001b[0m\u001b[0;34m]\u001b[0m\u001b[0;34m)\u001b[0m\u001b[0;34m\u001b[0m\u001b[0;34m\u001b[0m\u001b[0m\n\u001b[0m",
      "\u001b[0;31mTypeError\u001b[0m: 'float' object is not subscriptable"
     ]
    }
   ],
   "source": [
    "type(m5df[key][f][0])"
   ]
  },
  {
   "cell_type": "code",
   "execution_count": 190,
   "metadata": {},
   "outputs": [
    {
     "data": {
      "text/plain": [
       "numpy.float64"
      ]
     },
     "execution_count": 190,
     "metadata": {},
     "output_type": "execute_result"
    }
   ],
   "source": [
    "type(m5.m5[f])"
   ]
  },
  {
   "cell_type": "code",
   "execution_count": null,
   "metadata": {},
   "outputs": [],
   "source": []
  }
 ],
 "metadata": {
  "kernelspec": {
   "display_name": "LSST",
   "language": "python",
   "name": "lsst"
  },
  "language_info": {
   "codemirror_mode": {
    "name": "ipython",
    "version": 3
   },
   "file_extension": ".py",
   "mimetype": "text/x-python",
   "name": "python",
   "nbconvert_exporter": "python",
   "pygments_lexer": "ipython3",
   "version": "3.7.2"
  }
 },
 "nbformat": 4,
 "nbformat_minor": 4
}
