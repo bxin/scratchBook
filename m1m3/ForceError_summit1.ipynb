{
 "cells": [
  {
   "cell_type": "markdown",
   "metadata": {},
   "source": [
    "## We repeat what we did in ForceError.ipynb for the Mirror Lab data.\n",
    "## and see how things changed between Mirror Lab and the summit"
   ]
  },
  {
   "cell_type": "code",
   "execution_count": 22,
   "metadata": {},
   "outputs": [],
   "source": [
    "from M1M3tools import *\n",
    "from datetime import datetime\n",
    "from datetime import timedelta\n",
    "from datetime import timezone\n",
    "import os\n",
    "import yaml\n",
    "\n",
    "import matplotlib.pyplot as plt\n",
    "import numpy as np\n",
    "import pandas as pd\n",
    "from matplotlib.patches import Circle\n",
    "\n",
    "plt.style.use('classic')\n",
    "\n",
    "%matplotlib inline\n",
    "from pandas.plotting import register_matplotlib_converters\n",
    "register_matplotlib_converters()"
   ]
  },
  {
   "cell_type": "code",
   "execution_count": 2,
   "metadata": {},
   "outputs": [],
   "source": [
    "#These are time stamps we used for the mirror Lab analysis. We keep them for comparison.\n",
    "# these are in utc already.\n",
    "myt0 = [1, 25, 17, 54] #33/28nm surfaces\n",
    "myt1 = [1,14,22,38] #a random time we grabbed from 190118.ipynb\n",
    "myt2 = [1,18,16,48]\n",
    "\n",
    "#for summit test, we take a random example: \n",
    "# https://jira.lsstcorp.org/secure/Tests.jspa#/testPlayer/LVV-C94   look at LVV-T237(1.0)  step 4.\n",
    "# there is a attachement.\n",
    "# The time of entry in Jira was \n",
    "# M13T017-20191018_1417UTC.txt\t167 kB\tEric Coughlin\t18/Oct/19 7:26 am\n",
    "# This is Jira time, i.e., Tucson time.\n",
    "# The file name notes that it was 14:17UTC.\n",
    "# inside the file, we pick a random time where z-forces seemed to be doing something: \n",
    "# line#491, time was 2019-10-18T14:20:24\n",
    "\n",
    "myts = [10, 18, 14, 20] \n",
    "#this turns out to be not for above test, because EFD machine used local time for data_time (insertion time)\n",
    "# sndStamp and rcvStamp were UTC\n",
    "#This happens to contain  a bump test (lasted a few seconds)"
   ]
  },
  {
   "cell_type": "markdown",
   "metadata": {},
   "source": [
    "#### Data from test campaign 2 can not be used, because the measured forces are truncated. What about on the summit? Was it truncated too? Great! The answer is no. See below."
   ]
  },
  {
   "cell_type": "code",
   "execution_count": 3,
   "metadata": {},
   "outputs": [
    {
     "name": "stdout",
     "output_type": "stream",
     "text": [
      "-------Reading from efdData/MeasuredForces_191018_1420.csv-------------\n"
     ]
    }
   ],
   "source": [
    "df1 = get_dataframe_EFD(myts, 'm1m3_ForceActuatorData')"
   ]
  },
  {
   "cell_type": "code",
   "execution_count": 4,
   "metadata": {},
   "outputs": [
    {
     "data": {
      "text/plain": [
       "156"
      ]
     },
     "execution_count": 4,
     "metadata": {},
     "output_type": "execute_result"
    }
   ],
   "source": [
    "len(df1['ZForce'][0].split())"
   ]
  },
  {
   "cell_type": "code",
   "execution_count": 5,
   "metadata": {},
   "outputs": [
    {
     "data": {
      "text/plain": [
       "0    0.000000\n",
       "1    0.019643\n",
       "2    0.039741\n",
       "3    0.059646\n",
       "4    0.079771\n",
       "5    0.099924\n",
       "6    0.119691\n",
       "7    0.139629\n",
       "8    0.159749\n",
       "9    0.179681\n",
       "Name: private_sndStamp, dtype: float64"
      ]
     },
     "execution_count": 5,
     "metadata": {},
     "output_type": "execute_result"
    }
   ],
   "source": [
    "# Unlike the Mirror Lab EFD, it looks like this is in order, great!\n",
    "df1.private_sndStamp[:10]-df1.private_sndStamp[0]"
   ]
  },
  {
   "cell_type": "code",
   "execution_count": 6,
   "metadata": {},
   "outputs": [
    {
     "data": {
      "image/png": "[encoded data removed]",
      "text/plain": [
       "<Figure size 432x288 with 1 Axes>"
      ]
     },
     "metadata": {
      "needs_background": "light"
     },
     "output_type": "display_data"
    }
   ],
   "source": [
    "plt.plot(np.array(df1.private_sndStamp[1:])-np.array(df1.private_sndStamp[:-1]));"
   ]
  },
  {
   "cell_type": "markdown",
   "metadata": {},
   "source": [
    "#### We load data from Mirror Lab campaign 1.\n",
    "When csv files exist, the below will just load the csv files, without trying to connect to EFD."
   ]
  },
  {
   "cell_type": "code",
   "execution_count": 7,
   "metadata": {},
   "outputs": [
    {
     "name": "stdout",
     "output_type": "stream",
     "text": [
      "-------Reading from efdData/MeasuredForces_190125_1754.csv-------------\n",
      "-------Reading from efdData/AppliedForces_190125_1754.csv-------------\n",
      "-------Reading from efdData/MeasuredForces_190114_2238.csv-------------\n",
      "-------Reading from efdData/AppliedForces_190114_2238.csv-------------\n",
      "-------Reading from efdData/MeasuredForces_190118_1648.csv-------------\n",
      "-------Reading from efdData/AppliedForces_190118_1648.csv-------------\n"
     ]
    }
   ],
   "source": [
    "df1 = get_dataframe_EFD(myt0, table_name = 'm1m3_ForceActuatorData')\n",
    "df2 = get_dataframe_EFD(myt0, table_name = 'm1m3_logevent_AppliedForces')\n",
    "df3 = get_dataframe_EFD(myt1, table_name = 'm1m3_ForceActuatorData')\n",
    "df4 = get_dataframe_EFD(myt1, table_name = 'm1m3_logevent_AppliedForces')\n",
    "df5 = get_dataframe_EFD(myt2, table_name = 'm1m3_ForceActuatorData')\n",
    "df6 = get_dataframe_EFD(myt2, table_name = 'm1m3_logevent_AppliedForces')"
   ]
  },
  {
   "cell_type": "code",
   "execution_count": 8,
   "metadata": {},
   "outputs": [
    {
     "name": "stdout",
     "output_type": "stream",
     "text": [
      "-------Reading from efdData/MeasuredForces_191018_1420.csv-------------\n",
      "-------Reading from efdData/AppliedForces_191018_1420.csv-------------\n",
      "-------Reading from efdData/AppliedBalanceForces_191018_1420.csv-------------\n"
     ]
    }
   ],
   "source": [
    "df7 = get_dataframe_EFD(myts, table_name = 'm1m3_ForceActuatorData')\n",
    "df8 = get_dataframe_EFD(myts, table_name = 'm1m3_logevent_AppliedForces')\n",
    "df8b = get_dataframe_EFD(myts, 'm1m3_logevent_AppliedBalanceForces')"
   ]
  },
  {
   "cell_type": "code",
   "execution_count": 11,
   "metadata": {},
   "outputs": [],
   "source": [
    "myf1 = assembleFinst(df1, 1, 1)\n",
    "myf2 = assembleFinst(df2, 1, 1)\n",
    "myf3 = assembleFinst(df3, 1, 1)\n",
    "myf4 = assembleFinst(df4, 1, 1)\n",
    "myf5 = assembleFinst(df5, 1, 1)\n",
    "myf6 = assembleFinst(df6, 1, 1)"
   ]
  },
  {
   "cell_type": "code",
   "execution_count": 12,
   "metadata": {},
   "outputs": [],
   "source": [
    "myf7 = assembleFinst(df7, 3, 1)\n",
    "myf8 = assembleFinst(df8, 3, 1)"
   ]
  },
  {
   "cell_type": "markdown",
   "metadata": {},
   "source": [
    "#### Unfortunately the two force tables STILL have different number of messages."
   ]
  },
  {
   "cell_type": "code",
   "execution_count": 13,
   "metadata": {},
   "outputs": [
    {
     "name": "stdout",
     "output_type": "stream",
     "text": [
      "(11999, 156, 4) (12038, 156, 4)\n"
     ]
    }
   ],
   "source": [
    "print(myf7.shape, myf8.shape)"
   ]
  },
  {
   "cell_type": "markdown",
   "metadata": {},
   "source": [
    "#### The timestamps for sending the messages were different! So we cannot do a simple element-wise subtraction"
   ]
  },
  {
   "cell_type": "markdown",
   "metadata": {},
   "source": [
    "#### We set the earliest time stamp to be t=0, and latest time stamp to be tmax. After that we bin the data using the time stamps. \n",
    "In example below we choose time interval for averaging to be 1 second.\n",
    "fdiff is the force difference after binning the data."
   ]
  },
  {
   "cell_type": "code",
   "execution_count": 14,
   "metadata": {},
   "outputs": [],
   "source": [
    "def get_fdiff_from_myf12(df1, df2, campn = 1, dt=1):\n",
    "    myf1 = assembleFinst(df1, campn, 1)\n",
    "    myf2 = assembleFinst(df2, campn, 1)\n",
    "    \n",
    "    t0 = min(min(df1.private_sndStamp), min(df2.private_sndStamp))\n",
    "    tmax = max(max(df1.private_sndStamp), max(df2.private_sndStamp))-t0\n",
    "    t1 = np.array(df1.private_sndStamp - t0)\n",
    "    t2 = np.array(df2.private_sndStamp - t0)\n",
    "    nt = int(np.ceil(tmax/dt))\n",
    "    fdiff = np.zeros((nt, nActuator, 4))\n",
    "    for it in range(nt):\n",
    "        idx1 = np.logical_and(t1>dt*it, t1<dt*(it+1)) #time binning\n",
    "        idx2 = np.logical_and(t2>dt*it, t2<dt*(it+1)) #time binning\n",
    "        if np.any(idx1) == True and np.any(idx2) == True:\n",
    "            fdiff[it,:,:] = np.mean(myf1[idx1,:,:], axis=0) - np.mean(myf2[idx2,:,:], axis=0)\n",
    "        else:\n",
    "            fdiff[it,:,:] = np.nan\n",
    "    fdiff[:,:,0] = actID  #checked fdiff[:2,:,0]. This is OK.\n",
    "    idxx = ~(np.logical_and(myf1[0,:,1]==0, myf2[0,:,1]==0))#which actuators have x force\n",
    "    idxy = ~(np.logical_and(myf1[0,:,2]==0, myf2[0,:,2]==0))#which actuators have y force\n",
    "    fdiff[:,~idxx,1] = np.nan\n",
    "    fdiff[:,~idxy,2] = np.nan\n",
    "    return fdiff"
   ]
  },
  {
   "cell_type": "code",
   "execution_count": 15,
   "metadata": {},
   "outputs": [],
   "source": [
    "fdiff1 = get_fdiff_from_myf12(df1, df2, campn=1)\n",
    "fdiff2 = get_fdiff_from_myf12(df3, df4, campn=1)\n",
    "fdiff3 = get_fdiff_from_myf12(df5, df6, campn=1)"
   ]
  },
  {
   "cell_type": "code",
   "execution_count": 16,
   "metadata": {},
   "outputs": [],
   "source": [
    "fdiff4 = get_fdiff_from_myf12(df7, df8, campn=3)"
   ]
  },
  {
   "cell_type": "code",
   "execution_count": 17,
   "metadata": {},
   "outputs": [
    {
     "data": {
      "image/png": "[encoded data removed]",
      "text/plain": [
       "<Figure size 1080x288 with 3 Axes>"
      ]
     },
     "metadata": {
      "needs_background": "light"
     },
     "output_type": "display_data"
    }
   ],
   "source": [
    "xbin = np.linspace(-2.5,2.5,101)\n",
    "idxx = ~(np.logical_and(myf1[0,:,1]==0, myf2[0,:,1]==0))#which actuators have x force\n",
    "idxy = ~(np.logical_and(myf1[0,:,2]==0, myf2[0,:,2]==0))#which actuators have y force\n",
    "\n",
    "fig, ax = plt.subplots(1, 3, figsize = (15,4))\n",
    "\n",
    "idx = ~np.isnan(fdiff2[:,np.argmax(idxx),1]) #for 1st dimension: there are empty bins even after binning by dt=1s.\n",
    "ax[0].hist(fdiff2[np.ix_(idx,idxx)][:,:,1].reshape(-1,1), bins=xbin, color='r',histtype='step', density=True, label='190114')\n",
    "ax[1].hist(fdiff2[np.ix_(idx,idxy)][:,:,2].reshape(-1,1), bins=xbin, color='r',histtype='step', density=True, label='190114')\n",
    "ax[2].hist(fdiff2[idx,:,3].reshape(-1,1), bins=xbin, color='r',histtype='step', density=True, label='190114')\n",
    "\n",
    "idx = ~np.isnan(fdiff3[:,np.argmax(idxx),1]) #for 1st dimension: there are empty bins even after binning by dt=1s.\n",
    "ax[0].hist(fdiff3[np.ix_(idx,idxx)][:,:,1].reshape(-1,1), bins=xbin, color='k',histtype='step', density=True, label='190118')\n",
    "ax[1].hist(fdiff3[np.ix_(idx,idxy)][:,:,2].reshape(-1,1), bins=xbin, color='k',histtype='step', density=True, label='190118')\n",
    "ax[2].hist(fdiff3[idx,:,3].reshape(-1,1), bins=xbin, color='k',histtype='step', density=True, label='190118')\n",
    "\n",
    "idx = ~np.isnan(fdiff1[:,np.argmax(idxx),1]) #for 1st dimension: there are empty bins even after binning by dt=1s.\n",
    "ax[0].hist(fdiff1[np.ix_(idx,idxx)][:,:,1].reshape(-1,1), bins=xbin, color='b',histtype='step', density=True, label='190125')\n",
    "ax[1].hist(fdiff1[np.ix_(idx,idxy)][:,:,2].reshape(-1,1), bins=xbin, color='b',histtype='step', density=True, label='190125')\n",
    "ax[2].hist(fdiff1[idx,:,3].reshape(-1,1), bins=xbin, color='b',histtype='step', density=True, label='190125')\n",
    "\n",
    "idx = ~np.isnan(fdiff4[:,np.argmax(idxx),1]) #for 1st dimension: there are empty bins even after binning by dt=1s.\n",
    "ax[0].hist(fdiff4[np.ix_(idx,idxx)][:,:,1].reshape(-1,1), bins=xbin, color='m',histtype='step', density=True, label='191018')\n",
    "ax[1].hist(fdiff4[np.ix_(idx,idxy)][:,:,2].reshape(-1,1), bins=xbin, color='m',histtype='step', density=True, label='191018')\n",
    "ax[2].hist(fdiff4[idx,:,3].reshape(-1,1), bins=xbin, color='m',histtype='step', density=True, label='191018')\n",
    "\n",
    "ax[0].set_title('x force error')\n",
    "ax[1].set_title('y force error')\n",
    "ax[2].set_title('z force error')\n",
    "for i in range(3):\n",
    "    ax[i].legend(loc='upper left')"
   ]
  },
  {
   "cell_type": "markdown",
   "metadata": {},
   "source": [
    "#### We did not use much x or y forces at zenith pointing. They look OK. z-forces have some large differences.\n",
    "Below we first verify that these large differences are real - indeed in the data."
   ]
  },
  {
   "cell_type": "code",
   "execution_count": 18,
   "metadata": {},
   "outputs": [
    {
     "data": {
      "text/plain": [
       "40.829000806274465"
      ]
     },
     "execution_count": 18,
     "metadata": {},
     "output_type": "execute_result"
    }
   ],
   "source": [
    "np.max(fdiff4[idx,:,3])"
   ]
  },
  {
   "cell_type": "code",
   "execution_count": 19,
   "metadata": {},
   "outputs": [],
   "source": [
    "idxt = np.where(fdiff4[:,:,3]>20)"
   ]
  },
  {
   "cell_type": "code",
   "execution_count": 20,
   "metadata": {},
   "outputs": [
    {
     "data": {
      "text/plain": [
       "(array([ 14,  80, 102, 135, 156, 200, 222, 233]),\n",
       " array([24, 27, 28, 30, 31, 33, 34, 35]))"
      ]
     },
     "execution_count": 20,
     "metadata": {},
     "output_type": "execute_result"
    }
   ],
   "source": [
    "idxt"
   ]
  },
  {
   "cell_type": "code",
   "execution_count": 23,
   "metadata": {},
   "outputs": [
    {
     "data": {
      "image/png": "[encoded data removed]",
      "text/plain": [
       "<Figure size 792x576 with 4 Axes>"
      ]
     },
     "metadata": {
      "needs_background": "light"
     },
     "output_type": "display_data"
    }
   ],
   "source": [
    "t0 = min(min(df7.private_sndStamp), min(df8.private_sndStamp))\n",
    "tmax = max(max(df7.private_sndStamp), max(df8.private_sndStamp))-t0\n",
    "t1 = np.array(df7.private_sndStamp - t0)\n",
    "t2 = np.array(df8.private_sndStamp - t0)\n",
    "\n",
    "dt = 1 #1 second interval\n",
    "nt = int(np.ceil(tmax/dt))\n",
    "\n",
    "fig, ax = plt.subplots(2, 2, figsize = (11,8))\n",
    "plt.subplots_adjust(hspace=0.5)\n",
    "for i in range(2):\n",
    "    it = idxt[0][i]\n",
    "    iact = idxt[1][i] #index in the table starts with 1, not 0\n",
    "    idx1 = np.logical_and(t1>dt*it, t1<dt*(it+1))\n",
    "    idx2 = np.logical_and(t2>dt*it, t2<dt*(it+1))\n",
    "\n",
    "\n",
    "    ax[i][0].hist(myf7[idx1, iact, 3])\n",
    "    ax[i][0].hist(myf8[idx2, iact, 3])\n",
    "    ax[i][1].plot(pd.to_datetime(df7.private_sndStamp[idx1], unit='s'),myf7[idx1,iact,3],'o')\n",
    "    ax[i][1].plot(pd.to_datetime(df8.private_sndStamp[idx2], unit='s'),myf8[idx2,iact,3],'v')\n",
    "    ax[i][0].set_title('t=%.1f s, actID = %d'%(it*dt, actID[iact]))\n",
    "    plt.setp( ax[i][1].xaxis.get_majorticklabels(), rotation=45 )\n",
    "    #plt.xticks(rotation=45)"
   ]
  },
  {
   "cell_type": "markdown",
   "metadata": {},
   "source": [
    "### The timestamps are a mess"
   ]
  },
  {
   "cell_type": "code",
   "execution_count": 24,
   "metadata": {
    "scrolled": true
   },
   "outputs": [
    {
     "data": {
      "text/plain": [
       "0       2019-10-18 14:18:00.004705\n",
       "1       2019-10-18 14:18:00.024384\n",
       "2       2019-10-18 14:18:00.044452\n",
       "3       2019-10-18 14:18:00.064193\n",
       "4       2019-10-18 14:18:00.084325\n",
       "                   ...            \n",
       "11994   2019-10-18 14:21:59.904837\n",
       "11995   2019-10-18 14:21:59.924928\n",
       "11996   2019-10-18 14:21:59.944881\n",
       "11997   2019-10-18 14:21:59.964950\n",
       "11998   2019-10-18 14:21:59.984929\n",
       "Name: date_time, Length: 11999, dtype: datetime64[ns]"
      ]
     },
     "execution_count": 24,
     "metadata": {},
     "output_type": "execute_result"
    }
   ],
   "source": [
    "pd.to_datetime(df7.date_time, unit='s')"
   ]
  },
  {
   "cell_type": "code",
   "execution_count": 25,
   "metadata": {
    "scrolled": true
   },
   "outputs": [
    {
     "data": {
      "text/plain": [
       "0       2019-10-18 17:21:27.369934082\n",
       "1       2019-10-18 17:21:27.389576912\n",
       "2       2019-10-18 17:21:27.409674883\n",
       "3       2019-10-18 17:21:27.429579973\n",
       "4       2019-10-18 17:21:27.449705124\n",
       "                     ...             \n",
       "11994   2019-10-18 17:25:27.272797108\n",
       "11995   2019-10-18 17:25:27.292888165\n",
       "11996   2019-10-18 17:25:27.312814951\n",
       "11997   2019-10-18 17:25:27.332996130\n",
       "11998   2019-10-18 17:25:27.352918863\n",
       "Name: private_sndStamp, Length: 11999, dtype: datetime64[ns]"
      ]
     },
     "execution_count": 25,
     "metadata": {},
     "output_type": "execute_result"
    }
   ],
   "source": [
    "pd.to_datetime(df7.private_sndStamp, unit='s')"
   ]
  },
  {
   "cell_type": "code",
   "execution_count": 26,
   "metadata": {},
   "outputs": [
    {
     "data": {
      "text/plain": [
       "0       2019-10-18 17:18:00.004441023\n",
       "1       2019-10-18 17:18:00.024033070\n",
       "2       2019-10-18 17:18:00.044173956\n",
       "3       2019-10-18 17:18:00.064011812\n",
       "4       2019-10-18 17:18:00.084150076\n",
       "                     ...             \n",
       "11994   2019-10-18 17:21:59.904659986\n",
       "11995   2019-10-18 17:21:59.924766064\n",
       "11996   2019-10-18 17:21:59.944697142\n",
       "11997   2019-10-18 17:21:59.964792967\n",
       "11998   2019-10-18 17:21:59.984748125\n",
       "Name: private_rcvStamp, Length: 11999, dtype: datetime64[ns]"
      ]
     },
     "execution_count": 26,
     "metadata": {},
     "output_type": "execute_result"
    }
   ],
   "source": [
    "pd.to_datetime(df7.private_rcvStamp, unit='s')"
   ]
  },
  {
   "cell_type": "markdown",
   "metadata": {},
   "source": [
    "### It was OK before"
   ]
  },
  {
   "cell_type": "code",
   "execution_count": 27,
   "metadata": {},
   "outputs": [
    {
     "data": {
      "text/plain": [
       "0      2019-01-25 17:52:00.090884\n",
       "1      2019-01-25 17:52:00.182525\n",
       "2      2019-01-25 17:52:00.206124\n",
       "3      2019-01-25 17:52:00.239617\n",
       "4      2019-01-25 17:52:00.256434\n",
       "                  ...            \n",
       "9388   2019-01-25 17:55:59.860448\n",
       "9389   2019-01-25 17:55:59.877821\n",
       "9390   2019-01-25 17:55:59.893985\n",
       "9391   2019-01-25 17:55:59.910809\n",
       "9392   2019-01-25 17:55:59.995495\n",
       "Name: date_time, Length: 9393, dtype: datetime64[ns]"
      ]
     },
     "execution_count": 27,
     "metadata": {},
     "output_type": "execute_result"
    }
   ],
   "source": [
    "pd.to_datetime(df1.date_time, unit='s')"
   ]
  },
  {
   "cell_type": "code",
   "execution_count": 28,
   "metadata": {},
   "outputs": [
    {
     "data": {
      "text/plain": [
       "0      2019-01-25 17:52:07.872922182\n",
       "1      2019-01-25 17:52:07.952951908\n",
       "2      2019-01-25 17:52:07.992923021\n",
       "3      2019-01-25 17:52:08.013051987\n",
       "4      2019-01-25 17:52:08.033149004\n",
       "                    ...             \n",
       "9388   2019-01-25 17:56:07.636556149\n",
       "9389   2019-01-25 17:56:07.656608105\n",
       "9390   2019-01-25 17:56:07.676676035\n",
       "9391   2019-01-25 17:56:07.696470022\n",
       "9392   2019-01-25 17:56:07.776740074\n",
       "Name: private_sndStamp, Length: 9393, dtype: datetime64[ns]"
      ]
     },
     "execution_count": 28,
     "metadata": {},
     "output_type": "execute_result"
    }
   ],
   "source": [
    "pd.to_datetime(df1.private_sndStamp, unit='s')"
   ]
  },
  {
   "cell_type": "code",
   "execution_count": 29,
   "metadata": {},
   "outputs": [
    {
     "data": {
      "text/plain": [
       "0      2019-01-25 17:52:00.090185881\n",
       "1      2019-01-25 17:52:00.181816101\n",
       "2      2019-01-25 17:52:00.205483913\n",
       "3      2019-01-25 17:52:00.239012003\n",
       "4      2019-01-25 17:52:00.255791903\n",
       "                    ...             \n",
       "9388   2019-01-25 17:55:59.859778881\n",
       "9389   2019-01-25 17:55:59.876549006\n",
       "9390   2019-01-25 17:55:59.893306017\n",
       "9391   2019-01-25 17:55:59.910152912\n",
       "9392   2019-01-25 17:55:59.994790077\n",
       "Name: private_rcvStamp, Length: 9393, dtype: datetime64[ns]"
      ]
     },
     "execution_count": 29,
     "metadata": {},
     "output_type": "execute_result"
    }
   ],
   "source": [
    "pd.to_datetime(df1.private_rcvStamp, unit='s')"
   ]
  },
  {
   "cell_type": "markdown",
   "metadata": {},
   "source": [
    "### So what happended in those 4 minutes?\n",
    "#### play with ts and te a bit, one can see that there is a bump test at ~12s - 18s"
   ]
  },
  {
   "cell_type": "code",
   "execution_count": 43,
   "metadata": {
    "scrolled": false
   },
   "outputs": [
    {
     "data": {
      "text/plain": [
       "<matplotlib.legend.Legend at 0xb1d7e1d90>"
      ]
     },
     "execution_count": 43,
     "metadata": {},
     "output_type": "execute_result"
    },
    {
     "data": {
      "image/png": "[encoded data removed]",
      "text/plain": [
       "<Figure size 1080x720 with 4 Axes>"
      ]
     },
     "metadata": {
      "needs_background": "light"
     },
     "output_type": "display_data"
    }
   ],
   "source": [
    "fig, ax = plt.subplots(2, 2, figsize = (15,10))\n",
    "plt.subplots_adjust(hspace=0.5)\n",
    "iact = idxt[1][0] #look at the same actuator as before\n",
    "\n",
    "ts = 0\n",
    "te = ts+240\n",
    "idx1 = np.logical_and(t1>ts, t1<te)\n",
    "idx2 = np.logical_and(t2>ts, t2<te)\n",
    "ax[0][0].plot(pd.to_datetime(df7.private_sndStamp[idx1], unit='s'),myf7[idx1,iact,3],'ro',label='measured')\n",
    "ax[0][0].plot(pd.to_datetime(df8.private_sndStamp[idx2], unit='s'),myf8[idx2,iact,3],'vb',label='applied')\n",
    "plt.setp( ax[0][0].xaxis.get_majorticklabels(), rotation=45 );\n",
    "ax[0][0].set_title('actID = %d, 4 minutes'%(actID[iact]))\n",
    "ax[0][0].legend()\n",
    "\n",
    "ts = 0\n",
    "te = ts+25\n",
    "idx1 = np.logical_and(t1>ts, t1<te)\n",
    "idx2 = np.logical_and(t2>ts, t2<te)\n",
    "ax[0][1].plot(pd.to_datetime(df7.private_sndStamp[idx1], unit='s'),myf7[idx1,iact,3],'ro',label='measured')\n",
    "ax[0][1].plot(pd.to_datetime(df8.private_sndStamp[idx2], unit='s'),myf8[idx2,iact,3],'vb',label='applied')\n",
    "plt.setp( ax[0][1].xaxis.get_majorticklabels(), rotation=45 );\n",
    "ax[0][1].set_title('actID = %d, 25 seconds'%(actID[iact]))\n",
    "ax[0][1].legend()\n",
    "\n",
    "ts = 0\n",
    "te = ts+10\n",
    "idx1 = np.logical_and(t1>ts, t1<te)\n",
    "idx2 = np.logical_and(t2>ts, t2<te)\n",
    "ax[1][0].plot(pd.to_datetime(df7.private_sndStamp[idx1], unit='s'),myf7[idx1,iact,3],'ro',label='measured')\n",
    "ax[1][0].plot(pd.to_datetime(df8.private_sndStamp[idx2], unit='s'),myf8[idx2,iact,3],'vb',label='applied')\n",
    "plt.setp( ax[1][0].xaxis.get_majorticklabels(), rotation=45 );\n",
    "ax[1][0].set_title('actID = %d, 10 seconds'%(actID[iact]))\n",
    "ax[1][0].legend()\n",
    "\n",
    "ts = 25\n",
    "te = ts+240\n",
    "idx1 = np.logical_and(t1>ts, t1<te)\n",
    "idx2 = np.logical_and(t2>ts, t2<te)\n",
    "ax[1][1].plot(pd.to_datetime(df7.private_sndStamp[idx1], unit='s'),myf7[idx1,iact,3],'ro',label='measured')\n",
    "ax[1][1].plot(pd.to_datetime(df8.private_sndStamp[idx2], unit='s'),myf8[idx2,iact,3],'vb',label='applied')\n",
    "plt.setp( ax[1][1].xaxis.get_majorticklabels(), rotation=45 );\n",
    "ax[1][1].set_title('actID = %d, after bump test'%(actID[iact]))\n",
    "ax[1][1].legend()"
   ]
  },
  {
   "cell_type": "markdown",
   "metadata": {},
   "source": [
    "### Doug: Possible disturbances include:\n",
    "Normal testing\n",
    "Fluctuations in air pressure.\n",
    "Someone working on the mirror\n",
    "Seismic events.\n",
    "Etc\n",
    "\n",
    "### But at least the applied forces should be the total (according to Mirror Lab testing), \n",
    "### so any FB force should be included there already?\n",
    "### Unfortunately the below is empty."
   ]
  },
  {
   "cell_type": "code",
   "execution_count": 46,
   "metadata": {
    "scrolled": false
   },
   "outputs": [
    {
     "data": {
      "text/html": [
       "<div>\n",
       "<style scoped>\n",
       "    .dataframe tbody tr th:only-of-type {\n",
       "        vertical-align: middle;\n",
       "    }\n",
       "\n",
       "    .dataframe tbody tr th {\n",
       "        vertical-align: top;\n",
       "    }\n",
       "\n",
       "    .dataframe thead th {\n",
       "        text-align: right;\n",
       "    }\n",
       "</style>\n",
       "<table border=\"1\" class=\"dataframe\">\n",
       "  <thead>\n",
       "    <tr style=\"text-align: right;\">\n",
       "      <th></th>\n",
       "      <th>Unnamed: 0</th>\n",
       "      <th>date_time</th>\n",
       "      <th>private_revCode</th>\n",
       "      <th>private_sndStamp</th>\n",
       "      <th>private_rcvStamp</th>\n",
       "      <th>private_seqNum</th>\n",
       "      <th>private_origin</th>\n",
       "      <th>private_host</th>\n",
       "      <th>Timestamp</th>\n",
       "      <th>XForces_1</th>\n",
       "      <th>...</th>\n",
       "      <th>YForces</th>\n",
       "      <th>ZForces</th>\n",
       "      <th>Fx</th>\n",
       "      <th>Fy</th>\n",
       "      <th>Fz</th>\n",
       "      <th>Mx</th>\n",
       "      <th>My</th>\n",
       "      <th>Mz</th>\n",
       "      <th>ForceMagnitude</th>\n",
       "      <th>priority</th>\n",
       "    </tr>\n",
       "  </thead>\n",
       "  <tbody>\n",
       "  </tbody>\n",
       "</table>\n",
       "<p>0 rows × 31 columns</p>\n",
       "</div>"
      ],
      "text/plain": [
       "Empty DataFrame\n",
       "Columns: [Unnamed: 0, date_time, private_revCode, private_sndStamp, private_rcvStamp, private_seqNum, private_origin, private_host, Timestamp, XForces_1, XForces_2, XForces_3, XForces_4, XForces_5, XForces_6, XForces_7, XForces_8, XForces_9, XForces_10, XForces_11, XForces_12, YForces, ZForces, Fx, Fy, Fz, Mx, My, Mz, ForceMagnitude, priority]\n",
       "Index: []\n",
       "\n",
       "[0 rows x 31 columns]"
      ]
     },
     "execution_count": 46,
     "metadata": {},
     "output_type": "execute_result"
    }
   ],
   "source": [
    "df8b"
   ]
  },
  {
   "cell_type": "markdown",
   "metadata": {},
   "source": [
    "#### What other information could we look at to know more about what happended?"
   ]
  },
  {
   "cell_type": "code",
   "execution_count": 49,
   "metadata": {},
   "outputs": [
    {
     "name": "stdout",
     "output_type": "stream",
     "text": [
      "-------Reading from efdData/table_list3.txt-------------\n",
      "m1m3_AccelerometerData\n",
      "m1m3_ForceActuatorData\n",
      "m1m3_GyroData\n",
      "m1m3_HardpointActuatorData\n",
      "m1m3_HardpointMonitorData\n",
      "m1m3_IMSData\n",
      "m1m3_InclinometerData\n",
      "m1m3_OuterLoopData\n",
      "m1m3_PIDData\n",
      "m1m3_PowerSupplyData\n",
      "m1m3_commandLog\n",
      "m1m3_command_AbortProfile\n",
      "m1m3_command_AbortRaiseM1M3\n",
      "m1m3_command_ApplyAberrationForces\n",
      "m1m3_command_ApplyAberrationForcesByBendingModes\n",
      "m1m3_command_ApplyActiveOpticForces\n",
      "m1m3_command_ApplyActiveOpticForcesByBendingModes\n",
      "m1m3_command_ApplyOffsetForces\n",
      "m1m3_command_ApplyOffsetForcesByMirrorForce\n",
      "m1m3_command_ClearAberrationForces\n",
      "m1m3_command_ClearActiveOpticForces\n",
      "m1m3_command_ClearOffsetForces\n",
      "m1m3_command_Disable\n",
      "m1m3_command_DisableHardpointChase\n",
      "m1m3_command_DisableHardpointCorrections\n",
      "m1m3_command_Enable\n",
      "m1m3_command_EnableHardpointChase\n",
      "m1m3_command_EnableHardpointCorrections\n",
      "m1m3_command_EnterEngineering\n",
      "m1m3_command_ExitEngineering\n",
      "m1m3_command_LowerM1M3\n",
      "m1m3_command_ModbusTransmit\n",
      "m1m3_command_MoveHardpointActuators\n",
      "m1m3_command_PositionM1M3\n",
      "m1m3_command_ProgramILC\n",
      "m1m3_command_RaiseM1M3\n",
      "m1m3_command_ResetPID\n",
      "m1m3_command_SetThermalSetpoint\n",
      "m1m3_command_Shutdown\n",
      "m1m3_command_Standby\n",
      "m1m3_command_Start\n",
      "m1m3_command_StopHardpointMotion\n",
      "m1m3_command_TestAir\n",
      "m1m3_command_TestForceActuator\n",
      "m1m3_command_TestHardpoint\n",
      "m1m3_command_TranslateM1M3\n",
      "m1m3_command_TurnAirOff\n",
      "m1m3_command_TurnAirOn\n",
      "m1m3_command_TurnLightsOff\n",
      "m1m3_command_TurnLightsOn\n",
      "m1m3_command_TurnPowerOff\n",
      "m1m3_command_TurnPowerOn\n",
      "m1m3_command_UpdatePID\n",
      "m1m3_logeventLFO\n",
      "m1m3_logevent_AccelerometerWarning\n",
      "m1m3_logevent_AirSupplyStatus\n",
      "m1m3_logevent_AirSupplyWarning\n",
      "m1m3_logevent_AppliedAberrationForces\n",
      "m1m3_logevent_AppliedAccelerationForces\n",
      "m1m3_logevent_AppliedActiveOpticForces\n",
      "m1m3_logevent_AppliedAzimuthForces\n",
      "m1m3_logevent_AppliedBalanceForces\n",
      "m1m3_logevent_AppliedCylinderForces\n",
      "m1m3_logevent_AppliedElevationForces\n",
      "m1m3_logevent_AppliedForces\n",
      "m1m3_logevent_AppliedOffsetForces\n",
      "m1m3_logevent_AppliedSettingsMatchStart\n",
      "m1m3_logevent_AppliedStaticForces\n",
      "m1m3_logevent_AppliedThermalForces\n",
      "m1m3_logevent_AppliedVelocityForces\n",
      "m1m3_logevent_CellLightStatus\n",
      "m1m3_logevent_CellLightWarning\n",
      "m1m3_logevent_CommandRejectionWarning\n",
      "m1m3_logevent_DetailedState\n",
      "m1m3_logevent_DisplacementSensorWarning\n",
      "m1m3_logevent_ErrorCode\n",
      "m1m3_logevent_ForceActuatorForceWarning\n",
      "m1m3_logevent_ForceActuatorInfo\n",
      "m1m3_logevent_ForceActuatorState\n",
      "m1m3_logevent_ForceActuatorWarning\n",
      "m1m3_logevent_ForceSetpointWarning\n",
      "m1m3_logevent_GyroWarning\n",
      "m1m3_logevent_HardpointActuatorInfo\n",
      "m1m3_logevent_HardpointActuatorState\n",
      "m1m3_logevent_HardpointActuatorWarning\n",
      "m1m3_logevent_HardpointMonitorInfo\n",
      "m1m3_logevent_HardpointMonitorState\n",
      "m1m3_logevent_HardpointMonitorWarning\n",
      "m1m3_logevent_ILCWarning\n",
      "m1m3_logevent_InclinometerSensorWarning\n",
      "m1m3_logevent_InterlockStatus\n",
      "m1m3_logevent_InterlockWarning\n",
      "m1m3_logevent_ModbusResponse\n",
      "m1m3_logevent_PIDInfo\n",
      "m1m3_logevent_PowerStatus\n",
      "m1m3_logevent_PowerSupplyStatus\n",
      "m1m3_logevent_PowerWarning\n",
      "m1m3_logevent_RejectedAberrationForces\n",
      "m1m3_logevent_RejectedAccelerationForces\n",
      "m1m3_logevent_RejectedActiveOpticForces\n",
      "m1m3_logevent_RejectedAzimuthForces\n",
      "m1m3_logevent_RejectedBalanceForces\n",
      "m1m3_logevent_RejectedCylinderForces\n",
      "m1m3_logevent_RejectedElevationForces\n",
      "m1m3_logevent_RejectedForces\n",
      "m1m3_logevent_RejectedOffsetForces\n",
      "m1m3_logevent_RejectedStaticForces\n",
      "m1m3_logevent_RejectedThermalForces\n",
      "m1m3_logevent_RejectedVelocityForces\n",
      "m1m3_logevent_SettingVersions\n",
      "m1m3_logevent_SettingsApplied\n",
      "m1m3_logevent_SummaryState\n"
     ]
    }
   ],
   "source": [
    "filename = 'efdData/table_list3.txt'\n",
    "if not os.path.isfile(filename):\n",
    "    fid = open(filename, 'w')\n",
    "    tables = pd.read_sql_query('show tables', engine1)\n",
    "    for table in tables['Tables_in_EFD']:\n",
    "        if table.startswith('m1m3'):\n",
    "            print(table)\n",
    "            fid.write('%s\\n'%table)\n",
    "    fid.close()\n",
    "else:\n",
    "    print('-------Reading from %s-------------'%filename)\n",
    "    fid = open(filename, 'r')\n",
    "    for line in fid:\n",
    "        print(line.strip())\n",
    "    fid.close()\n",
    "#df7p = get_dataframe_EFD(myts, table_name = 'M1M3_forceActuatorPressure')"
   ]
  },
  {
   "cell_type": "code",
   "execution_count": 50,
   "metadata": {},
   "outputs": [
    {
     "name": "stdout",
     "output_type": "stream",
     "text": [
      "-------Reading from efdData/AirSupplyStatus_191018_1420.csv-------------\n",
      "-------Reading from efdData/AirSupplyWarning_191018_1420.csv-------------\n"
     ]
    }
   ],
   "source": [
    "df7as = get_dataframe_EFD(myts, 'm1m3_logevent_AirSupplyStatus')\n",
    "df7aw = get_dataframe_EFD(myts, 'm1m3_logevent_AirSupplyWarning')"
   ]
  },
  {
   "cell_type": "code",
   "execution_count": 51,
   "metadata": {},
   "outputs": [
    {
     "data": {
      "text/html": [
       "<div>\n",
       "<style scoped>\n",
       "    .dataframe tbody tr th:only-of-type {\n",
       "        vertical-align: middle;\n",
       "    }\n",
       "\n",
       "    .dataframe tbody tr th {\n",
       "        vertical-align: top;\n",
       "    }\n",
       "\n",
       "    .dataframe thead th {\n",
       "        text-align: right;\n",
       "    }\n",
       "</style>\n",
       "<table border=\"1\" class=\"dataframe\">\n",
       "  <thead>\n",
       "    <tr style=\"text-align: right;\">\n",
       "      <th></th>\n",
       "      <th>Unnamed: 0</th>\n",
       "      <th>date_time</th>\n",
       "      <th>private_revCode</th>\n",
       "      <th>private_sndStamp</th>\n",
       "      <th>private_rcvStamp</th>\n",
       "      <th>private_seqNum</th>\n",
       "      <th>private_origin</th>\n",
       "      <th>private_host</th>\n",
       "      <th>Timestamp</th>\n",
       "      <th>AnyWarning</th>\n",
       "      <th>CommandOutputMismatch</th>\n",
       "      <th>CommandSensorMismatch</th>\n",
       "      <th>priority</th>\n",
       "    </tr>\n",
       "  </thead>\n",
       "  <tbody>\n",
       "  </tbody>\n",
       "</table>\n",
       "</div>"
      ],
      "text/plain": [
       "Empty DataFrame\n",
       "Columns: [Unnamed: 0, date_time, private_revCode, private_sndStamp, private_rcvStamp, private_seqNum, private_origin, private_host, Timestamp, AnyWarning, CommandOutputMismatch, CommandSensorMismatch, priority]\n",
       "Index: []"
      ]
     },
     "execution_count": 51,
     "metadata": {},
     "output_type": "execute_result"
    }
   ],
   "source": [
    "df7aw"
   ]
  },
  {
   "cell_type": "code",
   "execution_count": 52,
   "metadata": {},
   "outputs": [
    {
     "data": {
      "text/html": [
       "<div>\n",
       "<style scoped>\n",
       "    .dataframe tbody tr th:only-of-type {\n",
       "        vertical-align: middle;\n",
       "    }\n",
       "\n",
       "    .dataframe tbody tr th {\n",
       "        vertical-align: top;\n",
       "    }\n",
       "\n",
       "    .dataframe thead th {\n",
       "        text-align: right;\n",
       "    }\n",
       "</style>\n",
       "<table border=\"1\" class=\"dataframe\">\n",
       "  <thead>\n",
       "    <tr style=\"text-align: right;\">\n",
       "      <th></th>\n",
       "      <th>Unnamed: 0</th>\n",
       "      <th>date_time</th>\n",
       "      <th>private_revCode</th>\n",
       "      <th>private_sndStamp</th>\n",
       "      <th>private_rcvStamp</th>\n",
       "      <th>private_seqNum</th>\n",
       "      <th>private_origin</th>\n",
       "      <th>private_host</th>\n",
       "      <th>Timestamp</th>\n",
       "      <th>AirCommandedOn</th>\n",
       "      <th>AirCommandOutputOn</th>\n",
       "      <th>AirValveOpened</th>\n",
       "      <th>AirValveClosed</th>\n",
       "      <th>priority</th>\n",
       "    </tr>\n",
       "  </thead>\n",
       "  <tbody>\n",
       "  </tbody>\n",
       "</table>\n",
       "</div>"
      ],
      "text/plain": [
       "Empty DataFrame\n",
       "Columns: [Unnamed: 0, date_time, private_revCode, private_sndStamp, private_rcvStamp, private_seqNum, private_origin, private_host, Timestamp, AirCommandedOn, AirCommandOutputOn, AirValveOpened, AirValveClosed, priority]\n",
       "Index: []"
      ]
     },
     "execution_count": 52,
     "metadata": {},
     "output_type": "execute_result"
    }
   ],
   "source": [
    "df7as"
   ]
  }
 ],
 "metadata": {
  "kernelspec": {
   "display_name": "Python 3",
   "language": "python",
   "name": "python3"
  },
  "language_info": {
   "codemirror_mode": {
    "name": "ipython",
    "version": 3
   },
   "file_extension": ".py",
   "mimetype": "text/x-python",
   "name": "python",
   "nbconvert_exporter": "python",
   "pygments_lexer": "ipython3",
   "version": "3.7.4"
  }
 },
 "nbformat": 4,
 "nbformat_minor": 2
}
