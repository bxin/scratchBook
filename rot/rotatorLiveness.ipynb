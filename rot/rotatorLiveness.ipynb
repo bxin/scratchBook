{
 "cells": [
  {
   "cell_type": "code",
   "execution_count": 8,
   "metadata": {},
   "outputs": [],
   "source": [
    "import numpy as np\n",
    "from astropy.time import Time\n",
    "from datetime import timedelta, datetime\n",
    "from lsst_efd_client import EfdClient\n",
    "import matplotlib.pyplot as plt\n",
    "\n",
    "import pandas as pd"
   ]
  },
  {
   "cell_type": "code",
   "execution_count": 2,
   "metadata": {},
   "outputs": [],
   "source": [
    "client = EfdClient('summit_efd')\n",
    "csc_index = 1\n",
    "\n",
    "start = Time('2020-11-05T13:55:00') #this is UTC\n",
    "#end = start+timedelta(days=1)\n",
    "#end = Time(datetime.now())\n",
    "end = Time('2020-11-05T14:33:30') #this is UTC\n",
    "#start = end - timedelta(seconds=5)"
   ]
  },
  {
   "cell_type": "code",
   "execution_count": 53,
   "metadata": {},
   "outputs": [],
   "source": [
    "df = await client.select_time_series('lsst.sal.Rotator.Application', '*', \n",
    "                                     (start-timedelta(seconds=37)).tai, (end-timedelta(seconds=37)).tai, csc_index)\n",
    "dfe = await client.select_time_series('lsst.sal.Rotator.logevent_controllerState', '*', \n",
    "                                     (start-timedelta(seconds=37)).tai, (end-timedelta(seconds=37)).tai, csc_index)\n",
    "dfi = await client.select_time_series('lsst.sal.Rotator.logevent_inPosition', '*', \n",
    "                                     (start-timedelta(seconds=37)).tai, (end-timedelta(seconds=37)).tai, csc_index)"
   ]
  },
  {
   "cell_type": "code",
   "execution_count": 54,
   "metadata": {},
   "outputs": [
    {
     "data": {
      "text/html": [
       "<div>\n",
       "<style scoped>\n",
       "    .dataframe tbody tr th:only-of-type {\n",
       "        vertical-align: middle;\n",
       "    }\n",
       "\n",
       "    .dataframe tbody tr th {\n",
       "        vertical-align: top;\n",
       "    }\n",
       "\n",
       "    .dataframe thead th {\n",
       "        text-align: right;\n",
       "    }\n",
       "</style>\n",
       "<table border=\"1\" class=\"dataframe\">\n",
       "  <thead>\n",
       "    <tr style=\"text-align: right;\">\n",
       "      <th></th>\n",
       "      <th>inPosition</th>\n",
       "      <th>priority</th>\n",
       "      <th>private_host</th>\n",
       "      <th>private_kafkaStamp</th>\n",
       "      <th>private_origin</th>\n",
       "      <th>private_rcvStamp</th>\n",
       "      <th>private_revCode</th>\n",
       "      <th>private_seqNum</th>\n",
       "      <th>private_sndStamp</th>\n",
       "    </tr>\n",
       "  </thead>\n",
       "  <tbody>\n",
       "    <tr>\n",
       "      <th>2020-11-05 13:55:13.149000+00:00</th>\n",
       "      <td>True</td>\n",
       "      <td>0</td>\n",
       "      <td>-1947880953</td>\n",
       "      <td>1.604585e+09</td>\n",
       "      <td>38</td>\n",
       "      <td>1.604585e+09</td>\n",
       "      <td>c25b8c34</td>\n",
       "      <td>16</td>\n",
       "      <td>1.604585e+09</td>\n",
       "    </tr>\n",
       "    <tr>\n",
       "      <th>2020-11-05 13:55:14.147000+00:00</th>\n",
       "      <td>False</td>\n",
       "      <td>0</td>\n",
       "      <td>-1947880953</td>\n",
       "      <td>1.604585e+09</td>\n",
       "      <td>38</td>\n",
       "      <td>1.604585e+09</td>\n",
       "      <td>c25b8c34</td>\n",
       "      <td>17</td>\n",
       "      <td>1.604585e+09</td>\n",
       "    </tr>\n",
       "    <tr>\n",
       "      <th>2020-11-05 13:55:45.151000+00:00</th>\n",
       "      <td>True</td>\n",
       "      <td>0</td>\n",
       "      <td>-1947880953</td>\n",
       "      <td>1.604585e+09</td>\n",
       "      <td>38</td>\n",
       "      <td>1.604585e+09</td>\n",
       "      <td>c25b8c34</td>\n",
       "      <td>18</td>\n",
       "      <td>1.604585e+09</td>\n",
       "    </tr>\n",
       "    <tr>\n",
       "      <th>2020-11-05 13:55:46.146000+00:00</th>\n",
       "      <td>False</td>\n",
       "      <td>0</td>\n",
       "      <td>-1947880953</td>\n",
       "      <td>1.604585e+09</td>\n",
       "      <td>38</td>\n",
       "      <td>1.604585e+09</td>\n",
       "      <td>c25b8c34</td>\n",
       "      <td>19</td>\n",
       "      <td>1.604585e+09</td>\n",
       "    </tr>\n",
       "    <tr>\n",
       "      <th>2020-11-05 13:56:01.348000+00:00</th>\n",
       "      <td>True</td>\n",
       "      <td>0</td>\n",
       "      <td>-1947880953</td>\n",
       "      <td>1.604585e+09</td>\n",
       "      <td>38</td>\n",
       "      <td>1.604585e+09</td>\n",
       "      <td>c25b8c34</td>\n",
       "      <td>20</td>\n",
       "      <td>1.604585e+09</td>\n",
       "    </tr>\n",
       "    <tr>\n",
       "      <th>...</th>\n",
       "      <td>...</td>\n",
       "      <td>...</td>\n",
       "      <td>...</td>\n",
       "      <td>...</td>\n",
       "      <td>...</td>\n",
       "      <td>...</td>\n",
       "      <td>...</td>\n",
       "      <td>...</td>\n",
       "      <td>...</td>\n",
       "    </tr>\n",
       "    <tr>\n",
       "      <th>2020-11-05 14:33:26.057000+00:00</th>\n",
       "      <td>False</td>\n",
       "      <td>0</td>\n",
       "      <td>-1947880953</td>\n",
       "      <td>1.604587e+09</td>\n",
       "      <td>38</td>\n",
       "      <td>1.604587e+09</td>\n",
       "      <td>c25b8c34</td>\n",
       "      <td>55</td>\n",
       "      <td>1.604587e+09</td>\n",
       "    </tr>\n",
       "    <tr>\n",
       "      <th>2020-11-05 14:33:26.205000+00:00</th>\n",
       "      <td>True</td>\n",
       "      <td>0</td>\n",
       "      <td>-1947880953</td>\n",
       "      <td>1.604587e+09</td>\n",
       "      <td>38</td>\n",
       "      <td>1.604587e+09</td>\n",
       "      <td>c25b8c34</td>\n",
       "      <td>56</td>\n",
       "      <td>1.604587e+09</td>\n",
       "    </tr>\n",
       "    <tr>\n",
       "      <th>2020-11-05 14:33:26.306000+00:00</th>\n",
       "      <td>False</td>\n",
       "      <td>0</td>\n",
       "      <td>-1947880953</td>\n",
       "      <td>1.604587e+09</td>\n",
       "      <td>38</td>\n",
       "      <td>1.604587e+09</td>\n",
       "      <td>c25b8c34</td>\n",
       "      <td>57</td>\n",
       "      <td>1.604587e+09</td>\n",
       "    </tr>\n",
       "    <tr>\n",
       "      <th>2020-11-05 14:33:26.704000+00:00</th>\n",
       "      <td>True</td>\n",
       "      <td>0</td>\n",
       "      <td>-1947880953</td>\n",
       "      <td>1.604587e+09</td>\n",
       "      <td>38</td>\n",
       "      <td>1.604587e+09</td>\n",
       "      <td>c25b8c34</td>\n",
       "      <td>58</td>\n",
       "      <td>1.604587e+09</td>\n",
       "    </tr>\n",
       "    <tr>\n",
       "      <th>2020-11-05 14:33:26.758000+00:00</th>\n",
       "      <td>False</td>\n",
       "      <td>0</td>\n",
       "      <td>-1947880953</td>\n",
       "      <td>1.604587e+09</td>\n",
       "      <td>38</td>\n",
       "      <td>1.604587e+09</td>\n",
       "      <td>c25b8c34</td>\n",
       "      <td>59</td>\n",
       "      <td>1.604587e+09</td>\n",
       "    </tr>\n",
       "  </tbody>\n",
       "</table>\n",
       "<p>223 rows × 9 columns</p>\n",
       "</div>"
      ],
      "text/plain": [
       "                                  inPosition  priority  private_host  \\\n",
       "2020-11-05 13:55:13.149000+00:00        True         0   -1947880953   \n",
       "2020-11-05 13:55:14.147000+00:00       False         0   -1947880953   \n",
       "2020-11-05 13:55:45.151000+00:00        True         0   -1947880953   \n",
       "2020-11-05 13:55:46.146000+00:00       False         0   -1947880953   \n",
       "2020-11-05 13:56:01.348000+00:00        True         0   -1947880953   \n",
       "...                                      ...       ...           ...   \n",
       "2020-11-05 14:33:26.057000+00:00       False         0   -1947880953   \n",
       "2020-11-05 14:33:26.205000+00:00        True         0   -1947880953   \n",
       "2020-11-05 14:33:26.306000+00:00       False         0   -1947880953   \n",
       "2020-11-05 14:33:26.704000+00:00        True         0   -1947880953   \n",
       "2020-11-05 14:33:26.758000+00:00       False         0   -1947880953   \n",
       "\n",
       "                                  private_kafkaStamp  private_origin  \\\n",
       "2020-11-05 13:55:13.149000+00:00        1.604585e+09              38   \n",
       "2020-11-05 13:55:14.147000+00:00        1.604585e+09              38   \n",
       "2020-11-05 13:55:45.151000+00:00        1.604585e+09              38   \n",
       "2020-11-05 13:55:46.146000+00:00        1.604585e+09              38   \n",
       "2020-11-05 13:56:01.348000+00:00        1.604585e+09              38   \n",
       "...                                              ...             ...   \n",
       "2020-11-05 14:33:26.057000+00:00        1.604587e+09              38   \n",
       "2020-11-05 14:33:26.205000+00:00        1.604587e+09              38   \n",
       "2020-11-05 14:33:26.306000+00:00        1.604587e+09              38   \n",
       "2020-11-05 14:33:26.704000+00:00        1.604587e+09              38   \n",
       "2020-11-05 14:33:26.758000+00:00        1.604587e+09              38   \n",
       "\n",
       "                                  private_rcvStamp private_revCode  \\\n",
       "2020-11-05 13:55:13.149000+00:00      1.604585e+09        c25b8c34   \n",
       "2020-11-05 13:55:14.147000+00:00      1.604585e+09        c25b8c34   \n",
       "2020-11-05 13:55:45.151000+00:00      1.604585e+09        c25b8c34   \n",
       "2020-11-05 13:55:46.146000+00:00      1.604585e+09        c25b8c34   \n",
       "2020-11-05 13:56:01.348000+00:00      1.604585e+09        c25b8c34   \n",
       "...                                            ...             ...   \n",
       "2020-11-05 14:33:26.057000+00:00      1.604587e+09        c25b8c34   \n",
       "2020-11-05 14:33:26.205000+00:00      1.604587e+09        c25b8c34   \n",
       "2020-11-05 14:33:26.306000+00:00      1.604587e+09        c25b8c34   \n",
       "2020-11-05 14:33:26.704000+00:00      1.604587e+09        c25b8c34   \n",
       "2020-11-05 14:33:26.758000+00:00      1.604587e+09        c25b8c34   \n",
       "\n",
       "                                  private_seqNum  private_sndStamp  \n",
       "2020-11-05 13:55:13.149000+00:00              16      1.604585e+09  \n",
       "2020-11-05 13:55:14.147000+00:00              17      1.604585e+09  \n",
       "2020-11-05 13:55:45.151000+00:00              18      1.604585e+09  \n",
       "2020-11-05 13:55:46.146000+00:00              19      1.604585e+09  \n",
       "2020-11-05 13:56:01.348000+00:00              20      1.604585e+09  \n",
       "...                                          ...               ...  \n",
       "2020-11-05 14:33:26.057000+00:00              55      1.604587e+09  \n",
       "2020-11-05 14:33:26.205000+00:00              56      1.604587e+09  \n",
       "2020-11-05 14:33:26.306000+00:00              57      1.604587e+09  \n",
       "2020-11-05 14:33:26.704000+00:00              58      1.604587e+09  \n",
       "2020-11-05 14:33:26.758000+00:00              59      1.604587e+09  \n",
       "\n",
       "[223 rows x 9 columns]"
      ]
     },
     "execution_count": 54,
     "metadata": {},
     "output_type": "execute_result"
    }
   ],
   "source": [
    "dfi"
   ]
  },
  {
   "cell_type": "code",
   "execution_count": 55,
   "metadata": {},
   "outputs": [
    {
     "data": {
      "text/plain": [
       "[<matplotlib.lines.Line2D at 0x7fc52293a710>]"
      ]
     },
     "execution_count": 55,
     "metadata": {},
     "output_type": "execute_result"
    },
    {
     "data": {
      "image/png": "[encoded data removed]",
      "text/plain": [
       "<Figure size 1080x576 with 1 Axes>"
      ]
     },
     "metadata": {
      "needs_background": "light"
     },
     "output_type": "display_data"
    }
   ],
   "source": [
    "fig, ax = plt.subplots(figsize=(15,8))\n",
    "plt.plot(pd.to_datetime(df.private_sndStamp, unit='s'), df['Position'])\n",
    "plt.plot(pd.to_datetime(dfe.private_sndStamp, unit='s'), dfe['enabledSubstate'],'ro')\n",
    "plt.plot(pd.to_datetime(dfi.private_sndStamp, unit='s'), dfi['inPosition'],'mx')"
   ]
  },
  {
   "cell_type": "code",
   "execution_count": 57,
   "metadata": {},
   "outputs": [],
   "source": [
    "start1 = datetime.strptime('2020-11-05T13:55:00', '%Y-%m-%dT%H:%M:%S')\n",
    "end1 = datetime.strptime('2020-11-05T13:56:20', '%Y-%m-%dT%H:%M:%S')\n",
    "idx = np.logical_and(pd.to_datetime(df.private_sndStamp, unit='s') > start1, pd.to_datetime(df.private_sndStamp, unit='s') < end1)\n",
    "df1 = df[idx]\n",
    "idx = np.logical_and(pd.to_datetime(dfe.private_sndStamp, unit='s') > start1, pd.to_datetime(dfe.private_sndStamp, unit='s') < end1)\n",
    "dfe1 = dfe[idx]\n",
    "idx = np.logical_and(pd.to_datetime(dfi.private_sndStamp, unit='s') > start1, pd.to_datetime(dfi.private_sndStamp, unit='s') < end1)\n",
    "dfi1 = dfi[idx]"
   ]
  },
  {
   "cell_type": "code",
   "execution_count": 63,
   "metadata": {},
   "outputs": [
    {
     "data": {
      "image/png": "[encoded data removed]",
      "text/plain": [
       "<Figure size 1080x576 with 1 Axes>"
      ]
     },
     "metadata": {
      "needs_background": "light"
     },
     "output_type": "display_data"
    }
   ],
   "source": [
    "fig, ax = plt.subplots(figsize=(15,8))\n",
    "plt.plot(pd.to_datetime(df1.private_sndStamp, unit='s'), df1['Position'], label='rotator angle')\n",
    "plt.plot(pd.to_datetime(dfe1.private_sndStamp, unit='s'), dfe1['enabledSubstate'],'ro', label='enabledSubstate')\n",
    "plt.plot(pd.to_datetime(dfi1.private_sndStamp, unit='s'), dfi1['inPosition'],'mx', label='inPosition')\n",
    "plt.legend(prop={'size': 16})\n",
    "plt.xlabel('UTC 11/05/2020')\n",
    "plt.grid();"
   ]
  },
  {
   "cell_type": "code",
   "execution_count": 47,
   "metadata": {},
   "outputs": [
    {
     "ename": "NameError",
     "evalue": "name 'dfe1' is not defined",
     "output_type": "error",
     "traceback": [
      "\u001b[0;31m---------------------------------------------------------------------------\u001b[0m",
      "\u001b[0;31mNameError\u001b[0m                                 Traceback (most recent call last)",
      "\u001b[0;32m<ipython-input-47-370ca114d07c>\u001b[0m in \u001b[0;36m<module>\u001b[0;34m\u001b[0m\n\u001b[0;32m----> 1\u001b[0;31m \u001b[0mdfe1\u001b[0m\u001b[0;34m\u001b[0m\u001b[0;34m\u001b[0m\u001b[0m\n\u001b[0m",
      "\u001b[0;31mNameError\u001b[0m: name 'dfe1' is not defined"
     ]
    }
   ],
   "source": [
    "dfe1"
   ]
  },
  {
   "cell_type": "code",
   "execution_count": 15,
   "metadata": {},
   "outputs": [
    {
     "data": {
      "text/plain": [
       "[<matplotlib.lines.Line2D at 0x7fc51839efd0>]"
      ]
     },
     "execution_count": 15,
     "metadata": {},
     "output_type": "execute_result"
    },
    {
     "data": {
      "image/png": "[encoded data removed]",
      "text/plain": [
       "<Figure size 1080x576 with 1 Axes>"
      ]
     },
     "metadata": {
      "needs_background": "light"
     },
     "output_type": "display_data"
    }
   ],
   "source": [
    "start2 = Time('2020-11-05T14:05:00') #this is UTC\n",
    "end2 = Time('2020-11-05T14:33:30') #this is UTC\n",
    "df2 = await client.select_time_series('lsst.sal.Rotator.Application', '*', \n",
    "                                     (start2-timedelta(seconds=37)).tai, (end2-timedelta(seconds=37)).tai, csc_index)\n",
    "fig, ax = plt.subplots(figsize=(15,8))\n",
    "plt.plot(pd.to_datetime(df2.private_sndStamp, unit='s'), df2['Position'])"
   ]
  },
  {
   "cell_type": "code",
   "execution_count": 17,
   "metadata": {},
   "outputs": [
    {
     "name": "stdout",
     "output_type": "stream",
     "text": [
      "10.00033387322435 -10.00037448268202 20.278015188227215 -20.320142106724177\n"
     ]
    }
   ],
   "source": [
    "print(max(df1.Position), min(df1.Position), max(df2.Position), min(df2.Position))"
   ]
  },
  {
   "cell_type": "code",
   "execution_count": null,
   "metadata": {},
   "outputs": [],
   "source": []
  }
 ],
 "metadata": {
  "kernelspec": {
   "display_name": "LSST",
   "language": "python",
   "name": "lsst"
  },
  "language_info": {
   "codemirror_mode": {
    "name": "ipython",
    "version": 3
   },
   "file_extension": ".py",
   "mimetype": "text/x-python",
   "name": "python",
   "nbconvert_exporter": "python",
   "pygments_lexer": "ipython3",
   "version": "3.7.8"
  }
 },
 "nbformat": 4,
 "nbformat_minor": 4
}
