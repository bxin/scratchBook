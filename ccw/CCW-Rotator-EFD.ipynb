{
 "cells": [
  {
   "cell_type": "markdown",
   "metadata": {},
   "source": [
    "# DM-25824: Rotator/CCW synchronization test\n",
    "\n",
    "This notebook contains queries to the EFD to analyse the data from the CCW-Rotator synchronization test.\n",
    "\n",
    "The test consists of performing repetitive movements with the Rotator to see if the CCW can keep up.\n",
    "\n",
    "The test can be driven by a notebook (`CCW-Rotator-IT.ipynb`) or using a Script (`maintel/integration_tests/ccw_rotator_stress.py` in `ts_standardscripts`)."
   ]
  },
  {
   "cell_type": "code",
   "execution_count": 1,
   "metadata": {},
   "outputs": [
    {
     "data": {
      "text/plain": [
       "<Figure size 432x288 with 0 Axes>"
      ]
     },
     "metadata": {},
     "output_type": "display_data"
    }
   ],
   "source": [
    "import numpy as np\n",
    "import pandas as pd\n",
    "\n",
    "from astropy.time import Time\n",
    "from datetime import timedelta, datetime\n",
    "\n",
    "import lsst_efd_client\n",
    "\n",
    "import matplotlib.pyplot as plt\n",
    "\n",
    "plt.jet()\n",
    "\n",
    "from pandas.plotting import register_matplotlib_converters\n",
    "register_matplotlib_converters();"
   ]
  },
  {
   "cell_type": "code",
   "execution_count": 2,
   "metadata": {},
   "outputs": [],
   "source": [
    "client = lsst_efd_client.EfdClient('summit_efd')"
   ]
  },
  {
   "cell_type": "markdown",
   "metadata": {},
   "source": [
    "## Querying data from EFD\n",
    "\n",
    "The time set below is for when the test was originally performed at NCSA. This can be modified to query/analyse data taken on different runs."
   ]
  },
  {
   "cell_type": "code",
   "execution_count": 3,
   "metadata": {},
   "outputs": [],
   "source": [
    "start = Time('2020-11-12T14:10:00') #this is UTC\n",
    "end = Time('2020-11-12T14:30:00')"
   ]
  },
  {
   "cell_type": "markdown",
   "metadata": {},
   "source": [
    "Basically we want to compare the Rotator position, which is in the `Rotator.Application` topic, and the Camera Cable Wrap position, in the `MTMount.Camera_Cable_Wrap` topic.\n",
    "\n",
    "One thing to remember is that, since the data is sent asynchronously by two different components, we need to resample them to the same time domain in order to be able to compare them. This is done using the `resample` utility method provided by `lsst_efd_client`, and it performs a simple interpolation to resample one data frame into another."
   ]
  },
  {
   "cell_type": "code",
   "execution_count": 20,
   "metadata": {},
   "outputs": [],
   "source": [
    "rot = await client.select_time_series('lsst.sal.Rotator.Application', 'Position, Demand, private_rcvStamp', \n",
    "                                     start.tai, end.tai)\n",
    "\n",
    "ccw = await client.select_time_series('lsst.sal.MTMount.Camera_Cable_Wrap', 'CCW_Angle_1, CCW_Speed_1, private_rcvStamp', \n",
    "                                     start.tai, end.tai)\n"
   ]
  },
  {
   "cell_type": "code",
   "execution_count": 5,
   "metadata": {},
   "outputs": [
    {
     "data": {
      "text/html": [
       "<div>\n",
       "<style scoped>\n",
       "    .dataframe tbody tr th:only-of-type {\n",
       "        vertical-align: middle;\n",
       "    }\n",
       "\n",
       "    .dataframe tbody tr th {\n",
       "        vertical-align: top;\n",
       "    }\n",
       "\n",
       "    .dataframe thead th {\n",
       "        text-align: right;\n",
       "    }\n",
       "</style>\n",
       "<table border=\"1\" class=\"dataframe\">\n",
       "  <thead>\n",
       "    <tr style=\"text-align: right;\">\n",
       "      <th></th>\n",
       "    </tr>\n",
       "  </thead>\n",
       "  <tbody>\n",
       "  </tbody>\n",
       "</table>\n",
       "</div>"
      ],
      "text/plain": [
       "Empty DataFrame\n",
       "Columns: []\n",
       "Index: []"
      ]
     },
     "execution_count": 5,
     "metadata": {},
     "output_type": "execute_result"
    }
   ],
   "source": [
    "#rotcmd = await client.select_time_series('lsst.sal.Rotator.command_move', 'state', start.tai, end.tai)\n",
    "rotcmd = await client.select_time_series('lsst.sal.Rotator.positionSet', 'angle', start.tai, end.tai)\n",
    "\n",
    "rotcmd"
   ]
  },
  {
   "cell_type": "code",
   "execution_count": 19,
   "metadata": {},
   "outputs": [
    {
     "data": {
      "text/plain": [
       "2020-11-12 14:10:37.007000+00:00   2020-11-12 14:10:13.823267460\n",
       "2020-11-12 14:10:37.108000+00:00   2020-11-12 14:10:13.914457083\n",
       "2020-11-12 14:10:37.207000+00:00   2020-11-12 14:10:14.004540205\n",
       "2020-11-12 14:10:37.305000+00:00   2020-11-12 14:10:14.094060421\n",
       "2020-11-12 14:10:37.404000+00:00   2020-11-12 14:10:14.184363842\n",
       "                                                ...             \n",
       "2020-11-12 14:30:36.506000+00:00   2020-11-12 14:28:24.267923831\n",
       "2020-11-12 14:30:36.604000+00:00   2020-11-12 14:28:24.356696367\n",
       "2020-11-12 14:30:36.705000+00:00   2020-11-12 14:28:24.448664427\n",
       "2020-11-12 14:30:36.801000+00:00   2020-11-12 14:28:24.536482573\n",
       "2020-11-12 14:30:36.903000+00:00   2020-11-12 14:28:24.629239559\n",
       "Name: private_rcvStamp, Length: 12000, dtype: datetime64[ns]"
      ]
     },
     "execution_count": 19,
     "metadata": {},
     "output_type": "execute_result"
    }
   ],
   "source": [
    "pd.to_datetime(ccw['private_rcvStamp'],unit='s')"
   ]
  },
  {
   "cell_type": "code",
   "execution_count": null,
   "metadata": {},
   "outputs": [],
   "source": [
    "rot = rot.set_index('private_rcvStamp')\n",
    "ccw = ccw.set_index('private_rcvStamp')"
   ]
  },
  {
   "cell_type": "code",
   "execution_count": 26,
   "metadata": {},
   "outputs": [],
   "source": [
    "rot_ccw_resampled = lsst_efd_client.resample(rot, ccw)"
   ]
  },
  {
   "cell_type": "markdown",
   "metadata": {},
   "source": [
    "## Rotator vs CCW Position.\n",
    "\n",
    "The plot below show a direct comparison of the Rotator position with the CCW position."
   ]
  },
  {
   "cell_type": "code",
   "execution_count": 28,
   "metadata": {},
   "outputs": [
    {
     "data": {
      "text/html": [
       "<div>\n",
       "<style scoped>\n",
       "    .dataframe tbody tr th:only-of-type {\n",
       "        vertical-align: middle;\n",
       "    }\n",
       "\n",
       "    .dataframe tbody tr th {\n",
       "        vertical-align: top;\n",
       "    }\n",
       "\n",
       "    .dataframe thead th {\n",
       "        text-align: right;\n",
       "    }\n",
       "</style>\n",
       "<table border=\"1\" class=\"dataframe\">\n",
       "  <thead>\n",
       "    <tr style=\"text-align: right;\">\n",
       "      <th></th>\n",
       "      <th>Position</th>\n",
       "      <th>Demand</th>\n",
       "    </tr>\n",
       "    <tr>\n",
       "      <th>private_rcvStamp</th>\n",
       "      <th></th>\n",
       "      <th></th>\n",
       "    </tr>\n",
       "  </thead>\n",
       "  <tbody>\n",
       "    <tr>\n",
       "      <th>1.605190e+09</th>\n",
       "      <td>-12.722947</td>\n",
       "      <td>-12.722972</td>\n",
       "    </tr>\n",
       "    <tr>\n",
       "      <th>1.605190e+09</th>\n",
       "      <td>-12.722947</td>\n",
       "      <td>-12.722972</td>\n",
       "    </tr>\n",
       "    <tr>\n",
       "      <th>1.605190e+09</th>\n",
       "      <td>-12.722949</td>\n",
       "      <td>-12.722972</td>\n",
       "    </tr>\n",
       "    <tr>\n",
       "      <th>1.605190e+09</th>\n",
       "      <td>-12.722947</td>\n",
       "      <td>-12.722972</td>\n",
       "    </tr>\n",
       "    <tr>\n",
       "      <th>1.605190e+09</th>\n",
       "      <td>-12.722947</td>\n",
       "      <td>-12.722972</td>\n",
       "    </tr>\n",
       "    <tr>\n",
       "      <th>...</th>\n",
       "      <td>...</td>\n",
       "      <td>...</td>\n",
       "    </tr>\n",
       "    <tr>\n",
       "      <th>1.605191e+09</th>\n",
       "      <td>40.398373</td>\n",
       "      <td>40.398351</td>\n",
       "    </tr>\n",
       "    <tr>\n",
       "      <th>1.605191e+09</th>\n",
       "      <td>40.398374</td>\n",
       "      <td>40.398351</td>\n",
       "    </tr>\n",
       "    <tr>\n",
       "      <th>1.605191e+09</th>\n",
       "      <td>40.398373</td>\n",
       "      <td>40.398351</td>\n",
       "    </tr>\n",
       "    <tr>\n",
       "      <th>1.605191e+09</th>\n",
       "      <td>40.398374</td>\n",
       "      <td>40.398351</td>\n",
       "    </tr>\n",
       "    <tr>\n",
       "      <th>1.605191e+09</th>\n",
       "      <td>40.398374</td>\n",
       "      <td>40.398351</td>\n",
       "    </tr>\n",
       "  </tbody>\n",
       "</table>\n",
       "<p>24001 rows × 2 columns</p>\n",
       "</div>"
      ],
      "text/plain": [
       "                   Position     Demand\n",
       "private_rcvStamp                      \n",
       "1.605190e+09     -12.722947 -12.722972\n",
       "1.605190e+09     -12.722947 -12.722972\n",
       "1.605190e+09     -12.722949 -12.722972\n",
       "1.605190e+09     -12.722947 -12.722972\n",
       "1.605190e+09     -12.722947 -12.722972\n",
       "...                     ...        ...\n",
       "1.605191e+09      40.398373  40.398351\n",
       "1.605191e+09      40.398374  40.398351\n",
       "1.605191e+09      40.398373  40.398351\n",
       "1.605191e+09      40.398374  40.398351\n",
       "1.605191e+09      40.398374  40.398351\n",
       "\n",
       "[24001 rows x 2 columns]"
      ]
     },
     "execution_count": 28,
     "metadata": {},
     "output_type": "execute_result"
    }
   ],
   "source": [
    "rot"
   ]
  },
  {
   "cell_type": "code",
   "execution_count": 29,
   "metadata": {},
   "outputs": [
    {
     "data": {
      "image/png": "[encoded data removed]",
      "text/plain": [
       "<Figure size 1368x432 with 1 Axes>"
      ]
     },
     "metadata": {
      "needs_background": "light"
     },
     "output_type": "display_data"
    }
   ],
   "source": [
    "fig = plt.figure(1, (19, 6))\n",
    "\n",
    "plt.plot(rot.Position,'x', label='rot position')\n",
    "plt.plot(rot.Demand,'-r', label='rot demand')\n",
    "plt.plot(ccw.CCW_Angle_1,'--', label='ccw angle')\n",
    "plt.plot(ccw.CCW_Speed_1,'-', label='ccw speed')\n",
    "\n",
    "\n",
    "plt.ylabel(\"Position (degrees)\")\n",
    "plt.xlabel(\"Time (TAI)\")\n",
    "plt.legend()\n",
    "\n",
    "plt.grid()"
   ]
  },
  {
   "cell_type": "markdown",
   "metadata": {},
   "source": [
    "The direct comparison above, althought good to understand what movement the Rotator was performing, does not allow a good comparison of how good the CCW was in following it. To highlight that, we use the resampled data to show the difference between Rotator and CCW position."
   ]
  },
  {
   "cell_type": "code",
   "execution_count": 30,
   "metadata": {},
   "outputs": [
    {
     "data": {
      "text/html": [
       "<div>\n",
       "<style scoped>\n",
       "    .dataframe tbody tr th:only-of-type {\n",
       "        vertical-align: middle;\n",
       "    }\n",
       "\n",
       "    .dataframe tbody tr th {\n",
       "        vertical-align: top;\n",
       "    }\n",
       "\n",
       "    .dataframe thead th {\n",
       "        text-align: right;\n",
       "    }\n",
       "</style>\n",
       "<table border=\"1\" class=\"dataframe\">\n",
       "  <thead>\n",
       "    <tr style=\"text-align: right;\">\n",
       "      <th></th>\n",
       "      <th>Position</th>\n",
       "      <th>Demand</th>\n",
       "      <th>CCW_Angle_1</th>\n",
       "      <th>CCW_Speed_1</th>\n",
       "    </tr>\n",
       "    <tr>\n",
       "      <th>private_rcvStamp</th>\n",
       "      <th></th>\n",
       "      <th></th>\n",
       "      <th></th>\n",
       "      <th></th>\n",
       "    </tr>\n",
       "  </thead>\n",
       "  <tbody>\n",
       "    <tr>\n",
       "      <th>1.605190e+09</th>\n",
       "      <td>NaN</td>\n",
       "      <td>NaN</td>\n",
       "      <td>-12.6879</td>\n",
       "      <td>0.0</td>\n",
       "    </tr>\n",
       "    <tr>\n",
       "      <th>1.605190e+09</th>\n",
       "      <td>NaN</td>\n",
       "      <td>NaN</td>\n",
       "      <td>-12.6879</td>\n",
       "      <td>0.0</td>\n",
       "    </tr>\n",
       "    <tr>\n",
       "      <th>1.605190e+09</th>\n",
       "      <td>NaN</td>\n",
       "      <td>NaN</td>\n",
       "      <td>-12.6879</td>\n",
       "      <td>0.0</td>\n",
       "    </tr>\n",
       "    <tr>\n",
       "      <th>1.605190e+09</th>\n",
       "      <td>NaN</td>\n",
       "      <td>NaN</td>\n",
       "      <td>-12.6879</td>\n",
       "      <td>0.0</td>\n",
       "    </tr>\n",
       "    <tr>\n",
       "      <th>1.605190e+09</th>\n",
       "      <td>NaN</td>\n",
       "      <td>NaN</td>\n",
       "      <td>-12.6879</td>\n",
       "      <td>0.0</td>\n",
       "    </tr>\n",
       "    <tr>\n",
       "      <th>...</th>\n",
       "      <td>...</td>\n",
       "      <td>...</td>\n",
       "      <td>...</td>\n",
       "      <td>...</td>\n",
       "    </tr>\n",
       "    <tr>\n",
       "      <th>1.605191e+09</th>\n",
       "      <td>40.398373</td>\n",
       "      <td>40.398351</td>\n",
       "      <td>40.1820</td>\n",
       "      <td>0.0</td>\n",
       "    </tr>\n",
       "    <tr>\n",
       "      <th>1.605191e+09</th>\n",
       "      <td>40.398374</td>\n",
       "      <td>40.398351</td>\n",
       "      <td>40.1820</td>\n",
       "      <td>0.0</td>\n",
       "    </tr>\n",
       "    <tr>\n",
       "      <th>1.605191e+09</th>\n",
       "      <td>40.398373</td>\n",
       "      <td>40.398351</td>\n",
       "      <td>40.1820</td>\n",
       "      <td>0.0</td>\n",
       "    </tr>\n",
       "    <tr>\n",
       "      <th>1.605191e+09</th>\n",
       "      <td>40.398374</td>\n",
       "      <td>40.398351</td>\n",
       "      <td>40.1820</td>\n",
       "      <td>0.0</td>\n",
       "    </tr>\n",
       "    <tr>\n",
       "      <th>1.605191e+09</th>\n",
       "      <td>40.398374</td>\n",
       "      <td>40.398351</td>\n",
       "      <td>40.1820</td>\n",
       "      <td>0.0</td>\n",
       "    </tr>\n",
       "  </tbody>\n",
       "</table>\n",
       "<p>36001 rows × 4 columns</p>\n",
       "</div>"
      ],
      "text/plain": [
       "                   Position     Demand  CCW_Angle_1  CCW_Speed_1\n",
       "private_rcvStamp                                                \n",
       "1.605190e+09            NaN        NaN     -12.6879          0.0\n",
       "1.605190e+09            NaN        NaN     -12.6879          0.0\n",
       "1.605190e+09            NaN        NaN     -12.6879          0.0\n",
       "1.605190e+09            NaN        NaN     -12.6879          0.0\n",
       "1.605190e+09            NaN        NaN     -12.6879          0.0\n",
       "...                     ...        ...          ...          ...\n",
       "1.605191e+09      40.398373  40.398351      40.1820          0.0\n",
       "1.605191e+09      40.398374  40.398351      40.1820          0.0\n",
       "1.605191e+09      40.398373  40.398351      40.1820          0.0\n",
       "1.605191e+09      40.398374  40.398351      40.1820          0.0\n",
       "1.605191e+09      40.398374  40.398351      40.1820          0.0\n",
       "\n",
       "[36001 rows x 4 columns]"
      ]
     },
     "execution_count": 30,
     "metadata": {},
     "output_type": "execute_result"
    }
   ],
   "source": [
    "rot_ccw_resampled"
   ]
  },
  {
   "cell_type": "code",
   "execution_count": 31,
   "metadata": {},
   "outputs": [
    {
     "data": {
      "image/png": "[encoded data removed]",
      "text/plain": [
       "<Figure size 864x432 with 1 Axes>"
      ]
     },
     "metadata": {
      "needs_background": "light"
     },
     "output_type": "display_data"
    }
   ],
   "source": [
    "fig = plt.figure(1, (12, 6))\n",
    "\n",
    "plt.fill_between(rot_ccw_resampled.index, \n",
    "                 np.zeros(len(rot_ccw_resampled.index))-0.5, \n",
    "                 np.zeros(len(rot_ccw_resampled.index))+0.5, \n",
    "                 alpha=0.2, color='g')\n",
    "plt.fill_between(rot_ccw_resampled.index, \n",
    "                 np.zeros(len(rot_ccw_resampled.index))+0.5, \n",
    "                 np.zeros(len(rot_ccw_resampled.index))+1.0, \n",
    "                 alpha=0.2, color='b')\n",
    "plt.fill_between(rot_ccw_resampled.index, \n",
    "                 np.zeros(len(rot_ccw_resampled.index))-0.5, \n",
    "                 np.zeros(len(rot_ccw_resampled.index))-1.0, \n",
    "                 alpha=0.2, color='b')\n",
    "plt.fill_between(rot_ccw_resampled.index, \n",
    "                 np.zeros(len(rot_ccw_resampled.index))+1.0, \n",
    "                 np.zeros(len(rot_ccw_resampled.index))+2.0, \n",
    "                 alpha=0.2, color='r')\n",
    "plt.fill_between(rot_ccw_resampled.index, \n",
    "                 np.zeros(len(rot_ccw_resampled.index))-1.0, \n",
    "                 np.zeros(len(rot_ccw_resampled.index))-2.0, \n",
    "                 alpha=0.2, color='r')\n",
    "\n",
    "plt.plot(rot_ccw_resampled.index, np.zeros_like(rot_ccw_resampled.index)+2.0, \"r-\")\n",
    "plt.plot(rot_ccw_resampled.index, np.zeros_like(rot_ccw_resampled.index)+1.0, \"b-\")\n",
    "plt.plot(rot_ccw_resampled.index, np.zeros_like(rot_ccw_resampled.index)+0.5, \"g-\")\n",
    "\n",
    "plt.plot(rot_ccw_resampled.index, np.zeros_like(rot_ccw_resampled.index)-0.5, \"g-\")\n",
    "plt.plot(rot_ccw_resampled.index, np.zeros_like(rot_ccw_resampled.index)-1.0, \"b-\")\n",
    "plt.plot(rot_ccw_resampled.index, np.zeros_like(rot_ccw_resampled.index)-2.0, \"r-\")\n",
    "\n",
    "\n",
    "plt.plot(rot_ccw_resampled.Position-rot_ccw_resampled.CCW_Angle_1, '-')\n",
    "\n",
    "plt.ylabel(\"Rot - CCW (deg)\")\n",
    "plt.xlabel(\"Time (TAI)\")\n",
    "\n",
    "#plt.ylim(-2.5, 2.5)\n",
    "plt.ylim(-10, 30)\n",
    "plt.grid()"
   ]
  },
  {
   "cell_type": "code",
   "execution_count": null,
   "metadata": {},
   "outputs": [],
   "source": []
  }
 ],
 "metadata": {
  "kernelspec": {
   "display_name": "LSST",
   "language": "python",
   "name": "lsst"
  },
  "language_info": {
   "codemirror_mode": {
    "name": "ipython",
    "version": 3
   },
   "file_extension": ".py",
   "mimetype": "text/x-python",
   "name": "python",
   "nbconvert_exporter": "python",
   "pygments_lexer": "ipython3",
   "version": "3.7.8"
  }
 },
 "nbformat": 4,
 "nbformat_minor": 4
}
